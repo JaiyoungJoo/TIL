{
 "cells": [
  {
   "cell_type": "markdown",
   "id": "d5c008c2",
   "metadata": {},
   "source": [
    "# 어제에 대한 반성\n",
    "\n",
    "어제 프로젝트 작업 한다고 아무것도 안함\n",
    "\n",
    "좀 더 노력했으면 더 많은 걸 할 수 있었을 텐데..."
   ]
  },
  {
   "cell_type": "markdown",
   "id": "fa17b4ec",
   "metadata": {},
   "source": [
    "# 오늘\n",
    "\n",
    "어제하던 프로젝트를 계속 할 듯\n",
    "\n",
    "정보처리기사 책 꼭 보자\n"
   ]
  },
  {
   "cell_type": "markdown",
   "id": "9bb94e5c",
   "metadata": {},
   "source": [
    "# 스케쥴\n",
    "\n",
    "08:30 기상 분명 06:00에 일어났는데 계속 다시 잠 \n",
    "09:00 ~ 14:00 이어드림 인강듣기 인공지능-회귀분석 part 9 ch.4 확률 및 통계까지\n",
    "14:00 ~ 18:00 데이터 분석 프로젝트\n",
    "19:00 ~ 보강\n",
    "\n"
   ]
  },
  {
   "cell_type": "markdown",
   "id": "60641b4e",
   "metadata": {},
   "source": [
    "# 오늘 할 일"
   ]
  },
  {
   "cell_type": "code",
   "execution_count": null,
   "id": "e97ae738",
   "metadata": {},
   "outputs": [],
   "source": []
  },
  {
   "cell_type": "code",
   "execution_count": null,
   "id": "42ab96ff",
   "metadata": {},
   "outputs": [],
   "source": []
  },
  {
   "cell_type": "code",
   "execution_count": null,
   "id": "839415bb",
   "metadata": {},
   "outputs": [],
   "source": []
  },
  {
   "cell_type": "code",
   "execution_count": null,
   "id": "12885d02",
   "metadata": {},
   "outputs": [],
   "source": []
  },
  {
   "cell_type": "code",
   "execution_count": null,
   "id": "79690117",
   "metadata": {},
   "outputs": [],
   "source": []
  }
 ],
 "metadata": {
  "kernelspec": {
   "display_name": "Python 3 (ipykernel)",
   "language": "python",
   "name": "python3"
  },
  "language_info": {
   "codemirror_mode": {
    "name": "ipython",
    "version": 3
   },
   "file_extension": ".py",
   "mimetype": "text/x-python",
   "name": "python",
   "nbconvert_exporter": "python",
   "pygments_lexer": "ipython3",
   "version": "3.8.13"
  }
 },
 "nbformat": 4,
 "nbformat_minor": 5
}
