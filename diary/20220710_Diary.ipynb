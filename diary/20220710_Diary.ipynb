{
 "cells": [
  {
   "cell_type": "markdown",
   "id": "f57ea598",
   "metadata": {},
   "source": [
    "# 오늘\n",
    "\n",
    "시험 전날인데 공부하기 싫다...\n",
    "\n",
    "오늘 밤새서 해야 할듯\n",
    "\n",
    "내일 12시까지"
   ]
  }
 ],
 "metadata": {
  "kernelspec": {
   "display_name": "Python 3 (ipykernel)",
   "language": "python",
   "name": "python3"
  },
  "language_info": {
   "codemirror_mode": {
    "name": "ipython",
    "version": 3
   },
   "file_extension": ".py",
   "mimetype": "text/x-python",
   "name": "python",
   "nbconvert_exporter": "python",
   "pygments_lexer": "ipython3",
   "version": "3.8.13"
  }
 },
 "nbformat": 4,
 "nbformat_minor": 5
}
