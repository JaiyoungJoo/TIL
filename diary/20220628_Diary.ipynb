{
 "cells": [
  {
   "cell_type": "markdown",
   "id": "b4550929",
   "metadata": {},
   "source": [
    "# 오늘\n",
    "\n",
    "코딩 테스트가 끝남.\n",
    "\n",
    "한 문제도 제대로 못풀고 겨우 7점 맞음.\n",
    "\n",
    "앞으로 코딩 테스트 준비는 꾸준히 하고 딥러닝 인강 들어야 함.\n",
    "\n",
    "300제는 조금 미뤄두고 7월11일 정보처리 공부해야함."
   ]
  }
 ],
 "metadata": {
  "kernelspec": {
   "display_name": "Python 3 (ipykernel)",
   "language": "python",
   "name": "python3"
  },
  "language_info": {
   "codemirror_mode": {
    "name": "ipython",
    "version": 3
   },
   "file_extension": ".py",
   "mimetype": "text/x-python",
   "name": "python",
   "nbconvert_exporter": "python",
   "pygments_lexer": "ipython3",
   "version": "3.8.13"
  }
 },
 "nbformat": 4,
 "nbformat_minor": 5
}
