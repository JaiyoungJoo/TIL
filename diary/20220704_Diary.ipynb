{
 "cells": [
  {
   "cell_type": "markdown",
   "id": "e2f5fc77",
   "metadata": {},
   "source": [
    "# 오늘\n",
    "\n",
    "내일이 딥러닝 마지막 수업\n",
    "\n",
    "내일부터는 프로젝트 진행\n",
    "\n",
    "다음주 7월11일 월 2시 10분 정보처리기사 시험\n",
    "\n",
    "일단 인강 딥러닝 다 듣고 코테 인강 듣기"
   ]
  }
 ],
 "metadata": {
  "kernelspec": {
   "display_name": "Python 3 (ipykernel)",
   "language": "python",
   "name": "python3"
  },
  "language_info": {
   "codemirror_mode": {
    "name": "ipython",
    "version": 3
   },
   "file_extension": ".py",
   "mimetype": "text/x-python",
   "name": "python",
   "nbconvert_exporter": "python",
   "pygments_lexer": "ipython3",
   "version": "3.8.13"
  }
 },
 "nbformat": 4,
 "nbformat_minor": 5
}
