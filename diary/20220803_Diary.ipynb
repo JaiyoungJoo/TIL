{
 "cells": [
  {
   "cell_type": "markdown",
   "id": "f494d25b",
   "metadata": {},
   "source": [
    "# 오늘\n",
    "\n",
    "프로젝트 마무리하고 CV 인강 보고\n",
    "\n",
    "코테 준비하기"
   ]
  }
 ],
 "metadata": {
  "kernelspec": {
   "display_name": "Python 3 (ipykernel)",
   "language": "python",
   "name": "python3"
  },
  "language_info": {
   "codemirror_mode": {
    "name": "ipython",
    "version": 3
   },
   "file_extension": ".py",
   "mimetype": "text/x-python",
   "name": "python",
   "nbconvert_exporter": "python",
   "pygments_lexer": "ipython3",
   "version": "3.8.13"
  }
 },
 "nbformat": 4,
 "nbformat_minor": 5
}
