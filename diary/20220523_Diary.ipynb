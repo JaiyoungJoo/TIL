{
 "cells": [
  {
   "cell_type": "markdown",
   "id": "47929205",
   "metadata": {},
   "source": [
    "# 오늘 할 일\n",
    "\n",
    "오늘부터 인공지능 새로 수업한다. 이거 꼭 복습해야할 거 같다.\n",
    "\n",
    "인강 꼭 듣기\n",
    "\n",
    "정처리, 토익 공부 매일 해야함\n"
   ]
  },
  {
   "cell_type": "markdown",
   "id": "d5280926",
   "metadata": {},
   "source": [
    "# 스케쥴\n",
    "\n",
    "9:00 ~ 12:00 인공지능 강의\n",
    "\n",
    "13:00 ~ 15:00 프로젝트 발표회\n",
    "\n",
    "15:00 ~ 18:00 인공지능 수업\n"
   ]
  },
  {
   "cell_type": "code",
   "execution_count": null,
   "id": "0ddf844a",
   "metadata": {},
   "outputs": [],
   "source": []
  },
  {
   "cell_type": "code",
   "execution_count": null,
   "id": "879faf8c",
   "metadata": {},
   "outputs": [],
   "source": []
  },
  {
   "cell_type": "code",
   "execution_count": null,
   "id": "80653774",
   "metadata": {},
   "outputs": [],
   "source": []
  }
 ],
 "metadata": {
  "kernelspec": {
   "display_name": "Python 3 (ipykernel)",
   "language": "python",
   "name": "python3"
  },
  "language_info": {
   "codemirror_mode": {
    "name": "ipython",
    "version": 3
   },
   "file_extension": ".py",
   "mimetype": "text/x-python",
   "name": "python",
   "nbconvert_exporter": "python",
   "pygments_lexer": "ipython3",
   "version": "3.8.13"
  }
 },
 "nbformat": 4,
 "nbformat_minor": 5
}
