{
 "cells": [
  {
   "cell_type": "markdown",
   "id": "1e7f10be",
   "metadata": {},
   "source": [
    "# 오늘\n",
    "\n",
    "아아아아아아아아아아아아아아아아아아아아아아...\n",
    "\n",
    "집에 가서 잠만 자는데 이게 맞나??????"
   ]
  }
 ],
 "metadata": {
  "kernelspec": {
   "display_name": "Python 3 (ipykernel)",
   "language": "python",
   "name": "python3"
  },
  "language_info": {
   "codemirror_mode": {
    "name": "ipython",
    "version": 3
   },
   "file_extension": ".py",
   "mimetype": "text/x-python",
   "name": "python",
   "nbconvert_exporter": "python",
   "pygments_lexer": "ipython3",
   "version": "3.8.13"
  }
 },
 "nbformat": 4,
 "nbformat_minor": 5
}
