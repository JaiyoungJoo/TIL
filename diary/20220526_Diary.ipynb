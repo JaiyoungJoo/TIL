{
 "cells": [
  {
   "cell_type": "markdown",
   "id": "d9df1193",
   "metadata": {},
   "source": [
    "# 어제...\n",
    "\n",
    "두통이 있어서 일찍 잠\n",
    "\n",
    "오늘 아침 인강 들음"
   ]
  },
  {
   "cell_type": "markdown",
   "id": "b7c319ae",
   "metadata": {},
   "source": [
    "# 스케쥴\n",
    "\n",
    "9:00 ~ 12:00 인공지능 수업\n",
    "13:00 ~ 18:00 수업"
   ]
  },
  {
   "cell_type": "markdown",
   "id": "0c862567",
   "metadata": {},
   "source": [
    "# 오늘\n",
    "\n",
    "정보처리 공부\n",
    "\n",
    "토익 공부\n",
    "\n",
    "인공지능 인강"
   ]
  },
  {
   "cell_type": "code",
   "execution_count": 1,
   "id": "1c15a9a7",
   "metadata": {
    "scrolled": true
   },
   "outputs": [
    {
     "name": "stdout",
     "output_type": "stream",
     "text": [
      "\n",
      "1\n",
      "-2\n",
      "3.14\n",
      "\n"
     ]
    }
   ],
   "source": []
  },
  {
   "cell_type": "code",
   "execution_count": null,
   "id": "32259a7f",
   "metadata": {},
   "outputs": [],
   "source": []
  }
 ],
 "metadata": {
  "kernelspec": {
   "display_name": "Python 3 (ipykernel)",
   "language": "python",
   "name": "python3"
  },
  "language_info": {
   "codemirror_mode": {
    "name": "ipython",
    "version": 3
   },
   "file_extension": ".py",
   "mimetype": "text/x-python",
   "name": "python",
   "nbconvert_exporter": "python",
   "pygments_lexer": "ipython3",
   "version": "3.8.13"
  }
 },
 "nbformat": 4,
 "nbformat_minor": 5
}
