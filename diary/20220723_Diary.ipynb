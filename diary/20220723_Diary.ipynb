{
 "cells": [
  {
   "cell_type": "markdown",
   "id": "58ed8a2a",
   "metadata": {},
   "source": [
    "# 오늘\n",
    "\n",
    "하루종일 크롤링 연습하는 중\n",
    "\n",
    "코딩테스트 인강\n",
    "\n",
    "CV 인강 봐야 함"
   ]
  }
 ],
 "metadata": {
  "kernelspec": {
   "display_name": "Python 3 (ipykernel)",
   "language": "python",
   "name": "python3"
  },
  "language_info": {
   "codemirror_mode": {
    "name": "ipython",
    "version": 3
   },
   "file_extension": ".py",
   "mimetype": "text/x-python",
   "name": "python",
   "nbconvert_exporter": "python",
   "pygments_lexer": "ipython3",
   "version": "3.8.13"
  }
 },
 "nbformat": 4,
 "nbformat_minor": 5
}
