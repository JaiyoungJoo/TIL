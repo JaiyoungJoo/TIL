{
 "cells": [
  {
   "cell_type": "markdown",
   "id": "6a2a1a0b",
   "metadata": {},
   "source": [
    "# 오늘\n",
    "\n",
    "오늘은 아무것도 안했고...\n",
    "\n",
    "일단 CV 인강을 다 보긴 함.\n",
    "\n",
    "인강이 pytorch인데 너무 어렵고 봐도 모르는 거라서 대충 넘김.\n",
    "\n",
    "지금 제일 중요한 건 코딩테스트이고\n",
    "\n",
    "웹 개발 쪽은 조금씩 공부\n",
    "\n",
    "8월부터는 정보처리 공부도 해야함."
   ]
  }
 ],
 "metadata": {
  "kernelspec": {
   "display_name": "Python 3 (ipykernel)",
   "language": "python",
   "name": "python3"
  },
  "language_info": {
   "codemirror_mode": {
    "name": "ipython",
    "version": 3
   },
   "file_extension": ".py",
   "mimetype": "text/x-python",
   "name": "python",
   "nbconvert_exporter": "python",
   "pygments_lexer": "ipython3",
   "version": "3.8.13"
  }
 },
 "nbformat": 4,
 "nbformat_minor": 5
}
