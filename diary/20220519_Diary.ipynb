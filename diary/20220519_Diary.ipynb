{
 "cells": [
  {
   "cell_type": "markdown",
   "id": "f259709a",
   "metadata": {},
   "source": [
    "# 어제 한 일\n",
    "\n",
    "토익 리딩 2강\n",
    "\n",
    "토익 리스닝 \n",
    "\n",
    "정보처리기사 공부\n"
   ]
  },
  {
   "cell_type": "markdown",
   "id": "725fd0f8",
   "metadata": {},
   "source": [
    "# 스케쥴\n",
    "\n",
    "09:00 ~ 12:00 팀프로젝트\n",
    "\n",
    "13:00 ~ 18:00 인강, 데사스 정리\n",
    "\n"
   ]
  },
  {
   "cell_type": "code",
   "execution_count": null,
   "id": "0a7e36e9",
   "metadata": {},
   "outputs": [],
   "source": []
  },
  {
   "cell_type": "code",
   "execution_count": null,
   "id": "19258f0d",
   "metadata": {},
   "outputs": [],
   "source": []
  },
  {
   "cell_type": "code",
   "execution_count": null,
   "id": "12727574",
   "metadata": {},
   "outputs": [],
   "source": []
  },
  {
   "cell_type": "code",
   "execution_count": null,
   "id": "aa3b234a",
   "metadata": {},
   "outputs": [],
   "source": []
  },
  {
   "cell_type": "code",
   "execution_count": null,
   "id": "7514d9fc",
   "metadata": {},
   "outputs": [],
   "source": []
  }
 ],
 "metadata": {
  "kernelspec": {
   "display_name": "Python 3 (ipykernel)",
   "language": "python",
   "name": "python3"
  },
  "language_info": {
   "codemirror_mode": {
    "name": "ipython",
    "version": 3
   },
   "file_extension": ".py",
   "mimetype": "text/x-python",
   "name": "python",
   "nbconvert_exporter": "python",
   "pygments_lexer": "ipython3",
   "version": "3.8.13"
  }
 },
 "nbformat": 4,
 "nbformat_minor": 5
}
