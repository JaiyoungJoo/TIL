{
 "cells": [
  {
   "cell_type": "markdown",
   "id": "fdc52308",
   "metadata": {},
   "source": [
    "# 오늘\n",
    "\n",
    "딥러닝 복습 필요\n",
    "\n",
    "딥러닝 인강 보는 중\n",
    "\n",
    "코딩테스트 인강 - 하루에 한 문제씩 가능?\n",
    "\n",
    "머신러닝 300제 인강\n",
    "\n",
    "정보처리 공부"
   ]
  }
 ],
 "metadata": {
  "kernelspec": {
   "display_name": "Python 3 (ipykernel)",
   "language": "python",
   "name": "python3"
  },
  "language_info": {
   "codemirror_mode": {
    "name": "ipython",
    "version": 3
   },
   "file_extension": ".py",
   "mimetype": "text/x-python",
   "name": "python",
   "nbconvert_exporter": "python",
   "pygments_lexer": "ipython3",
   "version": "3.8.13"
  }
 },
 "nbformat": 4,
 "nbformat_minor": 5
}
