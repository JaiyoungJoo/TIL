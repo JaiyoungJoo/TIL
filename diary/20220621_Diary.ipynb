{
 "cells": [
  {
   "cell_type": "markdown",
   "id": "ecb0e2f4",
   "metadata": {},
   "source": [
    "# 오늘\n",
    "\n",
    "프로젝트 마지막 날 발표\n",
    "\n",
    "다들 잘함. 피피티도 잘 만든다.\n",
    "\n",
    "코딩테스트 인강 듣는 중.\n",
    "\n",
    "머신러닝 300제는 코딩테스트 이후 들을 계획\n",
    "\n",
    "내일부터 딥러닝 새로 배움\n",
    "\n",
    "딥러닝도 새로 인강 들어야 함.\n",
    "\n",
    "이번 주 토익 시험\n",
    "\n",
    "3주 후 정보처리시험"
   ]
  }
 ],
 "metadata": {
  "kernelspec": {
   "display_name": "Python 3 (ipykernel)",
   "language": "python",
   "name": "python3"
  },
  "language_info": {
   "codemirror_mode": {
    "name": "ipython",
    "version": 3
   },
   "file_extension": ".py",
   "mimetype": "text/x-python",
   "name": "python",
   "nbconvert_exporter": "python",
   "pygments_lexer": "ipython3",
   "version": "3.8.13"
  }
 },
 "nbformat": 4,
 "nbformat_minor": 5
}
