{
 "cells": [
  {
   "cell_type": "markdown",
   "id": "91112c3f",
   "metadata": {},
   "source": [
    "# 오늘\n",
    "\n",
    "다음주부터 프로젝트함\n",
    "\n",
    "월, 화 인강 듣고 수업 복습할 것"
   ]
  }
 ],
 "metadata": {
  "kernelspec": {
   "display_name": "Python 3 (ipykernel)",
   "language": "python",
   "name": "python3"
  },
  "language_info": {
   "codemirror_mode": {
    "name": "ipython",
    "version": 3
   },
   "file_extension": ".py",
   "mimetype": "text/x-python",
   "name": "python",
   "nbconvert_exporter": "python",
   "pygments_lexer": "ipython3",
   "version": "3.8.13"
  }
 },
 "nbformat": 4,
 "nbformat_minor": 5
}
