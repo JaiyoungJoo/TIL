{
 "cells": [
  {
   "cell_type": "markdown",
   "id": "02b38efb",
   "metadata": {},
   "source": [
    "# 프로젝트 2일째인데\n",
    "\n",
    "아무것도 한 게 없음.\n",
    "\n",
    "데이터를 못받음.\n",
    "\n",
    "코딩테스트만 인강 보는 중\n",
    "\n",
    "딥러닝 돌리는데 엄청 오래 걸림"
   ]
  }
 ],
 "metadata": {
  "kernelspec": {
   "display_name": "Python 3 (ipykernel)",
   "language": "python",
   "name": "python3"
  },
  "language_info": {
   "codemirror_mode": {
    "name": "ipython",
    "version": 3
   },
   "file_extension": ".py",
   "mimetype": "text/x-python",
   "name": "python",
   "nbconvert_exporter": "python",
   "pygments_lexer": "ipython3",
   "version": "3.8.13"
  }
 },
 "nbformat": 4,
 "nbformat_minor": 5
}
