{
 "cells": [
  {
   "cell_type": "markdown",
   "id": "38c7cd8a",
   "metadata": {},
   "source": [
    "# 오늘\n",
    "\n",
    "프로젝트 계속 진행중\n",
    "\n",
    "할 게  너무 많다. 완전 노가다임\n",
    "\n",
    "패캠 인강, 정보처리 공부 해야함"
   ]
  }
 ],
 "metadata": {
  "kernelspec": {
   "display_name": "Python 3 (ipykernel)",
   "language": "python",
   "name": "python3"
  },
  "language_info": {
   "codemirror_mode": {
    "name": "ipython",
    "version": 3
   },
   "file_extension": ".py",
   "mimetype": "text/x-python",
   "name": "python",
   "nbconvert_exporter": "python",
   "pygments_lexer": "ipython3",
   "version": "3.8.13"
  }
 },
 "nbformat": 4,
 "nbformat_minor": 5
}
