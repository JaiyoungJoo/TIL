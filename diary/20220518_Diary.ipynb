{
 "cells": [
  {
   "cell_type": "markdown",
   "id": "9f7a9fcd",
   "metadata": {},
   "source": [
    "# 어제 한 일\n",
    "\n",
    "어제 정보처리기사 조금 공부함\n",
    "\n",
    "오늘 아침에 토익 인강을 들으려고 했으나 다시 잠\n",
    "\n",
    "다시 자고 일어나니 피곤함이 사라짐...\n",
    "\n"
   ]
  },
  {
   "cell_type": "markdown",
   "id": "dcc653f0",
   "metadata": {},
   "source": [
    "# 스케쥴\n",
    "\n",
    "09:00 ~ 12:00 인강 듣는 중\n",
    "\n",
    "13:00 ~ 18:00 파이썬 numpy, pandas 정리"
   ]
  },
  {
   "cell_type": "markdown",
   "id": "4c2080fa",
   "metadata": {},
   "source": [
    "# 오늘 할 일\n",
    "\n",
    "인강 조금 듣고\n",
    "\n",
    "numpy , pandas 정리 하기\n",
    "\n",
    "프로젝트 더 다듬어야함\n"
   ]
  },
  {
   "cell_type": "markdown",
   "id": "16eecd97",
   "metadata": {},
   "source": []
  },
  {
   "cell_type": "markdown",
   "id": "874bab00",
   "metadata": {},
   "source": []
  },
  {
   "cell_type": "markdown",
   "id": "f513f747",
   "metadata": {},
   "source": []
  },
  {
   "cell_type": "markdown",
   "id": "2efd4683",
   "metadata": {},
   "source": []
  },
  {
   "cell_type": "markdown",
   "id": "3b9371f1",
   "metadata": {},
   "source": []
  },
  {
   "cell_type": "markdown",
   "id": "5c3fb362",
   "metadata": {},
   "source": []
  }
 ],
 "metadata": {
  "kernelspec": {
   "display_name": "Python 3 (ipykernel)",
   "language": "python",
   "name": "python3"
  },
  "language_info": {
   "codemirror_mode": {
    "name": "ipython",
    "version": 3
   },
   "file_extension": ".py",
   "mimetype": "text/x-python",
   "name": "python",
   "nbconvert_exporter": "python",
   "pygments_lexer": "ipython3",
   "version": "3.8.13"
  }
 },
 "nbformat": 4,
 "nbformat_minor": 5
}
