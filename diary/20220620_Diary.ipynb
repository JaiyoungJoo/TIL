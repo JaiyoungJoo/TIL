{
 "cells": [
  {
   "cell_type": "markdown",
   "id": "8ae9fe57",
   "metadata": {},
   "source": [
    "# 오늘\n",
    "\n",
    "오늘 프로젝트 마지막\n",
    "\n",
    "tensorflow를 설치함\n",
    "\n",
    "conda activate dl2 << 이렇게 들어가서\n",
    "\n",
    "jupyter notebook 들어간 다음\n",
    "\n",
    "import tensorflow as tf\n",
    "\n",
    "tf.__version__\n",
    "\n",
    "이렇게 버전 확인하면 2.8 나와야 함."
   ]
  },
  {
   "cell_type": "code",
   "execution_count": null,
   "id": "a504f89f",
   "metadata": {},
   "outputs": [],
   "source": []
  }
 ],
 "metadata": {
  "kernelspec": {
   "display_name": "Python 3 (ipykernel)",
   "language": "python",
   "name": "python3"
  },
  "language_info": {
   "codemirror_mode": {
    "name": "ipython",
    "version": 3
   },
   "file_extension": ".py",
   "mimetype": "text/x-python",
   "name": "python",
   "nbconvert_exporter": "python",
   "pygments_lexer": "ipython3",
   "version": "3.8.13"
  }
 },
 "nbformat": 4,
 "nbformat_minor": 5
}
