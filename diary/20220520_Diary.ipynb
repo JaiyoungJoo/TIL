{
 "cells": [
  {
   "cell_type": "markdown",
   "id": "b49a7c73",
   "metadata": {},
   "source": [
    "# 어제 한 일\n",
    "\n",
    "어제 토익 인강 하나 듣고 10시에 잠\n",
    "\n",
    "6시에 일어났는데 너무 피곤해서 다시 잠\n",
    "\n",
    "7시에 일어나도 피곤했음\n",
    "\n",
    "뭐지?"
   ]
  },
  {
   "cell_type": "markdown",
   "id": "1441175b",
   "metadata": {},
   "source": [
    "# 스케쥴\n",
    "\n",
    "09:00 ~ 12:00 팀 프로젝트 마무리\n",
    "13:00 ~ 18:00 과제 및 팀프로젝트 마무리\n"
   ]
  },
  {
   "cell_type": "markdown",
   "id": "14edc157",
   "metadata": {},
   "source": [
    "# 오늘 할 일\n",
    "\n",
    "인강 마무리 다 듣기\n",
    "\n",
    "넘파이, 판다스 정리 다 했음\n",
    "\n",
    "300제 마무리\n",
    "\n",
    "정보처리기사 공부, 토익 공부\n",
    "\n",
    "백준 문제 다시 풀기"
   ]
  },
  {
   "cell_type": "code",
   "execution_count": null,
   "id": "d6dfb202",
   "metadata": {},
   "outputs": [],
   "source": []
  }
 ],
 "metadata": {
  "kernelspec": {
   "display_name": "Python 3 (ipykernel)",
   "language": "python",
   "name": "python3"
  },
  "language_info": {
   "codemirror_mode": {
    "name": "ipython",
    "version": 3
   },
   "file_extension": ".py",
   "mimetype": "text/x-python",
   "name": "python",
   "nbconvert_exporter": "python",
   "pygments_lexer": "ipython3",
   "version": "3.8.13"
  }
 },
 "nbformat": 4,
 "nbformat_minor": 5
}
