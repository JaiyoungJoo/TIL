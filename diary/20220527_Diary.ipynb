{
 "cells": [
  {
   "cell_type": "markdown",
   "id": "e3b29152",
   "metadata": {},
   "source": [
    "# 어제...\n",
    "\n",
    "아무것도 안함\n"
   ]
  },
  {
   "cell_type": "markdown",
   "id": "fbb9bf52",
   "metadata": {},
   "source": [
    "# 스케쥴\n",
    "\n",
    "- 9:00 ~ 10:00 인강\n",
    "- 10:00 ~ 12:00 인공지능 수업\n",
    "- 13:00 ~ 18:00 인공지능 수업"
   ]
  }
 ],
 "metadata": {
  "kernelspec": {
   "display_name": "Python 3 (ipykernel)",
   "language": "python",
   "name": "python3"
  },
  "language_info": {
   "codemirror_mode": {
    "name": "ipython",
    "version": 3
   },
   "file_extension": ".py",
   "mimetype": "text/x-python",
   "name": "python",
   "nbconvert_exporter": "python",
   "pygments_lexer": "ipython3",
   "version": "3.8.13"
  }
 },
 "nbformat": 4,
 "nbformat_minor": 5
}
