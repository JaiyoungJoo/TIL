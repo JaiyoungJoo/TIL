{
 "cells": [
  {
   "cell_type": "markdown",
   "id": "c5729e4e",
   "metadata": {},
   "source": [
    "# 어제 한 일\n",
    "\n",
    "어제 피곤하고 두통이 있어 일찍 잠.\n"
   ]
  },
  {
   "cell_type": "markdown",
   "id": "bf2b2ba9",
   "metadata": {},
   "source": [
    "# 스케쥴\n",
    "\n"
   ]
  },
  {
   "cell_type": "markdown",
   "id": "098ed9c4",
   "metadata": {},
   "source": [
    "# 오늘 할 일\n",
    "\n",
    "정보처리기사 공부\n",
    "\n",
    "인강 다 듣기\n",
    "\n",
    "300제 풀기"
   ]
  },
  {
   "cell_type": "markdown",
   "id": "7549129d",
   "metadata": {},
   "source": []
  },
  {
   "cell_type": "markdown",
   "id": "059b66c1",
   "metadata": {},
   "source": []
  },
  {
   "cell_type": "markdown",
   "id": "42454131",
   "metadata": {},
   "source": []
  },
  {
   "cell_type": "markdown",
   "id": "710b8aa8",
   "metadata": {},
   "source": []
  },
  {
   "cell_type": "markdown",
   "id": "5cd2fd85",
   "metadata": {},
   "source": []
  },
  {
   "cell_type": "markdown",
   "id": "b66b926e",
   "metadata": {},
   "source": []
  },
  {
   "cell_type": "markdown",
   "id": "288a3464",
   "metadata": {},
   "source": []
  },
  {
   "cell_type": "markdown",
   "id": "ee263c0b",
   "metadata": {},
   "source": []
  },
  {
   "cell_type": "code",
   "execution_count": null,
   "id": "534b031a",
   "metadata": {},
   "outputs": [],
   "source": []
  },
  {
   "cell_type": "code",
   "execution_count": null,
   "id": "c2fbb825",
   "metadata": {},
   "outputs": [],
   "source": []
  },
  {
   "cell_type": "code",
   "execution_count": null,
   "id": "fd839528",
   "metadata": {},
   "outputs": [],
   "source": []
  }
 ],
 "metadata": {
  "kernelspec": {
   "display_name": "Python 3 (ipykernel)",
   "language": "python",
   "name": "python3"
  },
  "language_info": {
   "codemirror_mode": {
    "name": "ipython",
    "version": 3
   },
   "file_extension": ".py",
   "mimetype": "text/x-python",
   "name": "python",
   "nbconvert_exporter": "python",
   "pygments_lexer": "ipython3",
   "version": "3.8.13"
  }
 },
 "nbformat": 4,
 "nbformat_minor": 5
}
