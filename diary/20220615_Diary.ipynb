{
 "cells": [
  {
   "cell_type": "markdown",
   "id": "9e2b56b0",
   "metadata": {},
   "source": [
    "# 오늘\n",
    "\n",
    "아니 오늘 또 왜 목이랑 머리가 아프지?\n",
    "\n",
    "이유를 모르겠따.\n",
    "\n",
    "병원 다녀옴."
   ]
  }
 ],
 "metadata": {
  "kernelspec": {
   "display_name": "Python 3 (ipykernel)",
   "language": "python",
   "name": "python3"
  },
  "language_info": {
   "codemirror_mode": {
    "name": "ipython",
    "version": 3
   },
   "file_extension": ".py",
   "mimetype": "text/x-python",
   "name": "python",
   "nbconvert_exporter": "python",
   "pygments_lexer": "ipython3",
   "version": "3.8.13"
  }
 },
 "nbformat": 4,
 "nbformat_minor": 5
}
