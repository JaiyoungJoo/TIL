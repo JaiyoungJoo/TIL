{
 "cells": [
  {
   "cell_type": "markdown",
   "id": "85b817dc",
   "metadata": {},
   "source": [
    "# 오늘\n",
    "\n",
    "딥러닝 강의 시작\n",
    "\n",
    "들어야 할 인강\n",
    "\n",
    "300제, 딥러닝, 코딩테스트\n",
    "\n",
    "이번 주에 토익 시험\n",
    "\n",
    "7월11일 정보처리시험"
   ]
  }
 ],
 "metadata": {
  "kernelspec": {
   "display_name": "Python 3 (ipykernel)",
   "language": "python",
   "name": "python3"
  },
  "language_info": {
   "codemirror_mode": {
    "name": "ipython",
    "version": 3
   },
   "file_extension": ".py",
   "mimetype": "text/x-python",
   "name": "python",
   "nbconvert_exporter": "python",
   "pygments_lexer": "ipython3",
   "version": "3.8.13"
  }
 },
 "nbformat": 4,
 "nbformat_minor": 5
}
