{
 "cells": [
  {
   "cell_type": "markdown",
   "id": "772b4284",
   "metadata": {},
   "source": [
    "# 어제에 대한 반성\n",
    "\n",
    "어제 점심 때 뷔페를 먹고 하루 종일 아무 것도 안함.\n",
    "\n",
    "오랜만에 운동해서 근육통 + 소화 불량 등의 핑계가 있지만\n",
    "\n",
    "아무것도 안한 것은 좀 심했다."
   ]
  },
  {
   "cell_type": "markdown",
   "id": "b045c4c4",
   "metadata": {},
   "source": [
    "# 오늘\n",
    "\n",
    "오늘부터 새로운 프로젝트가 시작된다.\n",
    "\n",
    "패스트캠퍼스 데이터를 가지고 데이터 분석 프로젝트를 한다.\n",
    "\n",
    "파이썬 공부를 다시 해야 할 듯.\n",
    "\n",
    "깃허브 contribution에 표시가 안되어서 아이디와 이메일을 다시 확인했다.\n",
    "\n",
    "아이디와 이메일은 정상이었지만 {  } 이상한 표시를 하는 바람에 오류가 난 것 같다.\n",
    "\n",
    "앞으로 주피터 노트북으로 작업하기로 함.\n",
    "\n",
    "작업 결과물을 github에 올려서 포트폴리오용으로 만들 예정."
   ]
  },
  {
   "cell_type": "markdown",
   "id": "78158853",
   "metadata": {},
   "source": [
    "# 스케쥴\n",
    "\n",
    "08:30 기상 (사실 6시에 일어났지만 근육통 등의 핑계로 다시 잠)\n",
    "09:00 이어드림스쿨 줌 시작\n",
    "12:00 점심 안먹음\n",
    "02:30 점심 먹음\n",
    "06:00 이어드림스쿨 끝\n",
    "07:00 보충 수업\n",
    "10:00 보충 수업 끝"
   ]
  },
  {
   "cell_type": "markdown",
   "id": "96a8e0f2",
   "metadata": {},
   "source": [
    "# 오늘 해야 할 일\n",
    "\n",
    "1. 데이터 분석\n",
    "\n",
    "2. 정보처리기사 공부\n",
    "\n",
    "3. 깃허브 올리기\n",
    "\n",
    "4. 운동 꼭 하기"
   ]
  },
  {
   "cell_type": "markdown",
   "id": "78df3ee7",
   "metadata": {},
   "source": [
    "# 앞으로 해야 할 일\n",
    "\n",
    "인강 인공지능 회귀분석 인강 듣기\n",
    "\n",
    "인강 내용 자료 정리\n",
    "\n",
    "파이썬 300제 200번까지 풀기\n",
    "\n",
    "백준 5단계까지 풀기\n",
    "\n",
    "점프 투 파이썬 뒷부분 공부하기(그래야 300제 다 풀 수 있다.)\n",
    "\n",
    "SQL 공부 > 해커랭크 문제 풀어보기\n",
    "\n",
    "매일 저녁 정보처리기사 1시간 씩 공부\n",
    "\n",
    "깃허브 매일 commit 하기\n",
    "\n",
    "깃허브 강의자료 보기"
   ]
  },
  {
   "cell_type": "markdown",
   "id": "d369ca2d",
   "metadata": {},
   "source": []
  },
  {
   "cell_type": "markdown",
   "id": "a477e256",
   "metadata": {},
   "source": []
  },
  {
   "cell_type": "markdown",
   "id": "e41b2585",
   "metadata": {},
   "source": []
  },
  {
   "cell_type": "markdown",
   "id": "e2b3a228",
   "metadata": {},
   "source": []
  },
  {
   "cell_type": "markdown",
   "id": "d7d3f8f0",
   "metadata": {},
   "source": []
  },
  {
   "cell_type": "markdown",
   "id": "6bf6d0a3",
   "metadata": {},
   "source": []
  },
  {
   "cell_type": "markdown",
   "id": "8d729911",
   "metadata": {},
   "source": []
  },
  {
   "cell_type": "markdown",
   "id": "b7e07bf0",
   "metadata": {},
   "source": []
  },
  {
   "cell_type": "markdown",
   "id": "09ca9554",
   "metadata": {},
   "source": []
  }
 ],
 "metadata": {
  "kernelspec": {
   "display_name": "Python 3 (ipykernel)",
   "language": "python",
   "name": "python3"
  },
  "language_info": {
   "codemirror_mode": {
    "name": "ipython",
    "version": 3
   },
   "file_extension": ".py",
   "mimetype": "text/x-python",
   "name": "python",
   "nbconvert_exporter": "python",
   "pygments_lexer": "ipython3",
   "version": "3.8.13"
  }
 },
 "nbformat": 4,
 "nbformat_minor": 5
}
