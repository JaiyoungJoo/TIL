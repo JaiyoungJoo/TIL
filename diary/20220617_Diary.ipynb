{
 "cells": [
  {
   "cell_type": "markdown",
   "id": "a88d1914",
   "metadata": {},
   "source": [
    "# 오늘\n",
    "\n",
    "프로젝트 거의 마지막\n",
    "\n",
    "다음주부터 딥러닝 배움\n",
    "\n",
    "프로그래머스 >> 코딩테스트 연습\n",
    "\n",
    "300제 인강 듣기\n",
    "\n",
    "코딩테스트 인강 예정"
   ]
  }
 ],
 "metadata": {
  "kernelspec": {
   "display_name": "Python 3 (ipykernel)",
   "language": "python",
   "name": "python3"
  },
  "language_info": {
   "codemirror_mode": {
    "name": "ipython",
    "version": 3
   },
   "file_extension": ".py",
   "mimetype": "text/x-python",
   "name": "python",
   "nbconvert_exporter": "python",
   "pygments_lexer": "ipython3",
   "version": "3.8.13"
  }
 },
 "nbformat": 4,
 "nbformat_minor": 5
}
