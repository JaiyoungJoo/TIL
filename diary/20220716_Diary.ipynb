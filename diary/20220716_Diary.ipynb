{
 "cells": [
  {
   "cell_type": "markdown",
   "id": "4ce89666",
   "metadata": {},
   "source": [
    "# 오늘\n",
    "\n",
    "CV 관련 인강 다 보기\n",
    "\n",
    "코테 관련 인강 보는 것 체크"
   ]
  }
 ],
 "metadata": {
  "kernelspec": {
   "display_name": "Python 3 (ipykernel)",
   "language": "python",
   "name": "python3"
  },
  "language_info": {
   "codemirror_mode": {
    "name": "ipython",
    "version": 3
   },
   "file_extension": ".py",
   "mimetype": "text/x-python",
   "name": "python",
   "nbconvert_exporter": "python",
   "pygments_lexer": "ipython3",
   "version": "3.8.13"
  }
 },
 "nbformat": 4,
 "nbformat_minor": 5
}
