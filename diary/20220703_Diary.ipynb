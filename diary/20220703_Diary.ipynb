{
 "cells": [
  {
   "cell_type": "markdown",
   "id": "3d41b891",
   "metadata": {},
   "source": [
    "# 오늘\n",
    "\n",
    "정보처리 다 보려고 했는데 못봄...\n",
    "\n",
    "근데 배운 내용 복습을 너무 안하는 듯..."
   ]
  }
 ],
 "metadata": {
  "kernelspec": {
   "display_name": "Python 3 (ipykernel)",
   "language": "python",
   "name": "python3"
  },
  "language_info": {
   "codemirror_mode": {
    "name": "ipython",
    "version": 3
   },
   "file_extension": ".py",
   "mimetype": "text/x-python",
   "name": "python",
   "nbconvert_exporter": "python",
   "pygments_lexer": "ipython3",
   "version": "3.8.13"
  }
 },
 "nbformat": 4,
 "nbformat_minor": 5
}
