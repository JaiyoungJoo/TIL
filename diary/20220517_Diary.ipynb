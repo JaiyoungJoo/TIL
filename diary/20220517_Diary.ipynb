{
 "cells": [
  {
   "cell_type": "markdown",
   "id": "768e2a51",
   "metadata": {},
   "source": [
    "# 어제 한 일\n",
    "\n",
    "토익 접수했음\n",
    "\n",
    "토익 인강 신청 했음\n",
    "\n"
   ]
  },
  {
   "cell_type": "markdown",
   "id": "2986b8da",
   "metadata": {},
   "source": [
    "# 시험 관련\n",
    "\n",
    "토익 : 6월12일(일), 6월26일(일) 9시20분까지\n",
    "\n",
    "정보처리기사 6월7일 원서접수 7월2일 시험\n"
   ]
  },
  {
   "cell_type": "markdown",
   "id": "2bb2b760",
   "metadata": {},
   "source": [
    "# 스케쥴\n",
    "\n",
    "09:00 ~ 12:00 프로젝트 조별토의\n",
    "13:00 ~ 16:00 인강 듣기\n",
    "16:00 ~ 18:00 조별 토의\n",
    "\n"
   ]
  },
  {
   "cell_type": "markdown",
   "id": "4e5153bb",
   "metadata": {},
   "source": [
    "정보처리기사 공부\n",
    "\n"
   ]
  },
  {
   "cell_type": "markdown",
   "id": "a5bfa246",
   "metadata": {},
   "source": []
  },
  {
   "cell_type": "markdown",
   "id": "ca7a5f1f",
   "metadata": {},
   "source": []
  },
  {
   "cell_type": "markdown",
   "id": "a4f1b76f",
   "metadata": {},
   "source": []
  },
  {
   "cell_type": "markdown",
   "id": "6569d4ed",
   "metadata": {},
   "source": []
  },
  {
   "cell_type": "markdown",
   "id": "769016e8",
   "metadata": {},
   "source": []
  },
  {
   "cell_type": "markdown",
   "id": "672559be",
   "metadata": {},
   "source": []
  },
  {
   "cell_type": "markdown",
   "id": "4f035d31",
   "metadata": {},
   "source": []
  },
  {
   "cell_type": "markdown",
   "id": "aa80edf5",
   "metadata": {},
   "source": []
  }
 ],
 "metadata": {
  "kernelspec": {
   "display_name": "Python 3 (ipykernel)",
   "language": "python",
   "name": "python3"
  },
  "language_info": {
   "codemirror_mode": {
    "name": "ipython",
    "version": 3
   },
   "file_extension": ".py",
   "mimetype": "text/x-python",
   "name": "python",
   "nbconvert_exporter": "python",
   "pygments_lexer": "ipython3",
   "version": "3.8.13"
  }
 },
 "nbformat": 4,
 "nbformat_minor": 5
}
