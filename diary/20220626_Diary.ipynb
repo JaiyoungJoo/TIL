{
 "cells": [
  {
   "cell_type": "markdown",
   "id": "4dc1037e",
   "metadata": {},
   "source": [
    "# 오늘\n",
    "\n",
    "토익 시험 보고옴\n",
    "\n",
    "주말 동안 코데 인강 다 보려 했으나 못했음"
   ]
  }
 ],
 "metadata": {
  "kernelspec": {
   "display_name": "Python 3 (ipykernel)",
   "language": "python",
   "name": "python3"
  },
  "language_info": {
   "codemirror_mode": {
    "name": "ipython",
    "version": 3
   },
   "file_extension": ".py",
   "mimetype": "text/x-python",
   "name": "python",
   "nbconvert_exporter": "python",
   "pygments_lexer": "ipython3",
   "version": "3.8.13"
  }
 },
 "nbformat": 4,
 "nbformat_minor": 5
}
