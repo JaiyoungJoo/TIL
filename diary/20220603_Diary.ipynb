{
 "cells": [
  {
   "cell_type": "markdown",
   "id": "a6429952",
   "metadata": {},
   "source": [
    "# 오늘\n",
    "\n",
    "오늘은 좀 살 것 같다.\n",
    "\n",
    "증상이 목감기로 바뀌었다.\n",
    "\n",
    "코로나 인 것 같다.\n",
    "\n",
    "새로운 프로젝트가 시작된다."
   ]
  }
 ],
 "metadata": {
  "kernelspec": {
   "display_name": "Python 3 (ipykernel)",
   "language": "python",
   "name": "python3"
  },
  "language_info": {
   "codemirror_mode": {
    "name": "ipython",
    "version": 3
   },
   "file_extension": ".py",
   "mimetype": "text/x-python",
   "name": "python",
   "nbconvert_exporter": "python",
   "pygments_lexer": "ipython3",
   "version": "3.8.13"
  }
 },
 "nbformat": 4,
 "nbformat_minor": 5
}
