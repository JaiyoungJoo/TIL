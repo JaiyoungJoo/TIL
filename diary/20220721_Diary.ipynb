{
 "cells": [
  {
   "cell_type": "markdown",
   "id": "f1e834e2",
   "metadata": {},
   "source": [
    "# 오늘\n",
    "\n",
    "오늘부터 프로젝트 시작\n",
    "\n",
    "근데 일단 내 공부하는 걸 위주로 하자"
   ]
  },
  {
   "cell_type": "code",
   "execution_count": null,
   "id": "f4cc9386",
   "metadata": {},
   "outputs": [],
   "source": [
    "import copy\n",
    "\n",
    "def recurcive(array, n):\n",
    "    if len(array) == n:\n",
    "        operators_list.append(copy.deepcopy(array))\n",
    "        return\n",
    "\n",
    "    array.append(' ')\n",
    "    recurcive(array, n)\n",
    "    array.pop()\n",
    "\n",
    "    array.append('+')\n",
    "    recurcive(array, n)\n",
    "    array.pop()\n",
    "\n",
    "    array.append('-')\n",
    "    recurcive(array, n)\n",
    "    array.pop()\n",
    "\n",
    "t = int(input())\n",
    "for _ in range(t):\n",
    "    n = int(input())\n",
    "    operators_list = []\n",
    "    recurcive([], n - 1)\n",
    "    integer = [i for i in range(1, n+1)]\n",
    "\n",
    "    for operator in operators_list:\n",
    "        string = \"\"\n",
    "        for i in range(n-1):\n",
    "            string += str(integer[i]) + operator[i]\n",
    "        string += str(integer[-1])\n",
    "        if eval(string.replace(\" \", \"\")) == 0:\n",
    "            print(string)\n",
    "    print()"
   ]
  }
 ],
 "metadata": {
  "kernelspec": {
   "display_name": "Python 3 (ipykernel)",
   "language": "python",
   "name": "python3"
  },
  "language_info": {
   "codemirror_mode": {
    "name": "ipython",
    "version": 3
   },
   "file_extension": ".py",
   "mimetype": "text/x-python",
   "name": "python",
   "nbconvert_exporter": "python",
   "pygments_lexer": "ipython3",
   "version": "3.8.13"
  }
 },
 "nbformat": 4,
 "nbformat_minor": 5
}
