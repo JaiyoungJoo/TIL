{
 "cells": [
  {
   "cell_type": "markdown",
   "id": "135c2845",
   "metadata": {},
   "source": [
    "# 오늘\n",
    "\n",
    "일요일 토익 시험\n",
    "\n",
    "다음주 화요일 코딩테스트 -> 코딩 테스트 인강 최대한 보기\n",
    "\n",
    "주말에 코딩 테스트 인강 봐야함\n",
    "\n",
    "머신러닝 인강보기\n",
    "\n",
    "300제 인강보기"
   ]
  }
 ],
 "metadata": {
  "kernelspec": {
   "display_name": "Python 3 (ipykernel)",
   "language": "python",
   "name": "python3"
  },
  "language_info": {
   "codemirror_mode": {
    "name": "ipython",
    "version": 3
   },
   "file_extension": ".py",
   "mimetype": "text/x-python",
   "name": "python",
   "nbconvert_exporter": "python",
   "pygments_lexer": "ipython3",
   "version": "3.8.13"
  }
 },
 "nbformat": 4,
 "nbformat_minor": 5
}
