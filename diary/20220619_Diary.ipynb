{
 "cells": [
  {
   "cell_type": "markdown",
   "id": "b362df29",
   "metadata": {},
   "source": [
    "# 오늘\n",
    "\n",
    "오늘 약 안먹었음.\n",
    "\n",
    "화요일 프로젝트 끝\n",
    "\n",
    "일요일 토익 시험\n",
    "\n",
    "정보처리 2주 후 시험"
   ]
  }
 ],
 "metadata": {
  "kernelspec": {
   "display_name": "Python 3 (ipykernel)",
   "language": "python",
   "name": "python3"
  },
  "language_info": {
   "codemirror_mode": {
    "name": "ipython",
    "version": 3
   },
   "file_extension": ".py",
   "mimetype": "text/x-python",
   "name": "python",
   "nbconvert_exporter": "python",
   "pygments_lexer": "ipython3",
   "version": "3.8.13"
  }
 },
 "nbformat": 4,
 "nbformat_minor": 5
}
