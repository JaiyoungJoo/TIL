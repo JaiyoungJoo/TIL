{
 "cells": [
  {
   "cell_type": "markdown",
   "id": "81f63131",
   "metadata": {},
   "source": [
    "# 오늘...\n",
    "\n",
    "해야 할 일...\n",
    "\n",
    "그동안 배운 것들...프로젝트 작업한 것들 정리해서 코드로 블로그에 올리기\n",
    "\n",
    "인강 듣기\n",
    "1. 코딩 테스트\n",
    "2. CV\n",
    "3. 웹개발\n",
    "\n",
    "정보처리기사 실기 공부하기"
   ]
  }
 ],
 "metadata": {
  "kernelspec": {
   "display_name": "Python 3 (ipykernel)",
   "language": "python",
   "name": "python3"
  },
  "language_info": {
   "codemirror_mode": {
    "name": "ipython",
    "version": 3
   },
   "file_extension": ".py",
   "mimetype": "text/x-python",
   "name": "python",
   "nbconvert_exporter": "python",
   "pygments_lexer": "ipython3",
   "version": "3.8.13"
  }
 },
 "nbformat": 4,
 "nbformat_minor": 5
}
