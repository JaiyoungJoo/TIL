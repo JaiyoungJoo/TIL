{
 "cells": [
  {
   "cell_type": "markdown",
   "id": "5492ae78",
   "metadata": {},
   "source": [
    "# 오늘\n",
    "\n",
    "오늘도 놀았다.\n",
    "\n",
    "하하하...\n",
    "\n",
    "하\n",
    "하\n",
    "하\n"
   ]
  },
  {
   "cell_type": "code",
   "execution_count": null,
   "id": "4cbdd62b",
   "metadata": {},
   "outputs": [],
   "source": []
  }
 ],
 "metadata": {
  "kernelspec": {
   "display_name": "Python 3 (ipykernel)",
   "language": "python",
   "name": "python3"
  },
  "language_info": {
   "codemirror_mode": {
    "name": "ipython",
    "version": 3
   },
   "file_extension": ".py",
   "mimetype": "text/x-python",
   "name": "python",
   "nbconvert_exporter": "python",
   "pygments_lexer": "ipython3",
   "version": "3.8.13"
  }
 },
 "nbformat": 4,
 "nbformat_minor": 5
}
