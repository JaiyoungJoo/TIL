{
 "cells": [
  {
   "cell_type": "markdown",
   "id": "abf08d10",
   "metadata": {},
   "source": [
    "# 오늘\n",
    "\n",
    "이번 주 내내 프로젝트인데\n",
    "\n",
    "프로젝트는 가망이 없으니 인강을 듣는 중\n",
    "\n",
    "현재 300제 인강이 20개 cahpter 로 되어 있음\n",
    "\n",
    "하루에 2개 씩 목표로 할 것 "
   ]
  }
 ],
 "metadata": {
  "kernelspec": {
   "display_name": "Python 3 (ipykernel)",
   "language": "python",
   "name": "python3"
  },
  "language_info": {
   "codemirror_mode": {
    "name": "ipython",
    "version": 3
   },
   "file_extension": ".py",
   "mimetype": "text/x-python",
   "name": "python",
   "nbconvert_exporter": "python",
   "pygments_lexer": "ipython3",
   "version": "3.8.13"
  }
 },
 "nbformat": 4,
 "nbformat_minor": 5
}
