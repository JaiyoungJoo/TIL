{
 "cells": [
  {
   "cell_type": "markdown",
   "id": "f26a43af",
   "metadata": {},
   "source": [
    "# 7월13일 수요일\n",
    "\n",
    "정보처리기사 실시 책 구매함.\n",
    "\n",
    "해야 할 일\n",
    "\n",
    "지난 주 수업 복습\n",
    "\n",
    "딥러닝 인강\n",
    "\n",
    "CV 인강\n",
    "\n",
    "코테 인강"
   ]
  }
 ],
 "metadata": {
  "kernelspec": {
   "display_name": "Python 3 (ipykernel)",
   "language": "python",
   "name": "python3"
  },
  "language_info": {
   "codemirror_mode": {
    "name": "ipython",
    "version": 3
   },
   "file_extension": ".py",
   "mimetype": "text/x-python",
   "name": "python",
   "nbconvert_exporter": "python",
   "pygments_lexer": "ipython3",
   "version": "3.8.13"
  }
 },
 "nbformat": 4,
 "nbformat_minor": 5
}
