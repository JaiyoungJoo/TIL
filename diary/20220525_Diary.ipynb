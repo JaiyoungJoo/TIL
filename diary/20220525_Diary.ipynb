{
 "cells": [
  {
   "cell_type": "markdown",
   "id": "a604a626",
   "metadata": {},
   "source": [
    "# 어제,,,\n",
    "\n",
    "아무것도 안함\n",
    "\n",
    "집에 가면 아무것도 하기 싫다.\n",
    "\n",
    "아침에 토익 인강 들은게 다임"
   ]
  },
  {
   "cell_type": "markdown",
   "id": "4e344e3f",
   "metadata": {},
   "source": [
    "# 스케쥴\n",
    "\n",
    "9:00 ~ 12:00 인강 듣기\n",
    "\n",
    "13:00 ~ 18:00 인공지능 수업"
   ]
  },
  {
   "cell_type": "markdown",
   "id": "226c449a",
   "metadata": {},
   "source": [
    "# 오늘 할 일\n",
    "\n",
    "정보처리 꼭 봐야함\n",
    "\n",
    "토익 인강 봐야함"
   ]
  },
  {
   "cell_type": "code",
   "execution_count": null,
   "id": "843f266f",
   "metadata": {},
   "outputs": [],
   "source": []
  },
  {
   "cell_type": "code",
   "execution_count": null,
   "id": "443e5702",
   "metadata": {},
   "outputs": [],
   "source": []
  }
 ],
 "metadata": {
  "kernelspec": {
   "display_name": "Python 3 (ipykernel)",
   "language": "python",
   "name": "python3"
  },
  "language_info": {
   "codemirror_mode": {
    "name": "ipython",
    "version": 3
   },
   "file_extension": ".py",
   "mimetype": "text/x-python",
   "name": "python",
   "nbconvert_exporter": "python",
   "pygments_lexer": "ipython3",
   "version": "3.8.13"
  }
 },
 "nbformat": 4,
 "nbformat_minor": 5
}
