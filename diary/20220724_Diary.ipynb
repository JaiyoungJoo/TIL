{
 "cells": [
  {
   "cell_type": "markdown",
   "id": "b8a55f68",
   "metadata": {},
   "source": [
    "# 오늘\n",
    "\n",
    "계획 : 롤 챔피언 초상화를 딥러닝 해서 인물 사진이 얼마나 닮았나 확인하기\n",
    "\n",
    "원래는 나무위키에서 이미지를 크롤링 하려고 했으나 잘 안돼서 그냥 롤 데이터베이스를 이용\n",
    "\n",
    "문제점\n",
    "1. 초상화 사진 한장임.\n",
    "2. test 데이터가 없음\n"
   ]
  }
 ],
 "metadata": {
  "kernelspec": {
   "display_name": "Python 3 (ipykernel)",
   "language": "python",
   "name": "python3"
  },
  "language_info": {
   "codemirror_mode": {
    "name": "ipython",
    "version": 3
   },
   "file_extension": ".py",
   "mimetype": "text/x-python",
   "name": "python",
   "nbconvert_exporter": "python",
   "pygments_lexer": "ipython3",
   "version": "3.8.13"
  }
 },
 "nbformat": 4,
 "nbformat_minor": 5
}
