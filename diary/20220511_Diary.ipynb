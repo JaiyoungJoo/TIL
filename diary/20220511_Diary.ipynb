{
 "cells": [
  {
   "cell_type": "markdown",
   "id": "5c186bb7",
   "metadata": {},
   "source": [
    "# 어제 뭘 했나?\n",
    "\n",
    "한 게 없다."
   ]
  },
  {
   "cell_type": "markdown",
   "id": "395740eb",
   "metadata": {},
   "source": [
    "# 스케쥴\n",
    "\n",
    "08:00 오늘 수업 예습\n",
    "\n",
    "09:00 ~ 12:00 300제 문제 풀이 및 인강\n",
    "\n",
    "13:00 ~ 18:00 인공지능 - 회귀분석 강의 시작 >>> 코랩으로 수업 진행함\n"
   ]
  },
  {
   "cell_type": "markdown",
   "id": "876b22cd",
   "metadata": {},
   "source": [
    "# 오늘 뭐 할래?\n",
    "\n",
    "300제 100번까지 함\n",
    "\n",
    "인강 part9. ch5. 까지 들었는데 내용을 다 알아야 하는 건가?\n",
    "\n",
    "회귀분석 복습 필수임\n",
    "\n",
    "영어 공부 무조건 해야한다고!!!\n",
    "\n",
    "영문 위키피디아, 영문 논문 봐야 한다고!!!\n",
    "\n",
    "아침마다 토익 공부 해야하나?\n",
    "\n",
    "코딩 테스트에서 import 아무것도 못한다.\n",
    "\n"
   ]
  },
  {
   "cell_type": "code",
   "execution_count": null,
   "id": "f48b32dc",
   "metadata": {},
   "outputs": [],
   "source": []
  },
  {
   "cell_type": "code",
   "execution_count": null,
   "id": "12675dce",
   "metadata": {},
   "outputs": [],
   "source": []
  },
  {
   "cell_type": "code",
   "execution_count": null,
   "id": "51d1df27",
   "metadata": {},
   "outputs": [],
   "source": []
  },
  {
   "cell_type": "code",
   "execution_count": null,
   "id": "4563b96d",
   "metadata": {},
   "outputs": [],
   "source": []
  }
 ],
 "metadata": {
  "kernelspec": {
   "display_name": "Python 3 (ipykernel)",
   "language": "python",
   "name": "python3"
  },
  "language_info": {
   "codemirror_mode": {
    "name": "ipython",
    "version": 3
   },
   "file_extension": ".py",
   "mimetype": "text/x-python",
   "name": "python",
   "nbconvert_exporter": "python",
   "pygments_lexer": "ipython3",
   "version": "3.8.13"
  }
 },
 "nbformat": 4,
 "nbformat_minor": 5
}
