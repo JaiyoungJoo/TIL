{
 "cells": [
  {
   "cell_type": "markdown",
   "id": "8d3371aa",
   "metadata": {},
   "source": [
    "# 오늘 뭐해야 하나...\n",
    "\n",
    "일단 CV 인강을 듣고\n",
    "\n",
    "코테 인강 빨리 다 듣고 복습해야 하는데...\n"
   ]
  }
 ],
 "metadata": {
  "kernelspec": {
   "display_name": "Python 3 (ipykernel)",
   "language": "python",
   "name": "python3"
  },
  "language_info": {
   "codemirror_mode": {
    "name": "ipython",
    "version": 3
   },
   "file_extension": ".py",
   "mimetype": "text/x-python",
   "name": "python",
   "nbconvert_exporter": "python",
   "pygments_lexer": "ipython3",
   "version": "3.8.13"
  }
 },
 "nbformat": 4,
 "nbformat_minor": 5
}
