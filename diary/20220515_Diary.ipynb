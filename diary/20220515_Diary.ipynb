{
 "cells": [
  {
   "cell_type": "markdown",
   "id": "f297fdc1",
   "metadata": {},
   "source": [
    "# 어제 한 일\n",
    "\n",
    "300제 문제 풀이"
   ]
  },
  {
   "cell_type": "markdown",
   "id": "17aaf589",
   "metadata": {},
   "source": [
    "# 오늘 할 일\n",
    "\n",
    "인강 듣기\n",
    "\n",
    "300제 문제 풀이"
   ]
  },
  {
   "cell_type": "markdown",
   "id": "28dc8cd7",
   "metadata": {},
   "source": []
  },
  {
   "cell_type": "markdown",
   "id": "08c85b2f",
   "metadata": {},
   "source": []
  },
  {
   "cell_type": "markdown",
   "id": "f29b2d55",
   "metadata": {},
   "source": []
  },
  {
   "cell_type": "markdown",
   "id": "26526092",
   "metadata": {},
   "source": []
  },
  {
   "cell_type": "markdown",
   "id": "67761beb",
   "metadata": {},
   "source": []
  },
  {
   "cell_type": "markdown",
   "id": "ac0df3c9",
   "metadata": {},
   "source": []
  },
  {
   "cell_type": "markdown",
   "id": "476015c1",
   "metadata": {},
   "source": []
  },
  {
   "cell_type": "markdown",
   "id": "345226ac",
   "metadata": {},
   "source": []
  },
  {
   "cell_type": "markdown",
   "id": "54e0ceb2",
   "metadata": {},
   "source": []
  }
 ],
 "metadata": {
  "kernelspec": {
   "display_name": "Python 3 (ipykernel)",
   "language": "python",
   "name": "python3"
  },
  "language_info": {
   "codemirror_mode": {
    "name": "ipython",
    "version": 3
   },
   "file_extension": ".py",
   "mimetype": "text/x-python",
   "name": "python",
   "nbconvert_exporter": "python",
   "pygments_lexer": "ipython3",
   "version": "3.8.13"
  }
 },
 "nbformat": 4,
 "nbformat_minor": 5
}
