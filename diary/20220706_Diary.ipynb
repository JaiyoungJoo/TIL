{
 "cells": [
  {
   "cell_type": "markdown",
   "id": "37d952d9",
   "metadata": {},
   "source": [
    "# 오늘\n",
    "\n",
    "오늘 웹 페이지 만드는 수업함\n",
    "\n",
    "나중에 복습\n",
    "\n",
    "웹 페이지에 포트폴리오 만들기\n",
    "\n",
    "정보처리 기출 8회차 계속 암기\n",
    "\n"
   ]
  }
 ],
 "metadata": {
  "kernelspec": {
   "display_name": "Python 3 (ipykernel)",
   "language": "python",
   "name": "python3"
  },
  "language_info": {
   "codemirror_mode": {
    "name": "ipython",
    "version": 3
   },
   "file_extension": ".py",
   "mimetype": "text/x-python",
   "name": "python",
   "nbconvert_exporter": "python",
   "pygments_lexer": "ipython3",
   "version": "3.8.13"
  }
 },
 "nbformat": 4,
 "nbformat_minor": 5
}
