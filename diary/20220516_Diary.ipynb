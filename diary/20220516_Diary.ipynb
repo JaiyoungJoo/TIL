{
 "cells": [
  {
   "cell_type": "markdown",
   "id": "024c81ed",
   "metadata": {},
   "source": [
    "# 어제 한 일\n",
    "\n"
   ]
  },
  {
   "cell_type": "markdown",
   "id": "19d35789",
   "metadata": {},
   "source": [
    "# 스케쥴\n",
    "\n",
    "09:00 ~ 12:00 인공지능 -회귀분석 수업\n",
    "13:00 ~ 16:00 수업 끝 뭐가 뭔지 모르겠다. 어휴 \n",
    "16:00 ~ 18:00 인강 듣기\n",
    "\n"
   ]
  },
  {
   "cell_type": "markdown",
   "id": "7b330da2",
   "metadata": {},
   "source": [
    "# 오늘 할 일\n",
    "\n",
    "다시 학원 왔다.\n",
    "\n",
    "새로운 마음으로 다시 열심히 하자!\n",
    "\n",
    "인강 듣기\n",
    "\n",
    "파이썬 정리\n",
    "\n",
    "300제\n",
    "\n",
    "문제를 많이 풀어야 해!!\n",
    "\n",
    "프로젝트 하던거 다듬어야 해!\n",
    "\n",
    "sklearn 을 이용해 간단한 머신러닝 모델을 만들어봤다. \n",
    "\n",
    "뭔지도 모르고 그냥 하라는 대로 따라했다.\n",
    "\n",
    "따라한 것을 외워야 할 것 같다.\n",
    "\n"
   ]
  },
  {
   "cell_type": "markdown",
   "id": "0bdaaccc",
   "metadata": {},
   "source": []
  },
  {
   "cell_type": "markdown",
   "id": "0ca04cd4",
   "metadata": {},
   "source": []
  },
  {
   "cell_type": "markdown",
   "id": "9d208184",
   "metadata": {},
   "source": []
  },
  {
   "cell_type": "markdown",
   "id": "3d9a3204",
   "metadata": {},
   "source": []
  },
  {
   "cell_type": "markdown",
   "id": "27ff6725",
   "metadata": {},
   "source": []
  },
  {
   "cell_type": "markdown",
   "id": "0d86bffb",
   "metadata": {},
   "source": []
  },
  {
   "cell_type": "markdown",
   "id": "037f9df7",
   "metadata": {},
   "source": []
  },
  {
   "cell_type": "markdown",
   "id": "fe462a86",
   "metadata": {},
   "source": []
  },
  {
   "cell_type": "markdown",
   "id": "4b9c2e60",
   "metadata": {},
   "source": []
  }
 ],
 "metadata": {
  "kernelspec": {
   "display_name": "Python 3 (ipykernel)",
   "language": "python",
   "name": "python3"
  },
  "language_info": {
   "codemirror_mode": {
    "name": "ipython",
    "version": 3
   },
   "file_extension": ".py",
   "mimetype": "text/x-python",
   "name": "python",
   "nbconvert_exporter": "python",
   "pygments_lexer": "ipython3",
   "version": "3.8.13"
  }
 },
 "nbformat": 4,
 "nbformat_minor": 5
}
