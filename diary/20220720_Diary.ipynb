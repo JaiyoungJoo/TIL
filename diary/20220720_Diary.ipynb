{
 "cells": [
  {
   "cell_type": "markdown",
   "id": "26c678bc",
   "metadata": {},
   "source": [
    "# 오늘\n",
    "\n",
    "내일부터 프로젝트함\n",
    "\n",
    "지금 코딩 인강 듣는 중\n",
    "\n",
    "내일부터는 CV 다 들어야 함."
   ]
  }
 ],
 "metadata": {
  "kernelspec": {
   "display_name": "Python 3 (ipykernel)",
   "language": "python",
   "name": "python3"
  },
  "language_info": {
   "codemirror_mode": {
    "name": "ipython",
    "version": 3
   },
   "file_extension": ".py",
   "mimetype": "text/x-python",
   "name": "python",
   "nbconvert_exporter": "python",
   "pygments_lexer": "ipython3",
   "version": "3.8.13"
  }
 },
 "nbformat": 4,
 "nbformat_minor": 5
}
