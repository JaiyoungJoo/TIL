{
 "cells": [
  {
   "cell_type": "markdown",
   "id": "f4d477a1",
   "metadata": {},
   "source": [
    "# 어제 한 일\n",
    "\n",
    "정처기 앞부분 조금 공부\n",
    "\n",
    "파이썬 300제\n",
    "\n",
    "인강"
   ]
  },
  {
   "cell_type": "markdown",
   "id": "560ebc27",
   "metadata": {},
   "source": [
    "# 스케쥴\n",
    "\n",
    "06:30 ~ 8:00 걷기\n",
    "09:00 ~ 데이터 분석 프로젝트, 인강, 정처기 공부"
   ]
  },
  {
   "cell_type": "markdown",
   "id": "6bec792c",
   "metadata": {},
   "source": [
    "# 오늘 할 일\n",
    "\n",
    "정처기 공부\n",
    "\n",
    "인강\n",
    "\n",
    "파이썬 300제\n",
    "\n"
   ]
  },
  {
   "cell_type": "markdown",
   "id": "5ca769fb",
   "metadata": {},
   "source": [
    "# 해야 할 일\n",
    "\n",
    "인강 인공지능 회귀분석 인강 듣기\n",
    "\n",
    "인강 내용 자료 정리\n",
    "\n",
    "파이썬 300제 200번까지 풀기\n",
    "\n",
    "백준 5단계까지 풀기\n",
    "\n",
    "점프 투 파이썬 뒷부분 공부하기(그래야 300제 다 풀 수 있다.)\n",
    "\n",
    "퓨처스킬\n",
    "\n",
    "리트코드\n",
    "\n",
    "SQL 공부 > 해커랭크 문제 풀어보기\n",
    "\n",
    "매일 저녁 정보처리기사 1시간 씩 공부\n",
    "\n",
    "깃허브 매일 commit 하기\n",
    "\n",
    "깃허브 강의자료 보기"
   ]
  },
  {
   "cell_type": "code",
   "execution_count": null,
   "id": "84000cc6",
   "metadata": {},
   "outputs": [],
   "source": []
  },
  {
   "cell_type": "code",
   "execution_count": null,
   "id": "e1986a7a",
   "metadata": {},
   "outputs": [],
   "source": []
  },
  {
   "cell_type": "code",
   "execution_count": null,
   "id": "bf8511b4",
   "metadata": {},
   "outputs": [],
   "source": []
  },
  {
   "cell_type": "code",
   "execution_count": null,
   "id": "1d228960",
   "metadata": {},
   "outputs": [],
   "source": []
  },
  {
   "cell_type": "code",
   "execution_count": null,
   "id": "ca933d71",
   "metadata": {},
   "outputs": [],
   "source": []
  }
 ],
 "metadata": {
  "kernelspec": {
   "display_name": "Python 3 (ipykernel)",
   "language": "python",
   "name": "python3"
  },
  "language_info": {
   "codemirror_mode": {
    "name": "ipython",
    "version": 3
   },
   "file_extension": ".py",
   "mimetype": "text/x-python",
   "name": "python",
   "nbconvert_exporter": "python",
   "pygments_lexer": "ipython3",
   "version": "3.8.13"
  }
 },
 "nbformat": 4,
 "nbformat_minor": 5
}
