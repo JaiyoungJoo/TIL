{
 "cells": [
  {
   "cell_type": "markdown",
   "id": "e6e1bcfb",
   "metadata": {},
   "source": [
    "# 오늘\n",
    "\n",
    "정보처리기사 1차 합격\n",
    "\n",
    "2차는 9월\n",
    "\n",
    "할 일\n",
    "\n",
    "1. 코딩 테스트 인강 듣기\n",
    "\n",
    "2. 딥러닝 강의 녹화 영상 듣기\n",
    "\n",
    "3. 딥러닝 인강 듣기\n",
    "\n",
    "4. 앞으로 할 cv 인강 듣기"
   ]
  }
 ],
 "metadata": {
  "kernelspec": {
   "display_name": "Python 3 (ipykernel)",
   "language": "python",
   "name": "python3"
  },
  "language_info": {
   "codemirror_mode": {
    "name": "ipython",
    "version": 3
   },
   "file_extension": ".py",
   "mimetype": "text/x-python",
   "name": "python",
   "nbconvert_exporter": "python",
   "pygments_lexer": "ipython3",
   "version": "3.8.13"
  }
 },
 "nbformat": 4,
 "nbformat_minor": 5
}
