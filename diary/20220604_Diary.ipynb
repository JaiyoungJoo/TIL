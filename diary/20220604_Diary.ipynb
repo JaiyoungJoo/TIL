{
 "cells": [
  {
   "cell_type": "markdown",
   "id": "e90db4ab",
   "metadata": {},
   "source": [
    "# 오늘\n",
    "\n",
    "목 아프다.\n",
    "\n",
    "가래가 자꾸 생긴다.\n",
    "\n",
    "약 먹으면 졸립니다.\n",
    "\n",
    "힘이 없다.\n",
    "\n",
    "어휴"
   ]
  }
 ],
 "metadata": {
  "kernelspec": {
   "display_name": "Python 3 (ipykernel)",
   "language": "python",
   "name": "python3"
  },
  "language_info": {
   "codemirror_mode": {
    "name": "ipython",
    "version": 3
   },
   "file_extension": ".py",
   "mimetype": "text/x-python",
   "name": "python",
   "nbconvert_exporter": "python",
   "pygments_lexer": "ipython3",
   "version": "3.8.13"
  }
 },
 "nbformat": 4,
 "nbformat_minor": 5
}
