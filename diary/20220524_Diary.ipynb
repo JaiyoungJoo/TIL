{
 "cells": [
  {
   "cell_type": "markdown",
   "id": "543f2e01",
   "metadata": {},
   "source": [
    "# 어제 한 일\n",
    "\n",
    "새로 인공지능 배움\n",
    "\n",
    "복습해야 함\n",
    "\n",
    "정보처리 공부 너무 안한다\n",
    "\n",
    "토익 RC, LC 한강씩 하는 중\n",
    "\n",
    "매일 아침 LC 한강씩 하기\n",
    "\n"
   ]
  },
  {
   "cell_type": "markdown",
   "id": "3b443097",
   "metadata": {},
   "source": [
    "# 스케쥴\n",
    "\n",
    "09:00 ~ 12:00 인공지능 강의\n",
    "13:00 ~ \n",
    "15:00 상담 ML옵스를 해보자!\n"
   ]
  },
  {
   "cell_type": "code",
   "execution_count": null,
   "id": "e2c6f7e0",
   "metadata": {},
   "outputs": [],
   "source": []
  },
  {
   "cell_type": "code",
   "execution_count": null,
   "id": "91a533b0",
   "metadata": {},
   "outputs": [],
   "source": []
  },
  {
   "cell_type": "code",
   "execution_count": null,
   "id": "2cd33ca9",
   "metadata": {},
   "outputs": [],
   "source": []
  }
 ],
 "metadata": {
  "kernelspec": {
   "display_name": "Python 3 (ipykernel)",
   "language": "python",
   "name": "python3"
  },
  "language_info": {
   "codemirror_mode": {
    "name": "ipython",
    "version": 3
   },
   "file_extension": ".py",
   "mimetype": "text/x-python",
   "name": "python",
   "nbconvert_exporter": "python",
   "pygments_lexer": "ipython3",
   "version": "3.8.13"
  }
 },
 "nbformat": 4,
 "nbformat_minor": 5
}
