{
 "cells": [
  {
   "cell_type": "markdown",
   "id": "a5bcdb93",
   "metadata": {},
   "source": [
    "# 오늘...\n",
    "\n",
    "웹개발 재밌다!!!\n",
    "\n",
    "openCV도 재미있는데 그냥 포토샵을 쓰는게 좋지 않을까???\n",
    "\n",
    "라는 생각이 든다.\n",
    "\n",
    "공부할 거 많은데..........................."
   ]
  }
 ],
 "metadata": {
  "kernelspec": {
   "display_name": "Python 3 (ipykernel)",
   "language": "python",
   "name": "python3"
  },
  "language_info": {
   "codemirror_mode": {
    "name": "ipython",
    "version": 3
   },
   "file_extension": ".py",
   "mimetype": "text/x-python",
   "name": "python",
   "nbconvert_exporter": "python",
   "pygments_lexer": "ipython3",
   "version": "3.8.13"
  }
 },
 "nbformat": 4,
 "nbformat_minor": 5
}
