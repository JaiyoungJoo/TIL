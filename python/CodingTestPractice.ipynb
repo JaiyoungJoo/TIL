{
 "cells": [
  {
   "cell_type": "markdown",
   "id": "3f89725c",
   "metadata": {},
   "source": [
    "1. 백준 문제 \"음계\" (X)"
   ]
  },
  {
   "cell_type": "code",
   "execution_count": null,
   "id": "0968ef65",
   "metadata": {},
   "outputs": [],
   "source": [
    "a = list(map(int, input().split(' ')))\n",
    "# 문제 맨 처음 입력 받는게 제일 어려움.\n",
    "\n",
    "# 이렇게 하는 건 생각도 못함.\n",
    "ascending=True\n",
    "descending=True\n",
    "\n",
    "# 난 멍청하게 하나하나 숫자 일치하는지 노가다 하려고 했음\n",
    "for i in range(1,8):\n",
    "    if a[i]>a[i-1]: # 오름차순\n",
    "        descending=False\n",
    "    elif a[i]<a[i-1]: # 내림차순\n",
    "        ascending=False\n",
    "    else:\n",
    "        descending=False\n",
    "        ascending=False\n",
    "\n",
    "# 이렇게 따로 안쓰면 for문 돌때마다 print 함\n",
    "# ascending 이것도 이렇게 하나만 써야 함.\n",
    "if ascending:\n",
    "    print('ascending')\n",
    "elif descending:\n",
    "    print('descending')\n",
    "else:\n",
    "    print('mixed')"
   ]
  },
  {
   "cell_type": "markdown",
   "id": "9891c5d1",
   "metadata": {},
   "source": [
    "2. 백준 문제 \"블랙잭\" (X)\n",
    "\n",
    "문제 난이도:하(easy)\n",
    "\n",
    "문제 유형:배열, 완전 탐색\n",
    "\n",
    "시간:20분\n",
    "\n",
    "손도 못대겠음...\n",
    "\n",
    "랜덤으로 뽑는 거 어떻게 하는거임??\n",
    "\n",
    "근데 랜덤 뽑기 안하고 그냥 for문을 3개 돌려버렸네."
   ]
  },
  {
   "cell_type": "code",
   "execution_count": 8,
   "id": "5661b34c",
   "metadata": {},
   "outputs": [
    {
     "name": "stdout",
     "output_type": "stream",
     "text": [
      "5 21\n",
      "5 6 7 8 9\n",
      "21\n"
     ]
    }
   ],
   "source": [
    "n, m = list(map(int, input().split(' ')))\n",
    "data = list(map(int, input().split(' ')))\n",
    "# 여기까진 잘함.\n",
    "\n",
    "result=0\n",
    "length=len(data)\n",
    "\n",
    "# count=0 # 이건 왜 씀?\n",
    "for i in range(0, length):\n",
    "    for j in range(i+1, length): # i 바로 다음 수부터 for 돌림\n",
    "        for k in range(j+1, length): # j 바로 다음 수부터 for 돌림 i+2 이렇게 하면 안됨.\n",
    "            sum_value=data[i]+data[j]+data[k]\n",
    "            if sum_value<=m:\n",
    "                result=max(result,sum_value) # 와 이렇게 하면 기존의 result랑 sum_value랑 계속 비교함\n",
    "print(result)\n",
    "\n"
   ]
  },
  {
   "cell_type": "markdown",
   "id": "9360a910",
   "metadata": {},
   "source": [
    "3. 백준 문제 \"스택 수열\" (X)\n",
    "\n",
    "문제 난이도:하(easy)\n",
    "\n",
    "문제 유형:스택, 그리디\n",
    "\n",
    "시간:30분\n",
    "\n",
    "아니 이거 어떻게 하냐 진짜...\n",
    "\n",
    "문제 이해하는 것도 어렵다. 이해는 했지만...\n",
    "\n",
    "애초에 input을 어떻게 줘야 하는거냐?\n",
    "\n",
    "아무리 생각해도 어떻게 해야할 지 모르겠다.\n",
    "\n",
    "아니...해설을 봐도 모르겠는데?\n",
    "\n",
    "exit(0) # 종료 코드 - 이것도 처음 봄 !!\n",
    "\n",
    "print('\\n'.join(result)) # 가능한 경우 출력 - 이건 뭐임!\n",
    "\n",
    "한 줄 씩 출력하기\n",
    "\n",
    "아니 이거 진짜 말도 안됨..."
   ]
  },
  {
   "cell_type": "code",
   "execution_count": 9,
   "id": "079fb7f0",
   "metadata": {},
   "outputs": [
    {
     "name": "stdout",
     "output_type": "stream",
     "text": [
      "8\n",
      "4\n",
      "3\n",
      "6\n",
      "8\n",
      "7\n",
      "5\n",
      "2\n",
      "1\n",
      "+\n",
      "+\n",
      "+\n",
      "+\n",
      "-\n",
      "-\n",
      "+\n",
      "+\n",
      "-\n",
      "+\n",
      "+\n",
      "-\n",
      "-\n",
      "-\n",
      "-\n",
      "-\n"
     ]
    }
   ],
   "source": [
    "n = int(input()) # 이건 알겠음.\n",
    "\n",
    "count=1\n",
    "stack=[] # 스택을 쌓을 리스트\n",
    "result=[] # 결과로 추출할 리스트\n",
    "\n",
    "for i in range(1, n+1): # n개 만큼의 data를 만들기 위함\n",
    "    data=int(input()) \n",
    "    while count<= data: # 입력 받은 데이터에 도달할 때까지 삽입, 오름차순으로 하나씩 넣는 건가\n",
    "        stack.append(count)\n",
    "        count+=1\n",
    "        result.append('+') # count 하나씩 넣을 때마다 result에 '+' 넣음\n",
    "        # count가 data보다 커지면 while 나감\n",
    "    if stack[-1]==data: #마지막에 넣은 숫자가 data랑 같을 때\n",
    "        stack.pop() # 마지막 숫자 빼냄\n",
    "        result.append('-')\n",
    "    else: # 불가능한 경우\n",
    "        print('NO')\n",
    "        exit(0) # 종료 코드 - 이것도 처음 봄 !!\n",
    "        \n",
    "print('\\n'.join(result)) # 가능한 경우 출력 - 이건 뭐임!\n",
    "# 한 줄 씩 출력하기\n"
   ]
  },
  {
   "cell_type": "markdown",
   "id": "aa77c473",
   "metadata": {},
   "source": [
    "4. 백준 문제 \"프린터 큐\" (X)\n",
    "\n",
    "문제 난이도:하(easy)\n",
    "\n",
    "문제 유형:큐, 구현, 그리디\n",
    "\n",
    "시간:25분\n",
    "\n",
    "- 데이터의 개수(N<=100)가 많지 않으므로, 단순히 문제에서 요구하는 대로 구현\n",
    "- 현재 리스트에서 가장 큰 수가 앞에 올 때까지 회전시킨 뒤에 추출\n",
    "- 가장 큰 수가 M 이면서 가장 앞에 있을 때 프로그램을 종료\n",
    "\n",
    "미쳤다...이걸 어떻게 하냐 진짜...\n",
    "\n"
   ]
  },
  {
   "cell_type": "code",
   "execution_count": 11,
   "id": "151c6647",
   "metadata": {},
   "outputs": [
    {
     "name": "stdout",
     "output_type": "stream",
     "text": [
      "3\n",
      "1 0\n",
      "5\n",
      "1\n",
      "4 2\n",
      "1 2 3 4\n",
      "2\n",
      "6 0\n",
      "1 1 9 1 1 1\n",
      "5\n"
     ]
    }
   ],
   "source": [
    "test_case=int(input())\n",
    "for _ in range(test_case):\n",
    "    n, m = list(map(int, input().split(' '))) # 여기서 n은 필요 없음.\n",
    "    queue = list(map(int, input().split(' '))) # 여기까지 대충 할 수 있음\n",
    "    queue = [(i, idx) for idx, i in enumerate(queue)] # 이게 대박임...\n",
    "    # 앞에 중요도, 뒤에 순서가 들어감.\n",
    "    \n",
    "    count=0 # 인쇄 횟수\n",
    "    while True: # 무한 반복\n",
    "        if queue[0][0] == max(queue, key=lambda x:x[0])[0]:\n",
    "        # 큐의 맨 앞의 중요도가 max(queue, key=lambda x:x[0])[0] 이게 뭐임\n",
    "        # queue가 튜플이고 key라는 인자를 기준으로 max 값을 구함.\n",
    "        # key가 되는 값이 튜플임. 이 튜플의 앞의 값을 기준으로 함.\n",
    "        # 그럼 max값이( , ) 이렇게 튜플로 나오는데 그 앞에 있는 값\n",
    "        # 큐의 가장 큰 중요도와 동일 하다면?\n",
    "            count+=1\n",
    "            if queue[0][1] == m: # 찾고자 하는 순서\n",
    "                print(count)\n",
    "                break\n",
    "            else:\n",
    "                queue.pop(0) # 찾으려는게 아니면 인쇄하고 끝\n",
    "        else:\n",
    "            queue.append(queue.pop(0)) # 최대값이 아니면 뽑아서 맨 위에 붙임\n",
    "            # 이게 대박"
   ]
  },
  {
   "cell_type": "markdown",
   "id": "c58d594a",
   "metadata": {},
   "source": [
    "5. 백준 문제 \"키로거\" (X)\n",
    "\n",
    "문제 난이도:중(medium)\n",
    "\n",
    "문제 유형:스택, 구현, 그리디\n",
    "\n",
    "시간:40분\n",
    "\n",
    "1. 문자열 크기가 최대 1,000,000이므로 시뮬레이션 방식으로는 불가능\n",
    "2. 스택을 활용하여 선형시간 O(n) 문제를 해결할 수 있는 알고리즘을 설계\n",
    "\n",
    "1. 스택 2개를 만들고, 스택 2개의 중간 지점을 커서(cursor)로 간주\n",
    "2. 문자입력:왼쪽 스택에 원소 삽입\n",
    "3. -입력:왼쪽 스택에서 원소를 삭제\n",
    "4. <입력:왼쪽 스택에서 오른쪽 스택으로 원소를 이동\n",
    "5. >입력:오른쪽 스택에서 왼쪽 스택으로 원소 이동\n",
    "\n",
    "이거 백준에서 출력 초과라고 나옴 \n",
    "\n",
    "이유를 모름"
   ]
  },
  {
   "cell_type": "code",
   "execution_count": 13,
   "id": "578a1f4c",
   "metadata": {
    "collapsed": true
   },
   "outputs": [
    {
     "ename": "KeyboardInterrupt",
     "evalue": "Interrupted by user",
     "output_type": "error",
     "traceback": [
      "\u001b[1;31m---------------------------------------------------------------------------\u001b[0m",
      "\u001b[1;31mKeyboardInterrupt\u001b[0m                         Traceback (most recent call last)",
      "Input \u001b[1;32mIn [13]\u001b[0m, in \u001b[0;36m<cell line: 1>\u001b[1;34m()\u001b[0m\n\u001b[1;32m----> 1\u001b[0m test_case\u001b[38;5;241m=\u001b[39m\u001b[38;5;28mint\u001b[39m(\u001b[38;5;28;43minput\u001b[39;49m\u001b[43m(\u001b[49m\u001b[43m)\u001b[49m)\n\u001b[0;32m      2\u001b[0m \u001b[38;5;28;01mfor\u001b[39;00m _ \u001b[38;5;129;01min\u001b[39;00m \u001b[38;5;28mrange\u001b[39m(test_case):\n\u001b[0;32m      3\u001b[0m     left_stack\u001b[38;5;241m=\u001b[39m[]\n",
      "File \u001b[1;32m~\\miniforge3\\envs\\dl2\\lib\\site-packages\\ipykernel\\kernelbase.py:1177\u001b[0m, in \u001b[0;36mKernel.raw_input\u001b[1;34m(self, prompt)\u001b[0m\n\u001b[0;32m   1173\u001b[0m \u001b[38;5;28;01mif\u001b[39;00m \u001b[38;5;129;01mnot\u001b[39;00m \u001b[38;5;28mself\u001b[39m\u001b[38;5;241m.\u001b[39m_allow_stdin:\n\u001b[0;32m   1174\u001b[0m     \u001b[38;5;28;01mraise\u001b[39;00m StdinNotImplementedError(\n\u001b[0;32m   1175\u001b[0m         \u001b[38;5;124m\"\u001b[39m\u001b[38;5;124mraw_input was called, but this frontend does not support input requests.\u001b[39m\u001b[38;5;124m\"\u001b[39m\n\u001b[0;32m   1176\u001b[0m     )\n\u001b[1;32m-> 1177\u001b[0m \u001b[38;5;28;01mreturn\u001b[39;00m \u001b[38;5;28;43mself\u001b[39;49m\u001b[38;5;241;43m.\u001b[39;49m\u001b[43m_input_request\u001b[49m\u001b[43m(\u001b[49m\n\u001b[0;32m   1178\u001b[0m \u001b[43m    \u001b[49m\u001b[38;5;28;43mstr\u001b[39;49m\u001b[43m(\u001b[49m\u001b[43mprompt\u001b[49m\u001b[43m)\u001b[49m\u001b[43m,\u001b[49m\n\u001b[0;32m   1179\u001b[0m \u001b[43m    \u001b[49m\u001b[38;5;28;43mself\u001b[39;49m\u001b[38;5;241;43m.\u001b[39;49m\u001b[43m_parent_ident\u001b[49m\u001b[43m[\u001b[49m\u001b[38;5;124;43m\"\u001b[39;49m\u001b[38;5;124;43mshell\u001b[39;49m\u001b[38;5;124;43m\"\u001b[39;49m\u001b[43m]\u001b[49m\u001b[43m,\u001b[49m\n\u001b[0;32m   1180\u001b[0m \u001b[43m    \u001b[49m\u001b[38;5;28;43mself\u001b[39;49m\u001b[38;5;241;43m.\u001b[39;49m\u001b[43mget_parent\u001b[49m\u001b[43m(\u001b[49m\u001b[38;5;124;43m\"\u001b[39;49m\u001b[38;5;124;43mshell\u001b[39;49m\u001b[38;5;124;43m\"\u001b[39;49m\u001b[43m)\u001b[49m\u001b[43m,\u001b[49m\n\u001b[0;32m   1181\u001b[0m \u001b[43m    \u001b[49m\u001b[43mpassword\u001b[49m\u001b[38;5;241;43m=\u001b[39;49m\u001b[38;5;28;43;01mFalse\u001b[39;49;00m\u001b[43m,\u001b[49m\n\u001b[0;32m   1182\u001b[0m \u001b[43m\u001b[49m\u001b[43m)\u001b[49m\n",
      "File \u001b[1;32m~\\miniforge3\\envs\\dl2\\lib\\site-packages\\ipykernel\\kernelbase.py:1219\u001b[0m, in \u001b[0;36mKernel._input_request\u001b[1;34m(self, prompt, ident, parent, password)\u001b[0m\n\u001b[0;32m   1216\u001b[0m             \u001b[38;5;28;01mbreak\u001b[39;00m\n\u001b[0;32m   1217\u001b[0m \u001b[38;5;28;01mexcept\u001b[39;00m \u001b[38;5;167;01mKeyboardInterrupt\u001b[39;00m:\n\u001b[0;32m   1218\u001b[0m     \u001b[38;5;66;03m# re-raise KeyboardInterrupt, to truncate traceback\u001b[39;00m\n\u001b[1;32m-> 1219\u001b[0m     \u001b[38;5;28;01mraise\u001b[39;00m \u001b[38;5;167;01mKeyboardInterrupt\u001b[39;00m(\u001b[38;5;124m\"\u001b[39m\u001b[38;5;124mInterrupted by user\u001b[39m\u001b[38;5;124m\"\u001b[39m) \u001b[38;5;28;01mfrom\u001b[39;00m \u001b[38;5;28mNone\u001b[39m\n\u001b[0;32m   1220\u001b[0m \u001b[38;5;28;01mexcept\u001b[39;00m \u001b[38;5;167;01mException\u001b[39;00m:\n\u001b[0;32m   1221\u001b[0m     \u001b[38;5;28mself\u001b[39m\u001b[38;5;241m.\u001b[39mlog\u001b[38;5;241m.\u001b[39mwarning(\u001b[38;5;124m\"\u001b[39m\u001b[38;5;124mInvalid Message:\u001b[39m\u001b[38;5;124m\"\u001b[39m, exc_info\u001b[38;5;241m=\u001b[39m\u001b[38;5;28;01mTrue\u001b[39;00m)\n",
      "\u001b[1;31mKeyboardInterrupt\u001b[0m: Interrupted by user"
     ]
    }
   ],
   "source": [
    "test_case=int(input())\n",
    "for _ in range(test_case):\n",
    "    left_stack=[]\n",
    "    right_stack=[]\n",
    "    data=input()\n",
    "    for i in data:\n",
    "        if i == '-':\n",
    "            if left_stack: # 이거 왜 굳이 if를 써야 하나???꼭 써야 한다.\n",
    "                # if를 써야 비어있지 않을 때만 pop을 한다\n",
    "                left_stack.pop()\n",
    "            elif i == '<':\n",
    "                if left_stack:\n",
    "                    right_stack.append(left_stack.pop())\n",
    "                    # 커서가 왼쪽으로 이동하면 왼쪽에 있는 글자 하나가 오른쪽으로 이동이랑 같다.\n",
    "            elif i == '>':\n",
    "                if right_stack:\n",
    "                    left_stack.append(right_stack.pop())\n",
    "            else:\n",
    "                left_stack.append(i)\n",
    "        left_stack.extend(reversed(right_stack)) # 이건 뭐임!\n",
    "        # 뒤집어서 왼쪽에 오른쪽을 붙여야 한다.\n",
    "        print(''.join(left_stack)) # 이건 왜 한거지?\n",
    "        \n",
    "# ''.join(list) list 안의 내용을 다 붙여준다."
   ]
  },
  {
   "cell_type": "markdown",
   "id": "62b74b21",
   "metadata": {},
   "source": [
    "6. 백준 문제 \"SHA-256\" (X) - 대표적인 해시 알고리즘 중 하나\n",
    "\n",
    "문제 난이도:하(easy)\n",
    "\n",
    "문제 유형:해시, 구현\n",
    "\n",
    "시간:15분\n",
    "\n",
    "1. hashlib 의 sha256 함수를 이용하면 SHA 256 해시를 구할 수 있다.\n",
    "2. hashlib.sha256(문자열의 바이트 객체).hexdigest() : 해시 결과 문자열\n",
    "\n",
    "이건 진심 뭐 어쩌라는 건지?\n"
   ]
  },
  {
   "cell_type": "code",
   "execution_count": 18,
   "id": "1ac56d6a",
   "metadata": {},
   "outputs": [
    {
     "name": "stdout",
     "output_type": "stream",
     "text": [
      "<<bd<aff\n"
     ]
    },
    {
     "data": {
      "text/plain": [
       "['', '', 'bd', 'aff']"
      ]
     },
     "execution_count": 18,
     "metadata": {},
     "output_type": "execute_result"
    }
   ],
   "source": [
    "import hashlib\n",
    "\n",
    "input_data = input() # 아무거나 입력 받고\n",
    "encoded_data = input_data.encode() # 입력 받은 것의 바이트 객체를 불러오고\n",
    "# hashlib.sha256(encoded_data) 인코드 된 걸 sha256 함수에 넣으면 해시 객체 만들어짐\n",
    "result = hashlib.sha256(encoded_data).hexdigest() # 해시 결과를 의미하는 문자열이 된다.\n",
    "print(result)"
   ]
  },
  {
   "cell_type": "markdown",
   "id": "bc178366",
   "metadata": {},
   "source": [
    "7. 백준 문제 \"수 찾기\" (X) \n",
    "\n",
    "문제 난이도:하(easy)\n",
    "\n",
    "문제 유형:해시, 배열, 구현 - 파이썬은 그냥 딕셔너리 하면 해시처럼 된다.\n",
    "\n",
    "시간:20분\n",
    "\n",
    "1. 특정 정수의 등장 여부만을 간단히 체크\n",
    "2. python에서는 dictionary 자료형을 해시처럼 사용\n",
    "3. 본 문제는 set 자료형을 이용해 더욱 간단히 가능\n",
    "- 집합이라서 중복은 허용 안함.\n",
    "\n",
    "이거 왜 시간초과 뜨냐?\n",
    "- 아 이거 혹시 정답 체크할 때 숫자 엄청 긴게 있나 보다\n",
    "- 그래서 단순히 for문 돌려서 in 체크하면 시간이 오래 걸리는 듯?\n",
    "\n",
    "아니 정답이 나랑 비슷한데?\n",
    "\n",
    "아니 이거 이진 탐색 트리로 해야 하는데??\n",
    "\n",
    "안그러면 시간 초과됨."
   ]
  },
  {
   "cell_type": "code",
   "execution_count": 8,
   "id": "1b28d5f4",
   "metadata": {},
   "outputs": [
    {
     "name": "stdout",
     "output_type": "stream",
     "text": [
      "5\n",
      "4 1 5 2 3\n",
      "5\n",
      "1 3 7 9 5\n",
      "1\n",
      "1\n",
      "0\n",
      "0\n",
      "1\n"
     ]
    }
   ],
   "source": [
    "# 내가 한 것 시간 초과됨.\n",
    "n=int(input())\n",
    "sample=list(input().split(' '))\n",
    "m=int(input())\n",
    "data=list(input().split(' '))\n",
    "\n",
    "for i in range(m):\n",
    "    if data[i] in sample:\n",
    "        print(1)\n",
    "    else:\n",
    "        print(0)"
   ]
  },
  {
   "cell_type": "code",
   "execution_count": 5,
   "id": "e1e0537b",
   "metadata": {},
   "outputs": [
    {
     "name": "stdout",
     "output_type": "stream",
     "text": [
      "5\n",
      "1 2 3 4 5\n"
     ]
    }
   ],
   "source": [
    "# 정답\n",
    "n = int(input())\n",
    "array = set(map(int, input().split()))\n",
    "m = int(intput())\n",
    "x = list(map(int, input().split()))\n",
    "\n",
    "for i in x:\n",
    "    if i not in array:\n",
    "        print('0')\n",
    "    else:\n",
    "        print('1')"
   ]
  },
  {
   "cell_type": "markdown",
   "id": "714b5cc0",
   "metadata": {},
   "source": [
    "8. 백준 문제 \"친구 네트워크\" (X) \n",
    "\n",
    "문제 난이도:중(medium)\n",
    "\n",
    "문제 유형:해시, 집합, 그래프\n",
    "\n",
    "시간:50분\n",
    "\n",
    "1. 해시를 활용한 Union-Find 알고리즘을 이용\n",
    "2. Python 에서는 dictionary 자료형을 해시처럼 사용\n",
    "\n",
    "이거 진짜 엄청 어렵다.\n",
    "\n",
    "나중에 꼭 다시 보기"
   ]
  },
  {
   "cell_type": "code",
   "execution_count": 19,
   "id": "3c290de1",
   "metadata": {},
   "outputs": [],
   "source": [
    "# 합집합 찾기(Union-Find)알고리즘\n",
    "def find(x): # 부모 찾기\n",
    "    if x == parent[x]:\n",
    "        return x # \n",
    "    else:\n",
    "        p = find(parent[x])\n",
    "        parent[x] = p\n",
    "        return parent[x]\n",
    "\n",
    "def union(x, y):\n",
    "    x = find(x)\n",
    "    y = find(y)\n",
    "    \n",
    "    parent[y] =x"
   ]
  },
  {
   "cell_type": "code",
   "execution_count": 22,
   "id": "c43775b6",
   "metadata": {},
   "outputs": [
    {
     "name": "stdout",
     "output_type": "stream",
     "text": [
      "2 2 3 2 "
     ]
    }
   ],
   "source": [
    "parent = []\n",
    "for i in range(0,5):\n",
    "    parent.append(i)\n",
    "    \n",
    "union(1,4)\n",
    "union(2,4)\n",
    "\n",
    "for i in range(1, len(parent)): # 0은 없다고 치고 1부터 시작\n",
    "    print(find(i), end=' ') # 한 줄 씩 출력되는 걸 바로 옆에 한 칸 띄고 출력\n",
    "    \n"
   ]
  },
  {
   "cell_type": "code",
   "execution_count": null,
   "id": "2d2c8196",
   "metadata": {},
   "outputs": [],
   "source": [
    "def find(x):\n",
    "    if x == parent[x]:\n",
    "        return x\n",
    "    else:\n",
    "        p = find(parent[x])\n",
    "        parent[x] = p\n",
    "        return parent[x]\n",
    "def union(x, y):\n",
    "    x = find(x)\n",
    "    y = find(y)\n",
    "    \n",
    "    if x != y:\n",
    "        parent[y]=x\n",
    "        number[x] += number[y]\n",
    "        \n",
    "test_case = int(input())\n",
    "\n",
    "for _ in range(test_case):\n",
    "    parent = dict()\n",
    "    number = dict()\n",
    "    \n",
    "    f = int(input())\n",
    "    \n",
    "    for _ in range(f):\n",
    "        x, y = input().split(' ')\n",
    "        \n",
    "        if x not in parent:\n",
    "            parent[x] = x\n",
    "            number[x] = 1\n",
    "        if y not in parent:\n",
    "            parent[y] = y\n",
    "            number[y] = 1\n",
    "            \n",
    "        union(x, y)\n",
    "        print(number[find(x)])\n",
    "        \n",
    "        \n"
   ]
  },
  {
   "cell_type": "code",
   "execution_count": 11,
   "id": "5fbd40de",
   "metadata": {},
   "outputs": [
    {
     "name": "stdout",
     "output_type": "stream",
     "text": [
      "5\n",
      "12345\n"
     ]
    }
   ],
   "source": [
    "n = int(input())\n",
    "array = set(map(int, input().split()))"
   ]
  },
  {
   "cell_type": "code",
   "execution_count": 12,
   "id": "1d0a4211",
   "metadata": {
    "scrolled": true
   },
   "outputs": [
    {
     "data": {
      "text/plain": [
       "{12345}"
      ]
     },
     "execution_count": 12,
     "metadata": {},
     "output_type": "execute_result"
    }
   ],
   "source": [
    "array"
   ]
  },
  {
   "cell_type": "markdown",
   "id": "e19f62b5",
   "metadata": {},
   "source": [
    "9. 백준 문제 \"스택\" (X) \n",
    "\n",
    "문제 난이도:하(Easy)\n",
    "\n",
    "문제 유형:자료구조, 스택, 시뮬레이션\n",
    "\n",
    "시간:20분\n",
    "\n",
    "push X: 정수 X를 스택에 넣는 연산이다.\n",
    "\n",
    "pop: 스택에서 가장 위에 있는 정수를 빼고, 그 수를 출력한다. 만약 스택에 들어있는 정수가 없는 경우에는 -1을 출력한다.\n",
    "\n",
    "size: 스택에 들어있는 정수의 개수를 출력한다.\n",
    "\n",
    "empty: 스택이 비어있으면 1, 아니면 0을 출력한다.\n",
    "\n",
    "top: 스택의 가장 위에 있는 정수를 출력한다. 만약 스택에 들어있는 정수가 없는 경우에는 -1을 출력한다.\n",
    "\n",
    "- 본 문제는 stack 자료구조를 구현할 수 있으면 쉽다.\n",
    "- python은 단순히 list를 이용해서 스택을 구현 가능\n",
    "- 원소를 삽입할 때 append()\n",
    "- 원소를 삭제할 때 pop() 사용\n",
    "\n",
    "input() 대신 sys.stdin.readline()을 사용한다.\n",
    "- 반복문으로 여러줄 입력 받으면 input() 사용시 시간 초과 발생\n"
   ]
  },
  {
   "cell_type": "code",
   "execution_count": 7,
   "id": "cc84b9b1",
   "metadata": {},
   "outputs": [],
   "source": [
    "# 그냥 문자열 받을 때\n",
    "import sys \n",
    "a = sys.stdin.readline()"
   ]
  },
  {
   "cell_type": "code",
   "execution_count": 2,
   "id": "500d0a4c",
   "metadata": {
    "scrolled": true
   },
   "outputs": [
    {
     "ename": "ValueError",
     "evalue": "invalid literal for int() with base 10: ''",
     "output_type": "error",
     "traceback": [
      "\u001b[1;31m---------------------------------------------------------------------------\u001b[0m",
      "\u001b[1;31mValueError\u001b[0m                                Traceback (most recent call last)",
      "Input \u001b[1;32mIn [2]\u001b[0m, in \u001b[0;36m<cell line: 3>\u001b[1;34m()\u001b[0m\n\u001b[0;32m      1\u001b[0m \u001b[38;5;66;03m# 한 개의 정수를 입력\u001b[39;00m\n\u001b[0;32m      2\u001b[0m \u001b[38;5;28;01mimport\u001b[39;00m \u001b[38;5;21;01msys\u001b[39;00m \n\u001b[1;32m----> 3\u001b[0m a \u001b[38;5;241m=\u001b[39m \u001b[38;5;28;43mint\u001b[39;49m\u001b[43m(\u001b[49m\u001b[43msys\u001b[49m\u001b[38;5;241;43m.\u001b[39;49m\u001b[43mstdin\u001b[49m\u001b[38;5;241;43m.\u001b[39;49m\u001b[43mreadline\u001b[49m\u001b[43m(\u001b[49m\u001b[43m)\u001b[49m\u001b[43m)\u001b[49m\n",
      "\u001b[1;31mValueError\u001b[0m: invalid literal for int() with base 10: ''"
     ]
    }
   ],
   "source": [
    "# 한 개의 정수를 입력\n",
    "import sys \n",
    "a = int(sys.stdin.readline())"
   ]
  },
  {
   "cell_type": "code",
   "execution_count": 4,
   "id": "657bdb4c",
   "metadata": {
    "scrolled": true
   },
   "outputs": [
    {
     "ename": "ValueError",
     "evalue": "not enough values to unpack (expected 3, got 0)",
     "output_type": "error",
     "traceback": [
      "\u001b[1;31m---------------------------------------------------------------------------\u001b[0m",
      "\u001b[1;31mValueError\u001b[0m                                Traceback (most recent call last)",
      "Input \u001b[1;32mIn [4]\u001b[0m, in \u001b[0;36m<cell line: 2>\u001b[1;34m()\u001b[0m\n\u001b[0;32m      1\u001b[0m \u001b[38;5;28;01mimport\u001b[39;00m \u001b[38;5;21;01msys\u001b[39;00m\n\u001b[1;32m----> 2\u001b[0m a,b,c \u001b[38;5;241m=\u001b[39m \u001b[38;5;28mmap\u001b[39m(\u001b[38;5;28mint\u001b[39m,sys\u001b[38;5;241m.\u001b[39mstdin\u001b[38;5;241m.\u001b[39mreadline()\u001b[38;5;241m.\u001b[39msplit())\n",
      "\u001b[1;31mValueError\u001b[0m: not enough values to unpack (expected 3, got 0)"
     ]
    }
   ],
   "source": [
    "# 정해진 개수의 정수를 한 줄에 입력\n",
    "import sys\n",
    "a,b,c = map(int,sys.stdin.readline().split())"
   ]
  },
  {
   "cell_type": "code",
   "execution_count": 5,
   "id": "4e016392",
   "metadata": {},
   "outputs": [],
   "source": [
    "# 임의의 개수의 정수를 한 줄에 입력 받아 리스트에 저장\n",
    "import sys\n",
    "data = list(map(int,sys.stdin.readline().split()))"
   ]
  },
  {
   "cell_type": "code",
   "execution_count": null,
   "id": "6fa9dd31",
   "metadata": {},
   "outputs": [],
   "source": [
    "# 임의의 개수의 정수를 n 줄 입력받아 2차원 리스트에 저장\n",
    "import sys\n",
    "data = []\n",
    "n = int(sys.stdin.readline())\n",
    "for i in range(n):\n",
    "    data.append(list(map(int,sys.stdin.readline().split())))"
   ]
  },
  {
   "cell_type": "code",
   "execution_count": 6,
   "id": "a098bec0",
   "metadata": {},
   "outputs": [
    {
     "ename": "ValueError",
     "evalue": "invalid literal for int() with base 10: ''",
     "output_type": "error",
     "traceback": [
      "\u001b[1;31m---------------------------------------------------------------------------\u001b[0m",
      "\u001b[1;31mValueError\u001b[0m                                Traceback (most recent call last)",
      "Input \u001b[1;32mIn [6]\u001b[0m, in \u001b[0;36m<cell line: 3>\u001b[1;34m()\u001b[0m\n\u001b[0;32m      1\u001b[0m \u001b[38;5;66;03m# 문자열 n줄을 집력 받아 리스트에 저장\u001b[39;00m\n\u001b[0;32m      2\u001b[0m \u001b[38;5;28;01mimport\u001b[39;00m \u001b[38;5;21;01msys\u001b[39;00m\n\u001b[1;32m----> 3\u001b[0m n \u001b[38;5;241m=\u001b[39m \u001b[38;5;28;43mint\u001b[39;49m\u001b[43m(\u001b[49m\u001b[43msys\u001b[49m\u001b[38;5;241;43m.\u001b[39;49m\u001b[43mstdin\u001b[49m\u001b[38;5;241;43m.\u001b[39;49m\u001b[43mreadline\u001b[49m\u001b[43m(\u001b[49m\u001b[43m)\u001b[49m\u001b[43m)\u001b[49m\n\u001b[0;32m      4\u001b[0m data \u001b[38;5;241m=\u001b[39m [sys\u001b[38;5;241m.\u001b[39mstdin\u001b[38;5;241m.\u001b[39mreadline()\u001b[38;5;241m.\u001b[39mstrip() \u001b[38;5;28;01mfor\u001b[39;00m i \u001b[38;5;129;01min\u001b[39;00m \u001b[38;5;28mrange\u001b[39m(n)]\n",
      "\u001b[1;31mValueError\u001b[0m: invalid literal for int() with base 10: ''"
     ]
    }
   ],
   "source": [
    "# 문자열 n줄을 집력 받아 리스트에 저장\n",
    "import sys\n",
    "n = int(sys.stdin.readline())\n",
    "data = [sys.stdin.readline().strip() for i in range(n)]"
   ]
  },
  {
   "cell_type": "code",
   "execution_count": null,
   "id": "a7282718",
   "metadata": {},
   "outputs": [],
   "source": [
    "# 난 함수 짜서 하려고 했는데 이렇게 하는게 아니네\n",
    "stack = []\n",
    "def push(x):\n",
    "    stack.append(x)\n",
    "    \n",
    "def pop():\n",
    "    if stack:\n",
    "        stack.pop()\n",
    "    else:\n",
    "        print(-1)\n",
    "        \n",
    "def size:\n",
    "    len(stack)\n",
    "\n",
    "def empty:\n",
    "    if stack:\n",
    "        print(1)\n",
    "    else:\n",
    "        print(0)\n",
    "def top:\n",
    "    if stack:\n",
    "        print(stack[-1])\n",
    "    else:\n",
    "        print(-1)\n",
    "    \n",
    "a = int(input())\n",
    "for i in range(a):\n",
    "    \n",
    "    "
   ]
  },
  {
   "cell_type": "code",
   "execution_count": 13,
   "id": "e1b57235",
   "metadata": {},
   "outputs": [
    {
     "ename": "ValueError",
     "evalue": "invalid literal for int() with base 10: ''",
     "output_type": "error",
     "traceback": [
      "\u001b[1;31m---------------------------------------------------------------------------\u001b[0m",
      "\u001b[1;31mValueError\u001b[0m                                Traceback (most recent call last)",
      "Input \u001b[1;32mIn [13]\u001b[0m, in \u001b[0;36m<cell line: 9>\u001b[1;34m()\u001b[0m\n\u001b[0;32m      6\u001b[0m \u001b[38;5;28;01mimport\u001b[39;00m \u001b[38;5;21;01msys\u001b[39;00m\n\u001b[0;32m      7\u001b[0m a \u001b[38;5;241m=\u001b[39m sys\u001b[38;5;241m.\u001b[39mstdin\u001b[38;5;241m.\u001b[39mreadline \u001b[38;5;66;03m# 빠른 입력 함수 사용\u001b[39;00m\n\u001b[1;32m----> 9\u001b[0m n \u001b[38;5;241m=\u001b[39m \u001b[38;5;28;43mint\u001b[39;49m\u001b[43m(\u001b[49m\u001b[38;5;28;43minput\u001b[39;49m\u001b[43m(\u001b[49m\u001b[43m)\u001b[49m\u001b[43m)\u001b[49m \u001b[38;5;66;03m# 명령의 수 입력\u001b[39;00m\n\u001b[0;32m     10\u001b[0m stack\u001b[38;5;241m=\u001b[39m[] \u001b[38;5;66;03m# 스택 초기화\u001b[39;00m\n\u001b[0;32m     12\u001b[0m \u001b[38;5;28;01mfor\u001b[39;00m _ \u001b[38;5;129;01min\u001b[39;00m \u001b[38;5;28mrange\u001b[39m(n):\n",
      "\u001b[1;31mValueError\u001b[0m: invalid literal for int() with base 10: ''"
     ]
    }
   ],
   "source": [
    "# 정답\n",
    "# 이거 이해 안됨.\n",
    "# input을 변수명으로 줘도 되는 거임??\n",
    "# 그래서 a로 바꿈\n",
    "# 그냥 input() 대신 sys.stdin.readline() 이라고 생각하자\n",
    "import sys\n",
    "a = sys.stdin.readline # 빠른 입력 함수 사용\n",
    "\n",
    "n = int(input()) # 명령의 수 입력\n",
    "stack=[] # 스택 초기화\n",
    "\n",
    "for _ in range(n):\n",
    "    command = a().strip().split(' ') # 공백 기준 구분 strip() 양쪽 빈칸 없앰.\n",
    "    if command[0] == 'push': # 원소 삽입\n",
    "        stack.append(int(command[1]))\n",
    "    elif command[0] == 'pop': # 원소 삭제\n",
    "        if len(stack) == 0: # 원소가 없는 경우\n",
    "            print(-1)\n",
    "        else:\n",
    "            print(stack.pop())\n",
    "    elif command[0] == 'size': # 원소의 개수 출력\n",
    "        print(len(stack))\n",
    "    elif command[0] == 'empty': # 스택이 비어있는 경우\n",
    "        if len(stack) == 0 :\n",
    "            print(1)\n",
    "        else :\n",
    "            print(0)\n",
    "    elif command[0] == 'top': # 최상단 원소 출력\n",
    "        if len(stack) == 0 :\n",
    "            print(-1)\n",
    "        else:\n",
    "            print(stack[-1])\n",
    "            \n",
    "    \n",
    "              \n",
    "\n",
    "\n"
   ]
  },
  {
   "cell_type": "markdown",
   "id": "35cde57c",
   "metadata": {},
   "source": [
    "10. 백준 문제 \"제로\" (O) \n",
    "\n",
    "문제 난이도:하(Easy)\n",
    "\n",
    "문제 유형:자료구조, 스택, 시뮬레이션\n",
    "\n",
    "시간:20분\n",
    "\n",
    "어휴 드디어 한 문제 맞음.\n",
    "\n",
    "- 본 문제는 스택 자료구조를 구현하면 쉽다.\n",
    "- 입력으로 0이 들어오면 최근 원소 제거한다.\n",
    "- 스택의 pop()랑 같다."
   ]
  },
  {
   "cell_type": "code",
   "execution_count": 1,
   "id": "b116850b",
   "metadata": {},
   "outputs": [
    {
     "name": "stdout",
     "output_type": "stream",
     "text": [
      "4\n",
      "3\n",
      "0\n",
      "4\n",
      "0\n",
      "0\n"
     ]
    }
   ],
   "source": [
    "stack=[]\n",
    "sum = 0\n",
    "k = int(input())\n",
    "for _ in range(k):\n",
    "    a = int(input())\n",
    "    if a != 0 :\n",
    "        stack.append(a)\n",
    "    else :\n",
    "        stack.pop()\n",
    "    \n",
    "for i in stack:\n",
    "    sum += i\n",
    "    \n",
    "print(sum)\n",
    "        \n",
    "        "
   ]
  },
  {
   "cell_type": "code",
   "execution_count": 5,
   "id": "f4956584",
   "metadata": {},
   "outputs": [
    {
     "ename": "ValueError",
     "evalue": "invalid literal for int() with base 10: ''",
     "output_type": "error",
     "traceback": [
      "\u001b[1;31m---------------------------------------------------------------------------\u001b[0m",
      "\u001b[1;31mValueError\u001b[0m                                Traceback (most recent call last)",
      "Input \u001b[1;32mIn [5]\u001b[0m, in \u001b[0;36m<cell line: 5>\u001b[1;34m()\u001b[0m\n\u001b[0;32m      3\u001b[0m stack\u001b[38;5;241m=\u001b[39m[]\n\u001b[0;32m      4\u001b[0m \u001b[38;5;28msum\u001b[39m \u001b[38;5;241m=\u001b[39m \u001b[38;5;241m0\u001b[39m\n\u001b[1;32m----> 5\u001b[0m k \u001b[38;5;241m=\u001b[39m \u001b[38;5;28;43mint\u001b[39;49m\u001b[43m(\u001b[49m\u001b[43ma\u001b[49m\u001b[43m)\u001b[49m\n\u001b[0;32m      6\u001b[0m \u001b[38;5;28;01mfor\u001b[39;00m _ \u001b[38;5;129;01min\u001b[39;00m \u001b[38;5;28mrange\u001b[39m(k):\n\u001b[0;32m      7\u001b[0m     x \u001b[38;5;241m=\u001b[39m \u001b[38;5;28mint\u001b[39m(a)\n",
      "\u001b[1;31mValueError\u001b[0m: invalid literal for int() with base 10: ''"
     ]
    }
   ],
   "source": [
    "# 내가 한 것 sys로 바꿔서 했음\n",
    "import sys\n",
    "p = sys.stdin.readline\n",
    "stack=[]\n",
    "sum = 0\n",
    "k = int(p())\n",
    "for _ in range(k):\n",
    "    a = int(p())\n",
    "    if a != 0 :\n",
    "        stack.append(a)\n",
    "    else :\n",
    "        stack.pop()\n",
    "    \n",
    "for i in stack:\n",
    "    sum += i\n",
    "    \n",
    "print(sum)\n",
    "        \n",
    "        "
   ]
  },
  {
   "cell_type": "code",
   "execution_count": 4,
   "id": "e4c7cceb",
   "metadata": {},
   "outputs": [
    {
     "name": "stdout",
     "output_type": "stream",
     "text": [
      "4\n"
     ]
    },
    {
     "ename": "ValueError",
     "evalue": "invalid literal for int() with base 10: ''",
     "output_type": "error",
     "traceback": [
      "\u001b[1;31m---------------------------------------------------------------------------\u001b[0m",
      "\u001b[1;31mValueError\u001b[0m                                Traceback (most recent call last)",
      "Input \u001b[1;32mIn [4]\u001b[0m, in \u001b[0;36m<cell line: 10>\u001b[1;34m()\u001b[0m\n\u001b[0;32m      8\u001b[0m stack \u001b[38;5;241m=\u001b[39m []\n\u001b[0;32m     10\u001b[0m \u001b[38;5;28;01mfor\u001b[39;00m _ \u001b[38;5;129;01min\u001b[39;00m \u001b[38;5;28mrange\u001b[39m(k):\n\u001b[1;32m---> 11\u001b[0m     x \u001b[38;5;241m=\u001b[39m \u001b[38;5;28;43mint\u001b[39;49m\u001b[43m(\u001b[49m\u001b[43ma\u001b[49m\u001b[43m(\u001b[49m\u001b[43m)\u001b[49m\u001b[43m)\u001b[49m \u001b[38;5;66;03m# 하나 씩 수 입력\u001b[39;00m\n\u001b[0;32m     12\u001b[0m     \u001b[38;5;28;01mif\u001b[39;00m x \u001b[38;5;241m==\u001b[39m \u001b[38;5;241m0\u001b[39m: \u001b[38;5;66;03m# 값이 0인 경우 가장 최근 수 제거\u001b[39;00m\n\u001b[0;32m     13\u001b[0m         stack\u001b[38;5;241m.\u001b[39mpop()\n",
      "\u001b[1;31mValueError\u001b[0m: invalid literal for int() with base 10: ''"
     ]
    }
   ],
   "source": [
    "# 정답\n",
    "# 내가 한 것보다 시간 엄청 짧게 걸림\n",
    "# 앞으로 input() 대신 sys.stdin.readline() 사용 할 것\n",
    "import sys\n",
    "a = sys.stdin.readline # 빠른 입력 함수 사용\n",
    "\n",
    "k = int(input()) # 수의 개수\n",
    "stack = []\n",
    "\n",
    "for _ in range(k):\n",
    "    x = int(a()) # 하나 씩 수 입력\n",
    "    if x == 0: # 값이 0인 경우 가장 최근 수 제거\n",
    "        stack.pop()\n",
    "    else: # 스택에 해당 수 삽입\n",
    "        stack.append(x)\n",
    "        \n",
    "print(sum(stack))"
   ]
  },
  {
   "cell_type": "markdown",
   "id": "f4ce7dcb",
   "metadata": {},
   "source": [
    "11. 백준 문제 \"스택 수열\" (x) \n",
    "\n",
    "문제 난이도:하(Easy)\n",
    "\n",
    "문제 유형:자료구조, 스택, 시뮬레이션\n",
    "\n",
    "시간:30분\n",
    "\n",
    "이거 전에 풀어본 문제임\n",
    "\n",
    "아 모르겠다.\n",
    "\n",
    "아 개어려운데...\n",
    "\n",
    "- 스택 자료구조를 활용\n",
    "- 다양한 예시를 생각 시뮬레이션 해보면 아이디어를 떠올릴 수 있다."
   ]
  },
  {
   "cell_type": "code",
   "execution_count": null,
   "id": "306bf21a",
   "metadata": {},
   "outputs": [],
   "source": [
    "import sys\n",
    "input = sys.stdin.readlin # 이렇게 하면 인풋 대신 이게 들어감.\n",
    "\n",
    "stack=[]\n",
    "n = int(input())\n",
    "for i in range(1, n+1):\n",
    "    \n",
    "    data = int(input())\n",
    "    if i < data:\n",
    "        stack.append(i)\n",
    "        print('+')\n",
    "    else:\n",
    "        stack.pop()\n",
    "        print('+')\n",
    "        print('-')\n",
    "        \n",
    "    \n",
    "    \n",
    "    \n"
   ]
  },
  {
   "cell_type": "code",
   "execution_count": null,
   "id": "474fc0aa",
   "metadata": {},
   "outputs": [],
   "source": [
    "# 정답\n",
    "import sys\n",
    "imput = sys.stdin.readline # 빠른 입력 함수 사용\n",
    "\n",
    "n = int(input()) # 수의 개수\n",
    "stack=[] # 스택 초기화\n",
    "answer=[] # 최종 정답\n",
    "current = 1 # 현재 삽입할 수, 이걸 1씩 삽입하는 걸로 만든다.\n",
    "\n",
    "for _ in range(n):\n",
    "    x = int(input()) # 하나씩 수 입력\n",
    "    # top()보다 x가 더 크면 스택에 삽입\n",
    "    while len(stack) == 0 or stack[-1] < x:\n",
    "        stack.append(current)\n",
    "        current+=1 # x가 current랑 같을 때 까지 계속 삽입함.\n",
    "        answer.append('+')\n",
    "    # top()과 x가 같다면, 스택에서 제거\n",
    "    if stack[-1] == x:\n",
    "        stack.pop()\n",
    "        answer.append('-')\n",
    "    # top()보다 x가 더 작다면, 불가능\n",
    "    else:\n",
    "        answer = ['NO']\n",
    "        break\n",
    "for x in answer:\n",
    "    print(x)\n",
    "        \n",
    "        "
   ]
  },
  {
   "cell_type": "code",
   "execution_count": null,
   "id": "da04c7e7",
   "metadata": {},
   "outputs": [],
   "source": [
    "# 맨 위의 정답\n",
    "n = int(input()) # 이건 알겠음.\n",
    "\n",
    "count=1\n",
    "stack=[] # 스택을 쌓을 리스트\n",
    "result=[] # 결과로 추출할 리스트\n",
    "\n",
    "for i in range(1, n+1): # n개 만큼의 data를 만들기 위함\n",
    "    data=int(input()) \n",
    "    while count<= data: # 입력 받은 데이터에 도달할 때까지 삽입, 오름차순으로 하나씩 넣는 건가\n",
    "        stack.append(count)\n",
    "        count+=1\n",
    "        result.append('+') # count 하나씩 넣을 때마다 result에 '+' 넣음\n",
    "        # count가 data보다 커지면 while 나감\n",
    "    if stack[-1]==data: #마지막에 넣은 숫자가 data랑 같을 때\n",
    "        stack.pop() # 마지막 숫자 빼냄\n",
    "        result.append('-')\n",
    "    else: # 불가능한 경우\n",
    "        print('NO')\n",
    "        exit(0) # 종료 코드 - 이것도 처음 봄 !!\n",
    "        \n",
    "print('\\n'.join(result)) # 가능한 경우 출력 - 이건 뭐임!\n",
    "# 한 줄 씩 출력하기\n"
   ]
  },
  {
   "cell_type": "markdown",
   "id": "21939859",
   "metadata": {},
   "source": [
    "12. 백준 문제 \"오큰수\" (x) \n",
    "\n",
    "문제 난이도:중상\n",
    "\n",
    "문제 유형:자료구조, 스택\n",
    "\n",
    "시간:50분\n",
    "\n",
    "이거 왜 스택이지?\n",
    "\n",
    "아니 이거 너무 어려운데?\n",
    "\n",
    "- 수 x를 하나씩 확인, 내림차순 혹은 같은 값의 x가 나오면 스택에 삽입\n",
    "- 더 큰 수(오름차순)x가 나왔을 때, x는 앞선 데이터에 대해 오큰수가 될 수 있다.\n",
    "    - 따라서 스택의 pop()을 이용해 역방향으로 확인하면서 오큰수를 기록\n",
    "    - 만약 역방향의 수가 x보다 크거나 같다면 멈추고, 해당 수부터 다시 내림차순/오름차순 여부를 확인\n",
    "- 동작 과정상 오른쪽으로 이동한 뒤에 다시 왼쪽(역방향)이동 반복\n",
    "- 결과적으로 시간 복잡도 O(N)으로 해결"
   ]
  },
  {
   "cell_type": "code",
   "execution_count": 45,
   "id": "03bbae47",
   "metadata": {},
   "outputs": [
    {
     "ename": "ValueError",
     "evalue": "invalid literal for int() with base 10: ''",
     "output_type": "error",
     "traceback": [
      "\u001b[1;31m---------------------------------------------------------------------------\u001b[0m",
      "\u001b[1;31mValueError\u001b[0m                                Traceback (most recent call last)",
      "Input \u001b[1;32mIn [45]\u001b[0m, in \u001b[0;36m<cell line: 2>\u001b[1;34m()\u001b[0m\n\u001b[0;32m      1\u001b[0m \u001b[38;5;66;03m# 정답\u001b[39;00m\n\u001b[1;32m----> 2\u001b[0m n \u001b[38;5;241m=\u001b[39m \u001b[38;5;28;43mint\u001b[39;49m\u001b[43m(\u001b[49m\u001b[38;5;28;43minput\u001b[39;49m\u001b[43m(\u001b[49m\u001b[43m)\u001b[49m\u001b[43m)\u001b[49m\n\u001b[0;32m      3\u001b[0m arr \u001b[38;5;241m=\u001b[39m \u001b[38;5;28mlist\u001b[39m(\u001b[38;5;28mmap\u001b[39m(\u001b[38;5;28mint\u001b[39m, \u001b[38;5;28minput\u001b[39m()\u001b[38;5;241m.\u001b[39msplit())) \u001b[38;5;66;03m# 수열 데이터\u001b[39;00m\n\u001b[0;32m      4\u001b[0m stack \u001b[38;5;241m=\u001b[39m [] \u001b[38;5;66;03m# 스택 초기화\u001b[39;00m\n",
      "\u001b[1;31mValueError\u001b[0m: invalid literal for int() with base 10: ''"
     ]
    }
   ],
   "source": [
    "# 정답\n",
    "n = int(input())\n",
    "arr = list(map(int, input().split())) # 수열 데이터\n",
    "stack = [] # 스택 초기화\n",
    "NGE = [-1] * n # 오큰수 배열\n",
    "\n",
    "for i in range(n):\n",
    "    x=arr[i] # 하나씩 수 확인\n",
    "    if len(stack) == 0 or stack[-1][0] >= x:\n",
    "        stack.append((x,i)) # (수, 인덱스) 형태로 삽입\n",
    "    else:\n",
    "        while len(stack) > 0 : # 역방향으로 하나씩 꺼내기\n",
    "            previous, index = stack.pop()\n",
    "            if previous >= x: # 크거나 같은 이전 원소를 만났다면 다시 삽입\n",
    "                stack.append((previous, index))\n",
    "                break\n",
    "            else:\n",
    "                NGE[index]=x # 오큰수 기록\n",
    "        stack.append((x,i)) # (수, 인덱스) 형태로 삽입\n",
    "\n",
    "for x in NGE : # 오큰수를 하나씩 출력\n",
    "    print(x, end=' ')\n",
    "    \n",
    "        "
   ]
  },
  {
   "cell_type": "markdown",
   "id": "df165864",
   "metadata": {},
   "source": [
    "13. 백준 문제 \"회전하는 큐\" (x) \n",
    "\n",
    "문제 난이도:하(easy)\n",
    "\n",
    "문제 유형:자료구조, 스택\n",
    "\n",
    "시간:30분\n",
    "\n",
    "- 양방향 순환 큐의 기능은 덱(deque)을 이용해 대체 가능\n",
    "1. 회전 연산(왼쪽으로 돌리기):poplesf() - append()\n",
    "2. 회전 연산(오른쪽으로 돌리기):pop() - appendleft()\n",
    "3. 추출 연산(앞에서 꺼내기):popleft()\n",
    "\n",
    "개어렵네..."
   ]
  },
  {
   "cell_type": "code",
   "execution_count": 36,
   "id": "b019fa58",
   "metadata": {},
   "outputs": [],
   "source": [
    "import sys\n",
    "input = sys.stdin.readline\n",
    "from collections import deque # 아니 이런거 어떻게 아냐고...\n",
    "# deque import 해야 popleft 같은 거 쓸 수 있다.\n",
    "\n",
    "n, m = map(int, input().split()) # 원소의 개수, 뽑아내는 횟수\n",
    "d=deque([i for i in range(1, n+1)]) # 1부터 N까지의 원소를 삽입\n",
    "targets = list(map(int, input().split())) # 뽑아낼 원소 목록\n",
    "cnt=0 # 회전 연산 수행 횟수\n",
    "for target in targets: # 뽑아낼 원소를 하나씩 확인\n",
    "    index = d.index(target) # 덱에서 해당 원소의 위치를 찾기\n",
    "    if index <= len(d) // 2: # 왼쪽으로 돌리는게 더 빠른 경우\n",
    "        for i in range(index): # 회전 연산 반복 수행\n",
    "            x=d.popleft()\n",
    "            d.append(x) # 꺼내기 전까지 계속 회전시켜야 하기 때문\n",
    "            cnt+=1 \n",
    "    else: # 오른쪽으로 돌리는게 더 빠른 경우\n",
    "        for i in range(len(d)-index): # 회전연산 반복 수행\n",
    "            x = d.pop()\n",
    "            d.appendleft(x)\n",
    "            cnt+=1\n",
    "    d.popleft() # 원소 꺼내기\n",
    "\n",
    "print(cnt) # 결과 출력\n"
   ]
  },
  {
   "cell_type": "markdown",
   "id": "ae01d389",
   "metadata": {},
   "source": [
    "13. 백준 문제 \"요세푸스 문제0\" (x) \n",
    "\n",
    "문제 난이도:하(easy)\n",
    "\n",
    "문제 유형:자료구조, 덱\n",
    "\n",
    "시간:30분\n",
    "\n",
    "- 회전 연산을 포함하는 큐의 기능은 덱(deque)을 이용해 대체\n",
    "1. 회전 연산(왼쪽으로 돌리기):popleft() - append()\n",
    "2. 추출 연산(앞에서 꺼내기):popleft()\n",
    "\n",
    "요약\n",
    "- 먼저 번호(index)가 1부터 시작하도록 n개의 데이터를 덱(deque)에 삽입\n",
    "- 덱(deque)이 빌 때까지 계속해서 원소를 추출\n",
    "    - 매번k-1개만큼 '왼쪽으로 돌리기'를 수행, 1개를 그냥 추출\n",
    "- 데이터의 개수가 최대 1000개이므로, 시뮬레이션으로 간단히 해결\n",
    "\n",
    "이것도 오류난다."
   ]
  },
  {
   "cell_type": "code",
   "execution_count": 38,
   "id": "ba2b9d1e",
   "metadata": {},
   "outputs": [],
   "source": [
    "from collections import deque\n",
    "n, k = int(input().split())\n",
    "d = deque([i for i in range(1,n+1)])\n",
    "answer=[]\n",
    "while len(d)>0:\n",
    "    for i in range(k-1):\n",
    "        x=d.popleft()\n",
    "        d.append(x)\n",
    "    x=d.popleft()\n",
    "    answer.append(x)\n",
    "    \n",
    "print(answer)\n"
   ]
  },
  {
   "cell_type": "code",
   "execution_count": 48,
   "id": "ce9cc0ec",
   "metadata": {},
   "outputs": [
    {
     "ename": "ValueError",
     "evalue": "not enough values to unpack (expected 2, got 0)",
     "output_type": "error",
     "traceback": [
      "\u001b[1;31m---------------------------------------------------------------------------\u001b[0m",
      "\u001b[1;31mValueError\u001b[0m                                Traceback (most recent call last)",
      "Input \u001b[1;32mIn [48]\u001b[0m, in \u001b[0;36m<cell line: 7>\u001b[1;34m()\u001b[0m\n\u001b[0;32m      4\u001b[0m \u001b[38;5;28;01mfrom\u001b[39;00m \u001b[38;5;21;01mcollections\u001b[39;00m \u001b[38;5;28;01mimport\u001b[39;00m deque\n\u001b[0;32m      6\u001b[0m \u001b[38;5;66;03m# 원소의 개수 N과 제거할 간격 k 입력\u001b[39;00m\n\u001b[1;32m----> 7\u001b[0m n, k \u001b[38;5;241m=\u001b[39m \u001b[38;5;28mmap\u001b[39m(\u001b[38;5;28mint\u001b[39m, \u001b[38;5;28minput\u001b[39m()\u001b[38;5;241m.\u001b[39msplit())\n\u001b[0;32m      8\u001b[0m \u001b[38;5;66;03m# 1부터 N까지의 원소를 삽입\u001b[39;00m\n\u001b[0;32m      9\u001b[0m d \u001b[38;5;241m=\u001b[39m deque([i \u001b[38;5;28;01mfor\u001b[39;00m i \u001b[38;5;129;01min\u001b[39;00m \u001b[38;5;28mrange\u001b[39m(\u001b[38;5;241m1\u001b[39m, n\u001b[38;5;241m+\u001b[39m\u001b[38;5;241m1\u001b[39m)])\n",
      "\u001b[1;31mValueError\u001b[0m: not enough values to unpack (expected 2, got 0)"
     ]
    }
   ],
   "source": [
    "# 정답\n",
    "import sys\n",
    "input=sys.stdin.readline\n",
    "from collections import deque\n",
    "\n",
    "# 원소의 개수 N과 제거할 간격 k 입력\n",
    "n, k = map(int, input().split())\n",
    "# 1부터 N까지의 원소를 삽입\n",
    "d = deque([i for i in range(1, n+1)])\n",
    "result = [] # 결과 배열\n",
    "\n",
    "# n개의 원소를 모두 꺼내기\n",
    "for i in range(n):\n",
    "    # k-1번 '왼쪽으로 돌리기' 수행\n",
    "    for i in range(k-1):\n",
    "        x=d.popleft()\n",
    "        d.append(x)\n",
    "    x=d.popleft() # 원소 꺼내기\n",
    "    result.append(x)\n",
    "\n",
    "# 정답 출력\n",
    "# 와 무슨 정답도 이렇게 어렵냐.\n",
    "print('<', end='')\n",
    "for i in range(len(result)):\n",
    "    if i < len(result)-1:\n",
    "        print(result[i], end=', ')\n",
    "    else: # 마지막 원소\n",
    "        print(result[i], end='')\n",
    "print('>')"
   ]
  },
  {
   "cell_type": "markdown",
   "id": "20ae345b",
   "metadata": {},
   "source": [
    "14. 백준 문제 \"풍선 터뜨리기\" (x) \n",
    "\n",
    "문제 난이도:하(easy)\n",
    "\n",
    "문제 유형:자료구조, 덱\n",
    "\n",
    "시간:30분\n",
    "\n",
    "- 양방향 순환 큐의 기능은 덱(deque)을 이용해 대체 가능\n",
    "1. 회전 연산(왼쪽으로 돌리기):poplesf() - append()\n",
    "2. 회전 연산(오른쪽으로 돌리기):pop() - appendleft()\n",
    "3. 추출 연산(앞에서 꺼내기):popleft()\n",
    "\n",
    "요약\n",
    "- 풍선에 적힌 원소를 모두 덱(deque)에 삽입\n",
    "- 가장 앞에 있는 풍선(원소)을 꺼내어 거기에 적힌 수를 확인한다.\n",
    "- 큐가 빌 때까지 다음을 반복 수행\n",
    "    - 만약 양수라면 x -1 만큼 왼쪽으로 돌린다.\n",
    "    - 만약 음수하면 \\x\\ 만큼 오른쪽으로 돌린다.\n",
    "    - 이후에 원소를 꺼낸다.\n",
    "- 단, 최종적으로 풍선의 번호를 출력, (값, 번호) 형태로 원소를 덱(deque)에 삽입해야 함."
   ]
  },
  {
   "cell_type": "code",
   "execution_count": 49,
   "id": "2917ba98",
   "metadata": {
    "collapsed": true
   },
   "outputs": [
    {
     "ename": "ValueError",
     "evalue": "invalid literal for int() with base 10: ''",
     "output_type": "error",
     "traceback": [
      "\u001b[1;31m---------------------------------------------------------------------------\u001b[0m",
      "\u001b[1;31mValueError\u001b[0m                                Traceback (most recent call last)",
      "Input \u001b[1;32mIn [49]\u001b[0m, in \u001b[0;36m<cell line: 4>\u001b[1;34m()\u001b[0m\n\u001b[0;32m      2\u001b[0m \u001b[38;5;28minput\u001b[39m \u001b[38;5;241m=\u001b[39m sys\u001b[38;5;241m.\u001b[39mstdin\u001b[38;5;241m.\u001b[39mreadline\n\u001b[0;32m      3\u001b[0m \u001b[38;5;28;01mfrom\u001b[39;00m \u001b[38;5;21;01mcollections\u001b[39;00m \u001b[38;5;28;01mimport\u001b[39;00m deque\n\u001b[1;32m----> 4\u001b[0m n \u001b[38;5;241m=\u001b[39m \u001b[38;5;28;43mint\u001b[39;49m\u001b[43m(\u001b[49m\u001b[38;5;28;43minput\u001b[39;49m\u001b[43m(\u001b[49m\u001b[43m)\u001b[49m\u001b[43m)\u001b[49m\n\u001b[0;32m      5\u001b[0m d \u001b[38;5;241m=\u001b[39m deque([\u001b[38;5;28mmap\u001b[39m(\u001b[38;5;28mint\u001b[39m, \u001b[38;5;28minput\u001b[39m()\u001b[38;5;241m.\u001b[39msplit())])\n",
      "\u001b[1;31mValueError\u001b[0m: invalid literal for int() with base 10: ''"
     ]
    }
   ],
   "source": [
    "import sys\n",
    "input = sys.stdin.readline\n",
    "from collections import deque\n",
    "n = int(input())\n",
    "d = deque([map(int, input().split())])\n",
    "answer=[]"
   ]
  },
  {
   "cell_type": "code",
   "execution_count": 50,
   "id": "534b53f2",
   "metadata": {},
   "outputs": [
    {
     "ename": "ValueError",
     "evalue": "invalid literal for int() with base 10: ''",
     "output_type": "error",
     "traceback": [
      "\u001b[1;31m---------------------------------------------------------------------------\u001b[0m",
      "\u001b[1;31mValueError\u001b[0m                                Traceback (most recent call last)",
      "Input \u001b[1;32mIn [50]\u001b[0m, in \u001b[0;36m<cell line: 6>\u001b[1;34m()\u001b[0m\n\u001b[0;32m      3\u001b[0m \u001b[38;5;28minput\u001b[39m \u001b[38;5;241m=\u001b[39m sys\u001b[38;5;241m.\u001b[39mstdin\u001b[38;5;241m.\u001b[39mreadline\n\u001b[0;32m      4\u001b[0m \u001b[38;5;28;01mfrom\u001b[39;00m \u001b[38;5;21;01mcollections\u001b[39;00m \u001b[38;5;28;01mimport\u001b[39;00m deque\n\u001b[1;32m----> 6\u001b[0m n \u001b[38;5;241m=\u001b[39m \u001b[38;5;28;43mint\u001b[39;49m\u001b[43m(\u001b[49m\u001b[38;5;28;43minput\u001b[39;49m\u001b[43m(\u001b[49m\u001b[43m)\u001b[49m\u001b[43m)\u001b[49m \u001b[38;5;66;03m# 원소의 개수 n\u001b[39;00m\n\u001b[0;32m      7\u001b[0m \u001b[38;5;66;03m# 전체 원소 리스트\u001b[39;00m\n\u001b[0;32m      8\u001b[0m arr \u001b[38;5;241m=\u001b[39m \u001b[38;5;28mlist\u001b[39m(\u001b[38;5;28mmap\u001b[39m(\u001b[38;5;28mint\u001b[39m, \u001b[38;5;28minput\u001b[39m()\u001b[38;5;241m.\u001b[39msplit()))\n",
      "\u001b[1;31mValueError\u001b[0m: invalid literal for int() with base 10: ''"
     ]
    }
   ],
   "source": [
    "# 정답\n",
    "import sys\n",
    "input = sys.stdin.readline\n",
    "from collections import deque\n",
    "\n",
    "n = int(input()) # 원소의 개수 n\n",
    "# 전체 원소 리스트\n",
    "arr = list(map(int, input().split()))\n",
    "d = deque() # 덱(deque) 초기화\n",
    "for i in range(n):\n",
    "    # (수, 번호) 형태로 원소 삽입\n",
    "    d.append((arr[i], i+1)) # 이거 괄호 2개 해야 되네.\n",
    "result=[] # 결과 배열\n",
    "\n",
    "current, index = d.popleft() # 원소 추출. 이게 1번 인듯.\n",
    "result.append(index)\n",
    "for i in range(n-1): # 원소를 모두 꺼내기. 1번 꺼내서 1개 적음.\n",
    "    if current > 0 : # 양수라면\n",
    "        # current - 1번 '왼쪽으로 돌리기' 수행\n",
    "        for j in range(current -1):\n",
    "            x=d.popleft()\n",
    "            d.append(x)\n",
    "    else: # 음수라면 (0은 없음)\n",
    "        # \\current\\ 번 '오른쪽으로 돌리기' 수행\n",
    "        for j in range(-current):\n",
    "            x=d.pop()\n",
    "            d.appendleft(x)\n",
    "    # 원소 추출\n",
    "    current, index = d.popleft()\n",
    "    result.append(index)\n",
    "    \n",
    "for x in result: # 결과 출력\n",
    "    print(x, end = ' ')\n",
    "        \n",
    "    "
   ]
  },
  {
   "cell_type": "markdown",
   "id": "e3ff2abb",
   "metadata": {},
   "source": [
    "15. 백준 문제 \"트럭\" (x) \n",
    "\n",
    "문제 난이도:중(medium)\n",
    "\n",
    "문제 유형:자료구조, 큐\n",
    "\n",
    "시간:40분\n",
    "\n",
    "단순히 큐를 이용해 전체 과정을 시뮬레이션하여 문제를 해결\n",
    "1. 큐(다리)가 가득 찼으면 큐에서 원소를 하나 추출\n",
    "2. 트럭 배열에서 하나씩 트럭을 꺼내서 큐에 삽입\n",
    "    - 이 때 만약에 트럭을 큐에 넣을 수 없다면(하중이 초과된다면)0을 삽입\n",
    "    \n",
    "    "
   ]
  },
  {
   "cell_type": "code",
   "execution_count": null,
   "id": "c3e8a46e",
   "metadata": {},
   "outputs": [],
   "source": [
    "# 정답\n",
    "import sys\n",
    "\n",
    "n, w, l = map(int, sys.stdin.readline().split())\n",
    "a = list(map(int, sys.stdin.readline().split()))\n",
    "temp = [0] * w # 다리의 칸\n",
    "cnt = 0\n",
    "\n",
    "# 반복문을 통해 다리의 모든 트럭이 지나갈 때까지 반복\n",
    "while temp:\n",
    "    cnt += 1 # 카운트\n",
    "    temp.pop(0) # 다리의 칸을 하나씩 줄인다.\n",
    "\n",
    "    # 모든 트럭을 확인\n",
    "    if a:\n",
    "        # 현재 다리에 있는 트럭과 다리를 건너려는 트럭의 무게가\n",
    "        # 다리의 하중보다 크다면 빈 공간을 추가\n",
    "        if sum(temp) + a[0] > l:\n",
    "            temp.append(0)\n",
    "\n",
    "        # 다리의 하중보다 작다면 트럭을 다리에 추가\n",
    "        else:\n",
    "            temp.append(a.pop(0))\n",
    "\n",
    "print(cnt)"
   ]
  },
  {
   "cell_type": "code",
   "execution_count": 51,
   "id": "7b8ad3b8",
   "metadata": {},
   "outputs": [
    {
     "ename": "ValueError",
     "evalue": "not enough values to unpack (expected 3, got 0)",
     "output_type": "error",
     "traceback": [
      "\u001b[1;31m---------------------------------------------------------------------------\u001b[0m",
      "\u001b[1;31mValueError\u001b[0m                                Traceback (most recent call last)",
      "Input \u001b[1;32mIn [51]\u001b[0m, in \u001b[0;36m<cell line: 3>\u001b[1;34m()\u001b[0m\n\u001b[0;32m      1\u001b[0m \u001b[38;5;28;01mimport\u001b[39;00m \u001b[38;5;21;01msys\u001b[39;00m\n\u001b[0;32m      2\u001b[0m \u001b[38;5;28minput\u001b[39m \u001b[38;5;241m=\u001b[39m sys\u001b[38;5;241m.\u001b[39mstdin\u001b[38;5;241m.\u001b[39mreadline\n\u001b[1;32m----> 3\u001b[0m n, w, l \u001b[38;5;241m=\u001b[39m \u001b[38;5;28mmap\u001b[39m(\u001b[38;5;28mint\u001b[39m, \u001b[38;5;28minput\u001b[39m()\u001b[38;5;241m.\u001b[39msplit())\n\u001b[0;32m      4\u001b[0m q \u001b[38;5;241m=\u001b[39m \u001b[38;5;28mlist\u001b[39m(\u001b[38;5;28mmap\u001b[39m(\u001b[38;5;28mint\u001b[39m, \u001b[38;5;28minput\u001b[39m()\u001b[38;5;241m.\u001b[39msplit()))\n",
      "\u001b[1;31mValueError\u001b[0m: not enough values to unpack (expected 3, got 0)"
     ]
    }
   ],
   "source": [
    "import sys\n",
    "input = sys.stdin.readline\n",
    "n, w, l = map(int, input().split())\n",
    "t = list(map(int, input().split()))\n",
    "q =[]\n",
    "sum=0\n",
    "for i in t: # t에서 하나씩 뺌\n",
    "    q.append(i) # q에 하나씩 넣음\n",
    "    sum+=i\n",
    "    if len(q) > w:\n",
    "        del q[0]\n",
    "        sum-=q[0]\n",
    "    \n",
    "    p = q[i:i+3]\n",
    "    if p <= l:\n",
    "        print(w+l)\n",
    "        \n",
    "    \n",
    "if "
   ]
  },
  {
   "cell_type": "markdown",
   "id": "08785137",
   "metadata": {},
   "source": [
    "16. 백준 문제 \"나는 요리사다\" (o) \n",
    "\n",
    "문제 난이도:하(easy)\n",
    "\n",
    "문제 유형:문법, 배열, 이차원 배열\n",
    "\n",
    "시간:10분\n"
   ]
  },
  {
   "cell_type": "code",
   "execution_count": null,
   "id": "c6e5cd63",
   "metadata": {},
   "outputs": [],
   "source": [
    "import sys\n",
    "input = sys.stdin.readline\n",
    "score=[]\n",
    "for i in range(5):\n",
    "    a = list(map(int, input().split()))\n",
    "    b = sum(a)\n",
    "    score.append(b)\n",
    "    \n",
    "m = max(score)\n",
    "index = score.index(m)\n",
    "print(index+1, m,sep=' ')"
   ]
  },
  {
   "cell_type": "code",
   "execution_count": 1,
   "id": "bea2360d",
   "metadata": {},
   "outputs": [
    {
     "name": "stdout",
     "output_type": "stream",
     "text": [
      "5 4 4 5\n",
      "5 4 4 4\n",
      "5 5 4 4\n",
      "5 5 5 4\n",
      "4 4 4 5\n",
      "3 19\n"
     ]
    }
   ],
   "source": [
    "score=[]\n",
    "for i in range(5):\n",
    "    a = list(map(int, input().split()))\n",
    "    b = sum(a)\n",
    "    score.append(b)\n",
    "    \n",
    "m = max(score)\n",
    "index = score.index(m)\n",
    "print(index+1, m,sep=' ')"
   ]
  },
  {
   "cell_type": "code",
   "execution_count": null,
   "id": "e47248a2",
   "metadata": {},
   "outputs": [],
   "source": [
    "# 정답\n",
    "result = 0 # 최종 우승자\n",
    "max_value = 0 # 평가 점수의 최댓값\n",
    "\n",
    "# 요리사는 총 5명\n",
    "for i in range(5):\n",
    "    "
   ]
  },
  {
   "cell_type": "code",
   "execution_count": 23,
   "id": "d1dc682d",
   "metadata": {},
   "outputs": [],
   "source": [
    "score=[]\n",
    "for i in range(5):\n",
    "    a = list(map(int, input().split()))\n",
    "    b = sum(a)\n",
    "    score.append(b)\n",
    "    \n",
    "m = max(score)\n",
    "index = score.index(m)\n",
    "print(index, m,sep=' ')"
   ]
  },
  {
   "cell_type": "code",
   "execution_count": 27,
   "id": "520ff854",
   "metadata": {},
   "outputs": [],
   "source": [
    "a = [1,2,3,4]\n",
    "m = max(a)\n",
    "index = a.index(m)\n"
   ]
  },
  {
   "cell_type": "code",
   "execution_count": 33,
   "id": "609e47ac",
   "metadata": {},
   "outputs": [
    {
     "name": "stdout",
     "output_type": "stream",
     "text": [
      "3\n",
      "4\n"
     ]
    }
   ],
   "source": [
    "print(index, end='\\n')\n",
    "print(m)"
   ]
  },
  {
   "cell_type": "code",
   "execution_count": 30,
   "id": "7f2321aa",
   "metadata": {},
   "outputs": [
    {
     "name": "stdout",
     "output_type": "stream",
     "text": [
      "4\n"
     ]
    }
   ],
   "source": [
    "print(m)"
   ]
  },
  {
   "cell_type": "code",
   "execution_count": 31,
   "id": "5cb6163d",
   "metadata": {},
   "outputs": [
    {
     "name": "stdout",
     "output_type": "stream",
     "text": [
      "3 4\n"
     ]
    }
   ],
   "source": [
    "print(index,m,sep=' ')"
   ]
  },
  {
   "cell_type": "code",
   "execution_count": 18,
   "id": "503329b9",
   "metadata": {},
   "outputs": [],
   "source": [
    "a=[1,2,3,4,5]\n",
    "b=[]"
   ]
  },
  {
   "cell_type": "code",
   "execution_count": 19,
   "id": "af52336b",
   "metadata": {},
   "outputs": [
    {
     "name": "stdout",
     "output_type": "stream",
     "text": [
      "1\n",
      "2\n",
      "3\n",
      "4\n",
      "5\n"
     ]
    }
   ],
   "source": [
    "for i in a:\n",
    "    print(i)\n",
    "    b.append(i)\n",
    "    "
   ]
  },
  {
   "cell_type": "code",
   "execution_count": 20,
   "id": "bf16cbd6",
   "metadata": {
    "scrolled": true
   },
   "outputs": [
    {
     "data": {
      "text/plain": [
       "[1, 2, 3, 4, 5]"
      ]
     },
     "execution_count": 20,
     "metadata": {},
     "output_type": "execute_result"
    }
   ],
   "source": [
    "b"
   ]
  },
  {
   "cell_type": "code",
   "execution_count": 21,
   "id": "58c386ac",
   "metadata": {},
   "outputs": [
    {
     "data": {
      "text/plain": [
       "3"
      ]
     },
     "execution_count": 21,
     "metadata": {},
     "output_type": "execute_result"
    }
   ],
   "source": [
    "b.pop(2)"
   ]
  },
  {
   "cell_type": "code",
   "execution_count": 53,
   "id": "9273b7ba",
   "metadata": {
    "scrolled": true
   },
   "outputs": [
    {
     "ename": "TypeError",
     "evalue": "'int' object is not callable",
     "output_type": "error",
     "traceback": [
      "\u001b[1;31m---------------------------------------------------------------------------\u001b[0m",
      "\u001b[1;31mTypeError\u001b[0m                                 Traceback (most recent call last)",
      "Input \u001b[1;32mIn [53]\u001b[0m, in \u001b[0;36m<cell line: 2>\u001b[1;34m()\u001b[0m\n\u001b[0;32m      1\u001b[0m a \u001b[38;5;241m=\u001b[39m (\u001b[38;5;241m1\u001b[39m,\u001b[38;5;241m2\u001b[39m,\u001b[38;5;241m3\u001b[39m,\u001b[38;5;241m4\u001b[39m,\u001b[38;5;241m5\u001b[39m)\n\u001b[1;32m----> 2\u001b[0m b \u001b[38;5;241m=\u001b[39m \u001b[38;5;28;43msum\u001b[39;49m\u001b[43m(\u001b[49m\u001b[43ma\u001b[49m\u001b[43m[\u001b[49m\u001b[43m:\u001b[49m\u001b[38;5;241;43m3\u001b[39;49m\u001b[43m]\u001b[49m\u001b[43m)\u001b[49m\n",
      "\u001b[1;31mTypeError\u001b[0m: 'int' object is not callable"
     ]
    }
   ],
   "source": [
    "import sys\n",
    "input = sys.stdin.readline\n",
    "n, w, l = map(int, input().split())\n",
    "a = list(map(int, input().split()))\n",
    "q =[]\n",
    "t = 0\n",
    "for i in range(1,n+1): # 트럭 한 대씩 n대 넣기\n",
    "    t+=1\n",
    "    if \n"
   ]
  },
  {
   "cell_type": "code",
   "execution_count": 4,
   "id": "ead11b9a",
   "metadata": {},
   "outputs": [],
   "source": [
    "a = [1,2,3,4,5]\n",
    "b = a[2:4]"
   ]
  },
  {
   "cell_type": "code",
   "execution_count": 5,
   "id": "39c24660",
   "metadata": {},
   "outputs": [
    {
     "data": {
      "text/plain": [
       "[3, 4]"
      ]
     },
     "execution_count": 5,
     "metadata": {},
     "output_type": "execute_result"
    }
   ],
   "source": [
    "b"
   ]
  },
  {
   "cell_type": "code",
   "execution_count": 6,
   "id": "2e34121d",
   "metadata": {},
   "outputs": [
    {
     "data": {
      "text/plain": [
       "7"
      ]
     },
     "execution_count": 6,
     "metadata": {},
     "output_type": "execute_result"
    }
   ],
   "source": [
    "sum(b)"
   ]
  },
  {
   "cell_type": "code",
   "execution_count": 61,
   "id": "d92f4830",
   "metadata": {},
   "outputs": [
    {
     "ename": "TypeError",
     "evalue": "'int' object is not callable",
     "output_type": "error",
     "traceback": [
      "\u001b[1;31m---------------------------------------------------------------------------\u001b[0m",
      "\u001b[1;31mTypeError\u001b[0m                                 Traceback (most recent call last)",
      "Input \u001b[1;32mIn [61]\u001b[0m, in \u001b[0;36m<cell line: 1>\u001b[1;34m()\u001b[0m\n\u001b[1;32m----> 1\u001b[0m \u001b[38;5;28;43msum\u001b[39;49m\u001b[43m(\u001b[49m\u001b[43ma\u001b[49m\u001b[43m)\u001b[49m\n",
      "\u001b[1;31mTypeError\u001b[0m: 'int' object is not callable"
     ]
    }
   ],
   "source": [
    "sum(a)"
   ]
  },
  {
   "cell_type": "code",
   "execution_count": 2,
   "id": "205d108b",
   "metadata": {},
   "outputs": [],
   "source": [
    "a = [1,2,3,4,5]"
   ]
  },
  {
   "cell_type": "code",
   "execution_count": 3,
   "id": "6764da4d",
   "metadata": {},
   "outputs": [
    {
     "data": {
      "text/plain": [
       "15"
      ]
     },
     "execution_count": 3,
     "metadata": {},
     "output_type": "execute_result"
    }
   ],
   "source": [
    "sum(a)"
   ]
  },
  {
   "cell_type": "code",
   "execution_count": null,
   "id": "2e39b3f6",
   "metadata": {},
   "outputs": [],
   "source": []
  }
 ],
 "metadata": {
  "kernelspec": {
   "display_name": "Python 3 (ipykernel)",
   "language": "python",
   "name": "python3"
  },
  "language_info": {
   "codemirror_mode": {
    "name": "ipython",
    "version": 3
   },
   "file_extension": ".py",
   "mimetype": "text/x-python",
   "name": "python",
   "nbconvert_exporter": "python",
   "pygments_lexer": "ipython3",
   "version": "3.8.13"
  }
 },
 "nbformat": 4,
 "nbformat_minor": 5
}
