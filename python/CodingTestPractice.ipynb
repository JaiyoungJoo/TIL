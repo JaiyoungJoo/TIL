{
 "cells": [
  {
   "cell_type": "markdown",
   "id": "3f89725c",
   "metadata": {},
   "source": [
    "1. 백준 문제 \"음계\" (X)"
   ]
  },
  {
   "cell_type": "code",
   "execution_count": null,
   "id": "0968ef65",
   "metadata": {},
   "outputs": [],
   "source": [
    "a = list(map(int, input().split(' ')))\n",
    "# 문제 맨 처음 입력 받는게 제일 어려움.\n",
    "\n",
    "# 이렇게 하는 건 생각도 못함.\n",
    "ascending=True\n",
    "descending=True\n",
    "\n",
    "# 난 멍청하게 하나하나 숫자 일치하는지 노가다 하려고 했음\n",
    "for i in range(1,8):\n",
    "    if a[i]>a[i-1]: # 오름차순\n",
    "        descending=False\n",
    "    elif a[i]<a[i-1]: # 내림차순\n",
    "        ascending=False\n",
    "    else:\n",
    "        descending=False\n",
    "        ascending=False\n",
    "\n",
    "# 이렇게 따로 안쓰면 for문 돌때마다 print 함\n",
    "# ascending 이것도 이렇게 하나만 써야 함.\n",
    "if ascending:\n",
    "    print('ascending')\n",
    "elif descending:\n",
    "    print('descending')\n",
    "else:\n",
    "    print('mixed')"
   ]
  },
  {
   "cell_type": "markdown",
   "id": "9891c5d1",
   "metadata": {},
   "source": [
    "2. 백준 문제 \"블랙잭\" (X)\n",
    "\n",
    "문제 난이도:하(easy)\n",
    "\n",
    "문제 유형:배열, 완전 탐색\n",
    "\n",
    "시간:20분\n",
    "\n",
    "손도 못대겠음...\n",
    "\n",
    "랜덤으로 뽑는 거 어떻게 하는거임??\n",
    "\n",
    "근데 랜덤 뽑기 안하고 그냥 for문을 3개 돌려버렸네."
   ]
  },
  {
   "cell_type": "code",
   "execution_count": 8,
   "id": "5661b34c",
   "metadata": {},
   "outputs": [
    {
     "name": "stdout",
     "output_type": "stream",
     "text": [
      "5 21\n",
      "5 6 7 8 9\n",
      "21\n"
     ]
    }
   ],
   "source": [
    "n, m = list(map(int, input().split(' ')))\n",
    "data = list(map(int, input().split(' ')))\n",
    "# 여기까진 잘함.\n",
    "\n",
    "result=0\n",
    "length=len(data)\n",
    "\n",
    "# count=0 # 이건 왜 씀?\n",
    "for i in range(0, length):\n",
    "    for j in range(i+1, length): # i 바로 다음 수부터 for 돌림\n",
    "        for k in range(j+1, length): # j 바로 다음 수부터 for 돌림 i+2 이렇게 하면 안됨.\n",
    "            sum_value=data[i]+data[j]+data[k]\n",
    "            if sum_value<=m:\n",
    "                result=max(result,sum_value) # 와 이렇게 하면 기존의 result랑 sum_value랑 계속 비교함\n",
    "print(result)\n",
    "\n"
   ]
  },
  {
   "cell_type": "markdown",
   "id": "9360a910",
   "metadata": {},
   "source": [
    "3. 백준 문제 \"스택 수열\" (X)\n",
    "\n",
    "문제 난이도:하(easy)\n",
    "\n",
    "문제 유형:스택, 그리디\n",
    "\n",
    "시간:30분\n",
    "\n",
    "아니 이거 어떻게 하냐 진짜...\n",
    "\n",
    "문제 이해하는 것도 어렵다. 이해는 했지만...\n",
    "\n",
    "애초에 input을 어떻게 줘야 하는거냐?\n",
    "\n",
    "아무리 생각해도 어떻게 해야할 지 모르겠다.\n",
    "\n",
    "아니...해설을 봐도 모르겠는데?\n",
    "\n",
    "exit(0) # 종료 코드 - 이것도 처음 봄 !!\n",
    "\n",
    "print('\\n'.join(result)) # 가능한 경우 출력 - 이건 뭐임!\n",
    "\n",
    "한 줄 씩 출력하기\n",
    "\n",
    "아니 이거 진짜 말도 안됨..."
   ]
  },
  {
   "cell_type": "code",
   "execution_count": 9,
   "id": "079fb7f0",
   "metadata": {},
   "outputs": [
    {
     "name": "stdout",
     "output_type": "stream",
     "text": [
      "8\n",
      "4\n",
      "3\n",
      "6\n",
      "8\n",
      "7\n",
      "5\n",
      "2\n",
      "1\n",
      "+\n",
      "+\n",
      "+\n",
      "+\n",
      "-\n",
      "-\n",
      "+\n",
      "+\n",
      "-\n",
      "+\n",
      "+\n",
      "-\n",
      "-\n",
      "-\n",
      "-\n",
      "-\n"
     ]
    }
   ],
   "source": [
    "n = int(input()) # 이건 알겠음.\n",
    "\n",
    "count=1\n",
    "stack=[] # 스택을 쌓을 리스트\n",
    "result=[] # 결과로 추출할 리스트\n",
    "\n",
    "for i in range(1, n+1): # n개 만큼의 data를 만들기 위함\n",
    "    data=int(input()) \n",
    "    while count<= data: # 입력 받은 데이터에 도달할 때까지 삽입, 오름차순으로 하나씩 넣는 건가\n",
    "        stack.append(count)\n",
    "        count+=1\n",
    "        result.append('+') # count 하나씩 넣을 때마다 result에 '+' 넣음\n",
    "        # count가 data보다 커지면 while 나감\n",
    "    if stack[-1]==data: #마지막에 넣은 숫자가 data랑 같을 때\n",
    "        stack.pop() # 마지막 숫자 빼냄\n",
    "        result.append('-')\n",
    "    else: # 불가능한 경우\n",
    "        print('NO')\n",
    "        exit(0) # 종료 코드 - 이것도 처음 봄 !!\n",
    "        \n",
    "print('\\n'.join(result)) # 가능한 경우 출력 - 이건 뭐임!\n",
    "# 한 줄 씩 출력하기\n"
   ]
  },
  {
   "cell_type": "markdown",
   "id": "aa77c473",
   "metadata": {},
   "source": [
    "4. 백준 문제 \"프린터 큐\" (X)\n",
    "\n",
    "문제 난이도:하(easy)\n",
    "\n",
    "문제 유형:큐, 구현, 그리디\n",
    "\n",
    "시간:25분\n",
    "\n",
    "- 데이터의 개수(N<=100)가 많지 않으므로, 단순히 문제에서 요구하는 대로 구현\n",
    "- 현재 리스트에서 가장 큰 수가 앞에 올 때까지 회전시킨 뒤에 추출\n",
    "- 가장 큰 수가 M 이면서 가장 앞에 있을 때 프로그램을 종료\n",
    "\n",
    "미쳤다...이걸 어떻게 하냐 진짜...\n",
    "\n"
   ]
  },
  {
   "cell_type": "code",
   "execution_count": 11,
   "id": "151c6647",
   "metadata": {},
   "outputs": [
    {
     "name": "stdout",
     "output_type": "stream",
     "text": [
      "3\n",
      "1 0\n",
      "5\n",
      "1\n",
      "4 2\n",
      "1 2 3 4\n",
      "2\n",
      "6 0\n",
      "1 1 9 1 1 1\n",
      "5\n"
     ]
    }
   ],
   "source": [
    "test_case=int(input())\n",
    "for _ in range(test_case):\n",
    "    n, m = list(map(int, input().split(' '))) # 여기서 n은 필요 없음.\n",
    "    queue = list(map(int, input().split(' '))) # 여기까지 대충 할 수 있음\n",
    "    queue = [(i, idx) for idx, i in enumerate(queue)] # 이게 대박임...\n",
    "    # 앞에 중요도, 뒤에 순서가 들어감.\n",
    "    \n",
    "    count=0 # 인쇄 횟수\n",
    "    while True: # 무한 반복\n",
    "        if queue[0][0] == max(queue, key=lambda x:x[0])[0]:\n",
    "        # 큐의 맨 앞의 중요도가 max(queue, key=lambda x:x[0])[0] 이게 뭐임\n",
    "        # queue가 튜플이고 key라는 인자를 기준으로 max 값을 구함.\n",
    "        # key가 되는 값이 튜플임. 이 튜플의 앞의 값을 기준으로 함.\n",
    "        # 그럼 max값이( , ) 이렇게 튜플로 나오는데 그 앞에 있는 값\n",
    "        # 큐의 가장 큰 중요도와 동일 하다면?\n",
    "            count+=1\n",
    "            if queue[0][1] == m: # 찾고자 하는 순서\n",
    "                print(count)\n",
    "                break\n",
    "            else:\n",
    "                queue.pop(0) # 찾으려는게 아니면 인쇄하고 끝\n",
    "        else:\n",
    "            queue.append(queue.pop(0)) # 최대값이 아니면 뽑아서 맨 위에 붙임\n",
    "            # 이게 대박"
   ]
  },
  {
   "cell_type": "markdown",
   "id": "c58d594a",
   "metadata": {},
   "source": [
    "5. 백준 문제 \"키로거\" (X)\n",
    "\n",
    "문제 난이도:중(medium)\n",
    "\n",
    "문제 유형:스택, 구현, 그리디\n",
    "\n",
    "시간:40분\n",
    "\n",
    "1. 문자열 크기가 최대 1,000,000이므로 시뮬레이션 방식으로는 불가능\n",
    "2. 스택을 활용하여 선형시간 O(n) 문제를 해결할 수 있는 알고리즘을 설계\n",
    "\n",
    "1. 스택 2개를 만들고, 스택 2개의 중간 지점을 커서(cursor)로 간주\n",
    "2. 문자입력:왼쪽 스택에 원소 삽입\n",
    "3. -입력:왼쪽 스택에서 원소를 삭제\n",
    "4. <입력:왼쪽 스택에서 오른쪽 스택으로 원소를 이동\n",
    "5. >입력:오른쪽 스택에서 왼쪽 스택으로 원소 이동\n",
    "\n",
    "이거 백준에서 출력 초과라고 나옴 \n",
    "\n",
    "이유를 모름"
   ]
  },
  {
   "cell_type": "code",
   "execution_count": 13,
   "id": "578a1f4c",
   "metadata": {
    "collapsed": true
   },
   "outputs": [
    {
     "ename": "KeyboardInterrupt",
     "evalue": "Interrupted by user",
     "output_type": "error",
     "traceback": [
      "\u001b[1;31m---------------------------------------------------------------------------\u001b[0m",
      "\u001b[1;31mKeyboardInterrupt\u001b[0m                         Traceback (most recent call last)",
      "Input \u001b[1;32mIn [13]\u001b[0m, in \u001b[0;36m<cell line: 1>\u001b[1;34m()\u001b[0m\n\u001b[1;32m----> 1\u001b[0m test_case\u001b[38;5;241m=\u001b[39m\u001b[38;5;28mint\u001b[39m(\u001b[38;5;28;43minput\u001b[39;49m\u001b[43m(\u001b[49m\u001b[43m)\u001b[49m)\n\u001b[0;32m      2\u001b[0m \u001b[38;5;28;01mfor\u001b[39;00m _ \u001b[38;5;129;01min\u001b[39;00m \u001b[38;5;28mrange\u001b[39m(test_case):\n\u001b[0;32m      3\u001b[0m     left_stack\u001b[38;5;241m=\u001b[39m[]\n",
      "File \u001b[1;32m~\\miniforge3\\envs\\dl2\\lib\\site-packages\\ipykernel\\kernelbase.py:1177\u001b[0m, in \u001b[0;36mKernel.raw_input\u001b[1;34m(self, prompt)\u001b[0m\n\u001b[0;32m   1173\u001b[0m \u001b[38;5;28;01mif\u001b[39;00m \u001b[38;5;129;01mnot\u001b[39;00m \u001b[38;5;28mself\u001b[39m\u001b[38;5;241m.\u001b[39m_allow_stdin:\n\u001b[0;32m   1174\u001b[0m     \u001b[38;5;28;01mraise\u001b[39;00m StdinNotImplementedError(\n\u001b[0;32m   1175\u001b[0m         \u001b[38;5;124m\"\u001b[39m\u001b[38;5;124mraw_input was called, but this frontend does not support input requests.\u001b[39m\u001b[38;5;124m\"\u001b[39m\n\u001b[0;32m   1176\u001b[0m     )\n\u001b[1;32m-> 1177\u001b[0m \u001b[38;5;28;01mreturn\u001b[39;00m \u001b[38;5;28;43mself\u001b[39;49m\u001b[38;5;241;43m.\u001b[39;49m\u001b[43m_input_request\u001b[49m\u001b[43m(\u001b[49m\n\u001b[0;32m   1178\u001b[0m \u001b[43m    \u001b[49m\u001b[38;5;28;43mstr\u001b[39;49m\u001b[43m(\u001b[49m\u001b[43mprompt\u001b[49m\u001b[43m)\u001b[49m\u001b[43m,\u001b[49m\n\u001b[0;32m   1179\u001b[0m \u001b[43m    \u001b[49m\u001b[38;5;28;43mself\u001b[39;49m\u001b[38;5;241;43m.\u001b[39;49m\u001b[43m_parent_ident\u001b[49m\u001b[43m[\u001b[49m\u001b[38;5;124;43m\"\u001b[39;49m\u001b[38;5;124;43mshell\u001b[39;49m\u001b[38;5;124;43m\"\u001b[39;49m\u001b[43m]\u001b[49m\u001b[43m,\u001b[49m\n\u001b[0;32m   1180\u001b[0m \u001b[43m    \u001b[49m\u001b[38;5;28;43mself\u001b[39;49m\u001b[38;5;241;43m.\u001b[39;49m\u001b[43mget_parent\u001b[49m\u001b[43m(\u001b[49m\u001b[38;5;124;43m\"\u001b[39;49m\u001b[38;5;124;43mshell\u001b[39;49m\u001b[38;5;124;43m\"\u001b[39;49m\u001b[43m)\u001b[49m\u001b[43m,\u001b[49m\n\u001b[0;32m   1181\u001b[0m \u001b[43m    \u001b[49m\u001b[43mpassword\u001b[49m\u001b[38;5;241;43m=\u001b[39;49m\u001b[38;5;28;43;01mFalse\u001b[39;49;00m\u001b[43m,\u001b[49m\n\u001b[0;32m   1182\u001b[0m \u001b[43m\u001b[49m\u001b[43m)\u001b[49m\n",
      "File \u001b[1;32m~\\miniforge3\\envs\\dl2\\lib\\site-packages\\ipykernel\\kernelbase.py:1219\u001b[0m, in \u001b[0;36mKernel._input_request\u001b[1;34m(self, prompt, ident, parent, password)\u001b[0m\n\u001b[0;32m   1216\u001b[0m             \u001b[38;5;28;01mbreak\u001b[39;00m\n\u001b[0;32m   1217\u001b[0m \u001b[38;5;28;01mexcept\u001b[39;00m \u001b[38;5;167;01mKeyboardInterrupt\u001b[39;00m:\n\u001b[0;32m   1218\u001b[0m     \u001b[38;5;66;03m# re-raise KeyboardInterrupt, to truncate traceback\u001b[39;00m\n\u001b[1;32m-> 1219\u001b[0m     \u001b[38;5;28;01mraise\u001b[39;00m \u001b[38;5;167;01mKeyboardInterrupt\u001b[39;00m(\u001b[38;5;124m\"\u001b[39m\u001b[38;5;124mInterrupted by user\u001b[39m\u001b[38;5;124m\"\u001b[39m) \u001b[38;5;28;01mfrom\u001b[39;00m \u001b[38;5;28mNone\u001b[39m\n\u001b[0;32m   1220\u001b[0m \u001b[38;5;28;01mexcept\u001b[39;00m \u001b[38;5;167;01mException\u001b[39;00m:\n\u001b[0;32m   1221\u001b[0m     \u001b[38;5;28mself\u001b[39m\u001b[38;5;241m.\u001b[39mlog\u001b[38;5;241m.\u001b[39mwarning(\u001b[38;5;124m\"\u001b[39m\u001b[38;5;124mInvalid Message:\u001b[39m\u001b[38;5;124m\"\u001b[39m, exc_info\u001b[38;5;241m=\u001b[39m\u001b[38;5;28;01mTrue\u001b[39;00m)\n",
      "\u001b[1;31mKeyboardInterrupt\u001b[0m: Interrupted by user"
     ]
    }
   ],
   "source": [
    "test_case=int(input())\n",
    "for _ in range(test_case):\n",
    "    left_stack=[]\n",
    "    right_stack=[]\n",
    "    data=input()\n",
    "    for i in data:\n",
    "        if i == '-':\n",
    "            if left_stack: # 이거 왜 굳이 if를 써야 하나???꼭 써야 한다.\n",
    "                # if를 써야 비어있지 않을 때만 pop을 한다\n",
    "                left_stack.pop()\n",
    "            elif i == '<':\n",
    "                if left_stack:\n",
    "                    right_stack.append(left_stack.pop())\n",
    "                    # 커서가 왼쪽으로 이동하면 왼쪽에 있는 글자 하나가 오른쪽으로 이동이랑 같다.\n",
    "            elif i == '>':\n",
    "                if right_stack:\n",
    "                    left_stack.append(right_stack.pop())\n",
    "            else:\n",
    "                left_stack.append(i)\n",
    "        left_stack.extend(reversed(right_stack)) # 이건 뭐임!\n",
    "        # 뒤집어서 왼쪽에 오른쪽을 붙여야 한다.\n",
    "        print(''.join(left_stack)) # 이건 왜 한거지?\n",
    "        \n",
    "# ''.join(list) list 안의 내용을 다 붙여준다."
   ]
  },
  {
   "cell_type": "markdown",
   "id": "62b74b21",
   "metadata": {},
   "source": [
    "6. 백준 문제 \"SHA-256\" (X) - 대표적인 해시 알고리즘 중 하나\n",
    "\n",
    "문제 난이도:하(easy)\n",
    "\n",
    "문제 유형:해시, 구현\n",
    "\n",
    "시간:15분\n",
    "\n",
    "1. hashlib 의 sha256 함수를 이용하면 SHA 256 해시를 구할 수 있다.\n",
    "2. hashlib.sha256(문자열의 바이트 객체).hexdigest() : 해시 결과 문자열\n",
    "\n",
    "이건 진심 뭐 어쩌라는 건지?\n"
   ]
  },
  {
   "cell_type": "code",
   "execution_count": 18,
   "id": "1ac56d6a",
   "metadata": {},
   "outputs": [
    {
     "name": "stdout",
     "output_type": "stream",
     "text": [
      "<<bd<aff\n"
     ]
    },
    {
     "data": {
      "text/plain": [
       "['', '', 'bd', 'aff']"
      ]
     },
     "execution_count": 18,
     "metadata": {},
     "output_type": "execute_result"
    }
   ],
   "source": [
    "import hashlib\n",
    "\n",
    "input_data = input() # 아무거나 입력 받고\n",
    "encoded_data = input_data.encode() # 입력 받은 것의 바이트 객체를 불러오고\n",
    "# hashlib.sha256(encoded_data) 인코드 된 걸 sha256 함수에 넣으면 해시 객체 만들어짐\n",
    "result = hashlib.sha256(encoded_data).hexdigest() # 해시 결과를 의미하는 문자열이 된다.\n",
    "print(result)"
   ]
  },
  {
   "cell_type": "markdown",
   "id": "bc178366",
   "metadata": {},
   "source": [
    "7. 백준 문제 \"수 찾기\" (X) \n",
    "\n",
    "문제 난이도:하(easy)\n",
    "\n",
    "문제 유형:해시, 배열, 구현 - 파이썬은 그냥 딕셔너리 하면 해시처럼 된다.\n",
    "\n",
    "시간:20분\n",
    "\n",
    "1. 특정 정수의 등장 여부만을 간단히 체크\n",
    "2. python에서는 dictionary 자료형을 해시처럼 사용\n",
    "3. 본 문제는 set 자료형을 이용해 더욱 간단히 가능\n",
    "- 집합이라서 중복은 허용 안함.\n",
    "\n",
    "이거 왜 시간초과 뜨냐?\n",
    "- 아 이거 혹시 정답 체크할 때 숫자 엄청 긴게 있나 보다\n",
    "- 그래서 단순히 for문 돌려서 in 체크하면 시간이 오래 걸리는 듯?\n",
    "\n",
    "아니 정답이 나랑 비슷한데?\n",
    "\n",
    "아니 이거 이진 탐색 트리로 해야 하는데??\n",
    "\n",
    "안그러면 시간 초과됨."
   ]
  },
  {
   "cell_type": "code",
   "execution_count": 8,
   "id": "1b28d5f4",
   "metadata": {},
   "outputs": [
    {
     "name": "stdout",
     "output_type": "stream",
     "text": [
      "5\n",
      "4 1 5 2 3\n",
      "5\n",
      "1 3 7 9 5\n",
      "1\n",
      "1\n",
      "0\n",
      "0\n",
      "1\n"
     ]
    }
   ],
   "source": [
    "# 내가 한 것 시간 초과됨.\n",
    "n=int(input())\n",
    "sample=list(input().split(' '))\n",
    "m=int(input())\n",
    "data=list(input().split(' '))\n",
    "\n",
    "for i in range(m):\n",
    "    if data[i] in sample:\n",
    "        print(1)\n",
    "    else:\n",
    "        print(0)"
   ]
  },
  {
   "cell_type": "code",
   "execution_count": 5,
   "id": "e1e0537b",
   "metadata": {},
   "outputs": [
    {
     "name": "stdout",
     "output_type": "stream",
     "text": [
      "5\n",
      "1 2 3 4 5\n"
     ]
    }
   ],
   "source": [
    "# 정답\n",
    "n = int(input())\n",
    "array = set(map(int, input().split()))\n",
    "m = int(intput())\n",
    "x = list(map(int, input().split()))\n",
    "\n",
    "for i in x:\n",
    "    if i not in array:\n",
    "        print('0')\n",
    "    else:\n",
    "        print('1')"
   ]
  },
  {
   "cell_type": "markdown",
   "id": "714b5cc0",
   "metadata": {},
   "source": [
    "8. 백준 문제 \"친구 네트워크\" (X) \n",
    "\n",
    "문제 난이도:중(medium)\n",
    "\n",
    "문제 유형:해시, 집합, 그래프\n",
    "\n",
    "시간:50분\n",
    "\n",
    "1. 해시를 활용한 Union-Find 알고리즘을 이용\n",
    "2. Python 에서는 dictionary 자료형을 해시처럼 사용\n",
    "\n",
    "이거 진짜 엄청 어렵다.\n",
    "\n",
    "나중에 꼭 다시 보기"
   ]
  },
  {
   "cell_type": "code",
   "execution_count": 19,
   "id": "3c290de1",
   "metadata": {},
   "outputs": [],
   "source": [
    "# 합집합 찾기(Union-Find)알고리즘\n",
    "def find(x): # 부모 찾기\n",
    "    if x == parent[x]:\n",
    "        return x # \n",
    "    else:\n",
    "        p = find(parent[x])\n",
    "        parent[x] = p\n",
    "        return parent[x]\n",
    "\n",
    "def union(x, y):\n",
    "    x = find(x)\n",
    "    y = find(y)\n",
    "    \n",
    "    parent[y] =x"
   ]
  },
  {
   "cell_type": "code",
   "execution_count": 22,
   "id": "c43775b6",
   "metadata": {},
   "outputs": [
    {
     "name": "stdout",
     "output_type": "stream",
     "text": [
      "2 2 3 2 "
     ]
    }
   ],
   "source": [
    "parent = []\n",
    "for i in range(0,5):\n",
    "    parent.append(i)\n",
    "    \n",
    "union(1,4)\n",
    "union(2,4)\n",
    "\n",
    "for i in range(1, len(parent)): # 0은 없다고 치고 1부터 시작\n",
    "    print(find(i), end=' ') # 한 줄 씩 출력되는 걸 바로 옆에 한 칸 띄고 출력\n",
    "    \n"
   ]
  },
  {
   "cell_type": "code",
   "execution_count": null,
   "id": "2d2c8196",
   "metadata": {},
   "outputs": [],
   "source": [
    "def find(x):\n",
    "    if x == parent[x]:\n",
    "        return x\n",
    "    else:\n",
    "        p = find(parent[x])\n",
    "        parent[x] = p\n",
    "        return parent[x]\n",
    "def union(x, y):\n",
    "    x = find(x)\n",
    "    y = find(y)\n",
    "    \n",
    "    if x != y:\n",
    "        parent[y]=x\n",
    "        number[x] += number[y]\n",
    "        \n",
    "test_case = int(input())\n",
    "\n",
    "for _ in range(test_case):\n",
    "    parent = dict()\n",
    "    number = dict()\n",
    "    \n",
    "    f = int(input())\n",
    "    \n",
    "    for _ in range(f):\n",
    "        x, y = input().split(' ')\n",
    "        \n",
    "        if x not in parent:\n",
    "            parent[x] = x\n",
    "            number[x] = 1\n",
    "        if y not in parent:\n",
    "            parent[y] = y\n",
    "            number[y] = 1\n",
    "            \n",
    "        union(x, y)\n",
    "        print(number[find(x)])\n",
    "        \n",
    "        \n"
   ]
  },
  {
   "cell_type": "code",
   "execution_count": 11,
   "id": "5fbd40de",
   "metadata": {},
   "outputs": [
    {
     "name": "stdout",
     "output_type": "stream",
     "text": [
      "5\n",
      "12345\n"
     ]
    }
   ],
   "source": [
    "n = int(input())\n",
    "array = set(map(int, input().split()))"
   ]
  },
  {
   "cell_type": "code",
   "execution_count": 12,
   "id": "1d0a4211",
   "metadata": {
    "scrolled": true
   },
   "outputs": [
    {
     "data": {
      "text/plain": [
       "{12345}"
      ]
     },
     "execution_count": 12,
     "metadata": {},
     "output_type": "execute_result"
    }
   ],
   "source": [
    "array"
   ]
  },
  {
   "cell_type": "markdown",
   "id": "493556d6",
   "metadata": {},
   "source": [
    "9. 백준 문제 \"스택\" (X) \n",
    "\n",
    "문제 난이도:하(Easy)\n",
    "\n",
    "문제 유형:자료구조, 스택, 시뮬레이션\n",
    "\n",
    "시간:20분\n",
    "\n",
    "push X: 정수 X를 스택에 넣는 연산이다.\n",
    "\n",
    "pop: 스택에서 가장 위에 있는 정수를 빼고, 그 수를 출력한다. 만약 스택에 들어있는 정수가 없는 경우에는 -1을 출력한다.\n",
    "\n",
    "size: 스택에 들어있는 정수의 개수를 출력한다.\n",
    "\n",
    "empty: 스택이 비어있으면 1, 아니면 0을 출력한다.\n",
    "\n",
    "top: 스택의 가장 위에 있는 정수를 출력한다. 만약 스택에 들어있는 정수가 없는 경우에는 -1을 출력한다.\n",
    "\n",
    "- 본 문제는 stack 자료구조를 구현할 수 있으면 쉽다.\n",
    "- python은 단순히 list를 이용해서 스택을 구현 가능\n",
    "- 원소를 삽입할 때 append()\n",
    "- 원소를 삭제할 때 pop() 사용\n",
    "\n",
    "input() 대신 sys.stdin.readline()을 사용한다.\n",
    "- 반복문으로 여러줄 입력 받으면 input() 사용시 시간 초과 발생\n"
   ]
  },
  {
   "cell_type": "code",
   "execution_count": 7,
   "id": "1f61d3fe",
   "metadata": {},
   "outputs": [],
   "source": [
    "# 그냥 문자열 받을 때\n",
    "import sys \n",
    "a = sys.stdin.readline()"
   ]
  },
  {
   "cell_type": "code",
   "execution_count": 2,
   "id": "dbc881f7",
   "metadata": {
    "scrolled": true
   },
   "outputs": [
    {
     "ename": "ValueError",
     "evalue": "invalid literal for int() with base 10: ''",
     "output_type": "error",
     "traceback": [
      "\u001b[1;31m---------------------------------------------------------------------------\u001b[0m",
      "\u001b[1;31mValueError\u001b[0m                                Traceback (most recent call last)",
      "Input \u001b[1;32mIn [2]\u001b[0m, in \u001b[0;36m<cell line: 3>\u001b[1;34m()\u001b[0m\n\u001b[0;32m      1\u001b[0m \u001b[38;5;66;03m# 한 개의 정수를 입력\u001b[39;00m\n\u001b[0;32m      2\u001b[0m \u001b[38;5;28;01mimport\u001b[39;00m \u001b[38;5;21;01msys\u001b[39;00m \n\u001b[1;32m----> 3\u001b[0m a \u001b[38;5;241m=\u001b[39m \u001b[38;5;28;43mint\u001b[39;49m\u001b[43m(\u001b[49m\u001b[43msys\u001b[49m\u001b[38;5;241;43m.\u001b[39;49m\u001b[43mstdin\u001b[49m\u001b[38;5;241;43m.\u001b[39;49m\u001b[43mreadline\u001b[49m\u001b[43m(\u001b[49m\u001b[43m)\u001b[49m\u001b[43m)\u001b[49m\n",
      "\u001b[1;31mValueError\u001b[0m: invalid literal for int() with base 10: ''"
     ]
    }
   ],
   "source": [
    "# 한 개의 정수를 입력\n",
    "import sys \n",
    "a = int(sys.stdin.readline())"
   ]
  },
  {
   "cell_type": "code",
   "execution_count": 4,
   "id": "ab7a1fb3",
   "metadata": {
    "scrolled": true
   },
   "outputs": [
    {
     "ename": "ValueError",
     "evalue": "not enough values to unpack (expected 3, got 0)",
     "output_type": "error",
     "traceback": [
      "\u001b[1;31m---------------------------------------------------------------------------\u001b[0m",
      "\u001b[1;31mValueError\u001b[0m                                Traceback (most recent call last)",
      "Input \u001b[1;32mIn [4]\u001b[0m, in \u001b[0;36m<cell line: 2>\u001b[1;34m()\u001b[0m\n\u001b[0;32m      1\u001b[0m \u001b[38;5;28;01mimport\u001b[39;00m \u001b[38;5;21;01msys\u001b[39;00m\n\u001b[1;32m----> 2\u001b[0m a,b,c \u001b[38;5;241m=\u001b[39m \u001b[38;5;28mmap\u001b[39m(\u001b[38;5;28mint\u001b[39m,sys\u001b[38;5;241m.\u001b[39mstdin\u001b[38;5;241m.\u001b[39mreadline()\u001b[38;5;241m.\u001b[39msplit())\n",
      "\u001b[1;31mValueError\u001b[0m: not enough values to unpack (expected 3, got 0)"
     ]
    }
   ],
   "source": [
    "# 정해진 개수의 정수를 한 줄에 입력\n",
    "import sys\n",
    "a,b,c = map(int,sys.stdin.readline().split())"
   ]
  },
  {
   "cell_type": "code",
   "execution_count": 5,
   "id": "446faf88",
   "metadata": {},
   "outputs": [],
   "source": [
    "# 임의의 개수의 정수를 한 줄에 입력 받아 리스트에 저장\n",
    "import sys\n",
    "data = list(map(int,sys.stdin.readline().split()))"
   ]
  },
  {
   "cell_type": "code",
   "execution_count": null,
   "id": "13eff1b8",
   "metadata": {},
   "outputs": [],
   "source": [
    "# 임의의 개수의 정수를 n 줄 입력받아 2차원 리스트에 저장\n",
    "import sys\n",
    "data = []\n",
    "n = int(sys.stdin.readline())\n",
    "for i in range(n):\n",
    "    data.append(list(map(int,sys.stdin.readline().split())))"
   ]
  },
  {
   "cell_type": "code",
   "execution_count": 6,
   "id": "dc7c470f",
   "metadata": {},
   "outputs": [
    {
     "ename": "ValueError",
     "evalue": "invalid literal for int() with base 10: ''",
     "output_type": "error",
     "traceback": [
      "\u001b[1;31m---------------------------------------------------------------------------\u001b[0m",
      "\u001b[1;31mValueError\u001b[0m                                Traceback (most recent call last)",
      "Input \u001b[1;32mIn [6]\u001b[0m, in \u001b[0;36m<cell line: 3>\u001b[1;34m()\u001b[0m\n\u001b[0;32m      1\u001b[0m \u001b[38;5;66;03m# 문자열 n줄을 집력 받아 리스트에 저장\u001b[39;00m\n\u001b[0;32m      2\u001b[0m \u001b[38;5;28;01mimport\u001b[39;00m \u001b[38;5;21;01msys\u001b[39;00m\n\u001b[1;32m----> 3\u001b[0m n \u001b[38;5;241m=\u001b[39m \u001b[38;5;28;43mint\u001b[39;49m\u001b[43m(\u001b[49m\u001b[43msys\u001b[49m\u001b[38;5;241;43m.\u001b[39;49m\u001b[43mstdin\u001b[49m\u001b[38;5;241;43m.\u001b[39;49m\u001b[43mreadline\u001b[49m\u001b[43m(\u001b[49m\u001b[43m)\u001b[49m\u001b[43m)\u001b[49m\n\u001b[0;32m      4\u001b[0m data \u001b[38;5;241m=\u001b[39m [sys\u001b[38;5;241m.\u001b[39mstdin\u001b[38;5;241m.\u001b[39mreadline()\u001b[38;5;241m.\u001b[39mstrip() \u001b[38;5;28;01mfor\u001b[39;00m i \u001b[38;5;129;01min\u001b[39;00m \u001b[38;5;28mrange\u001b[39m(n)]\n",
      "\u001b[1;31mValueError\u001b[0m: invalid literal for int() with base 10: ''"
     ]
    }
   ],
   "source": [
    "# 문자열 n줄을 집력 받아 리스트에 저장\n",
    "import sys\n",
    "n = int(sys.stdin.readline())\n",
    "data = [sys.stdin.readline().strip() for i in range(n)]"
   ]
  },
  {
   "cell_type": "code",
   "execution_count": null,
   "id": "a7282718",
   "metadata": {},
   "outputs": [],
   "source": [
    "# 난 함수 짜서 하려고 했는데 이렇게 하는게 아니네\n",
    "stack = []\n",
    "def push(x):\n",
    "    stack.append(x)\n",
    "    \n",
    "def pop():\n",
    "    if stack:\n",
    "        stack.pop()\n",
    "    else:\n",
    "        print(-1)\n",
    "        \n",
    "def size:\n",
    "    len(stack)\n",
    "\n",
    "def empty:\n",
    "    if stack:\n",
    "        print(1)\n",
    "    else:\n",
    "        print(0)\n",
    "def top:\n",
    "    if stack:\n",
    "        print(stack[-1])\n",
    "    else:\n",
    "        print(-1)\n",
    "    \n",
    "a = int(input())\n",
    "for i in range(a):\n",
    "    \n",
    "    "
   ]
  },
  {
   "cell_type": "code",
   "execution_count": 13,
   "id": "e1b57235",
   "metadata": {},
   "outputs": [
    {
     "ename": "ValueError",
     "evalue": "invalid literal for int() with base 10: ''",
     "output_type": "error",
     "traceback": [
      "\u001b[1;31m---------------------------------------------------------------------------\u001b[0m",
      "\u001b[1;31mValueError\u001b[0m                                Traceback (most recent call last)",
      "Input \u001b[1;32mIn [13]\u001b[0m, in \u001b[0;36m<cell line: 9>\u001b[1;34m()\u001b[0m\n\u001b[0;32m      6\u001b[0m \u001b[38;5;28;01mimport\u001b[39;00m \u001b[38;5;21;01msys\u001b[39;00m\n\u001b[0;32m      7\u001b[0m a \u001b[38;5;241m=\u001b[39m sys\u001b[38;5;241m.\u001b[39mstdin\u001b[38;5;241m.\u001b[39mreadline \u001b[38;5;66;03m# 빠른 입력 함수 사용\u001b[39;00m\n\u001b[1;32m----> 9\u001b[0m n \u001b[38;5;241m=\u001b[39m \u001b[38;5;28;43mint\u001b[39;49m\u001b[43m(\u001b[49m\u001b[38;5;28;43minput\u001b[39;49m\u001b[43m(\u001b[49m\u001b[43m)\u001b[49m\u001b[43m)\u001b[49m \u001b[38;5;66;03m# 명령의 수 입력\u001b[39;00m\n\u001b[0;32m     10\u001b[0m stack\u001b[38;5;241m=\u001b[39m[] \u001b[38;5;66;03m# 스택 초기화\u001b[39;00m\n\u001b[0;32m     12\u001b[0m \u001b[38;5;28;01mfor\u001b[39;00m _ \u001b[38;5;129;01min\u001b[39;00m \u001b[38;5;28mrange\u001b[39m(n):\n",
      "\u001b[1;31mValueError\u001b[0m: invalid literal for int() with base 10: ''"
     ]
    }
   ],
   "source": [
    "# 정답\n",
    "# 이거 이해 안됨.\n",
    "# input을 변수명으로 줘도 되는 거임??\n",
    "# 그래서 a로 바꿈\n",
    "# 그냥 input() 대신 sys.stdin.readline() 이라고 생각하자\n",
    "import sys\n",
    "a = sys.stdin.readline # 빠른 입력 함수 사용\n",
    "\n",
    "n = int(input()) # 명령의 수 입력\n",
    "stack=[] # 스택 초기화\n",
    "\n",
    "for _ in range(n):\n",
    "    command = a().strip().split(' ') # 공백 기준 구분 strip() 양쪽 빈칸 없앰.\n",
    "    if command[0] == 'push': # 원소 삽입\n",
    "        stack.append(int(command[1]))\n",
    "    elif command[0] == 'pop': # 원소 삭제\n",
    "        if len(stack) == 0: # 원소가 없는 경우\n",
    "            print(-1)\n",
    "        else:\n",
    "            print(stack.pop())\n",
    "    elif command[0] == 'size': # 원소의 개수 출력\n",
    "        print(len(stack))\n",
    "    elif command[0] == 'empty': # 스택이 비어있는 경우\n",
    "        if len(stack) == 0 :\n",
    "            print(1)\n",
    "        else :\n",
    "            print(0)\n",
    "    elif command[0] == 'top': # 최상단 원소 출력\n",
    "        if len(stack) == 0 :\n",
    "            print(-1)\n",
    "        else:\n",
    "            print(stack[-1])\n",
    "            \n",
    "    \n",
    "              \n",
    "\n",
    "\n"
   ]
  },
  {
   "cell_type": "markdown",
   "id": "92680c67",
   "metadata": {},
   "source": [
    "10. 백준 문제 \"제로\" (O) \n",
    "\n",
    "문제 난이도:하(Easy)\n",
    "\n",
    "문제 유형:자료구조, 스택, 시뮬레이션\n",
    "\n",
    "시간:20분\n",
    "\n",
    "어휴 드디어 한 문제 맞음.\n",
    "\n",
    "- 본 문제는 스택 자료구조를 구현하면 쉽다.\n",
    "- 입력으로 0이 들어오면 최근 원소 제거한다.\n",
    "- 스택의 pop()랑 같다."
   ]
  },
  {
   "cell_type": "code",
   "execution_count": 1,
   "id": "8670e236",
   "metadata": {},
   "outputs": [
    {
     "name": "stdout",
     "output_type": "stream",
     "text": [
      "4\n",
      "3\n",
      "0\n",
      "4\n",
      "0\n",
      "0\n"
     ]
    }
   ],
   "source": [
    "stack=[]\n",
    "sum = 0\n",
    "k = int(input())\n",
    "for _ in range(k):\n",
    "    a = int(input())\n",
    "    if a != 0 :\n",
    "        stack.append(a)\n",
    "    else :\n",
    "        stack.pop()\n",
    "    \n",
    "for i in stack:\n",
    "    sum += i\n",
    "    \n",
    "print(sum)\n",
    "        \n",
    "        "
   ]
  },
  {
   "cell_type": "code",
   "execution_count": 5,
   "id": "798685e3",
   "metadata": {},
   "outputs": [
    {
     "ename": "ValueError",
     "evalue": "invalid literal for int() with base 10: ''",
     "output_type": "error",
     "traceback": [
      "\u001b[1;31m---------------------------------------------------------------------------\u001b[0m",
      "\u001b[1;31mValueError\u001b[0m                                Traceback (most recent call last)",
      "Input \u001b[1;32mIn [5]\u001b[0m, in \u001b[0;36m<cell line: 5>\u001b[1;34m()\u001b[0m\n\u001b[0;32m      3\u001b[0m stack\u001b[38;5;241m=\u001b[39m[]\n\u001b[0;32m      4\u001b[0m \u001b[38;5;28msum\u001b[39m \u001b[38;5;241m=\u001b[39m \u001b[38;5;241m0\u001b[39m\n\u001b[1;32m----> 5\u001b[0m k \u001b[38;5;241m=\u001b[39m \u001b[38;5;28;43mint\u001b[39;49m\u001b[43m(\u001b[49m\u001b[43ma\u001b[49m\u001b[43m)\u001b[49m\n\u001b[0;32m      6\u001b[0m \u001b[38;5;28;01mfor\u001b[39;00m _ \u001b[38;5;129;01min\u001b[39;00m \u001b[38;5;28mrange\u001b[39m(k):\n\u001b[0;32m      7\u001b[0m     x \u001b[38;5;241m=\u001b[39m \u001b[38;5;28mint\u001b[39m(a)\n",
      "\u001b[1;31mValueError\u001b[0m: invalid literal for int() with base 10: ''"
     ]
    }
   ],
   "source": [
    "# 내가 한 것 sys로 바꿔서 했음\n",
    "import sys\n",
    "p = sys.stdin.readline\n",
    "stack=[]\n",
    "sum = 0\n",
    "k = int(p())\n",
    "for _ in range(k):\n",
    "    a = int(p())\n",
    "    if a != 0 :\n",
    "        stack.append(a)\n",
    "    else :\n",
    "        stack.pop()\n",
    "    \n",
    "for i in stack:\n",
    "    sum += i\n",
    "    \n",
    "print(sum)\n",
    "        \n",
    "        "
   ]
  },
  {
   "cell_type": "code",
   "execution_count": 4,
   "id": "bc722c6c",
   "metadata": {},
   "outputs": [
    {
     "name": "stdout",
     "output_type": "stream",
     "text": [
      "4\n"
     ]
    },
    {
     "ename": "ValueError",
     "evalue": "invalid literal for int() with base 10: ''",
     "output_type": "error",
     "traceback": [
      "\u001b[1;31m---------------------------------------------------------------------------\u001b[0m",
      "\u001b[1;31mValueError\u001b[0m                                Traceback (most recent call last)",
      "Input \u001b[1;32mIn [4]\u001b[0m, in \u001b[0;36m<cell line: 10>\u001b[1;34m()\u001b[0m\n\u001b[0;32m      8\u001b[0m stack \u001b[38;5;241m=\u001b[39m []\n\u001b[0;32m     10\u001b[0m \u001b[38;5;28;01mfor\u001b[39;00m _ \u001b[38;5;129;01min\u001b[39;00m \u001b[38;5;28mrange\u001b[39m(k):\n\u001b[1;32m---> 11\u001b[0m     x \u001b[38;5;241m=\u001b[39m \u001b[38;5;28;43mint\u001b[39;49m\u001b[43m(\u001b[49m\u001b[43ma\u001b[49m\u001b[43m(\u001b[49m\u001b[43m)\u001b[49m\u001b[43m)\u001b[49m \u001b[38;5;66;03m# 하나 씩 수 입력\u001b[39;00m\n\u001b[0;32m     12\u001b[0m     \u001b[38;5;28;01mif\u001b[39;00m x \u001b[38;5;241m==\u001b[39m \u001b[38;5;241m0\u001b[39m: \u001b[38;5;66;03m# 값이 0인 경우 가장 최근 수 제거\u001b[39;00m\n\u001b[0;32m     13\u001b[0m         stack\u001b[38;5;241m.\u001b[39mpop()\n",
      "\u001b[1;31mValueError\u001b[0m: invalid literal for int() with base 10: ''"
     ]
    }
   ],
   "source": [
    "# 정답\n",
    "# 내가 한 것보다 시간 엄청 짧게 걸림\n",
    "# 앞으로 input() 대신 sys.stdin.readline() 사용 할 것\n",
    "import sys\n",
    "a = sys.stdin.readline # 빠른 입력 함수 사용\n",
    "\n",
    "k = int(input()) # 수의 개수\n",
    "stack = []\n",
    "\n",
    "for _ in range(k):\n",
    "    x = int(a()) # 하나 씩 수 입력\n",
    "    if x == 0: # 값이 0인 경우 가장 최근 수 제거\n",
    "        stack.pop()\n",
    "    else: # 스택에 해당 수 삽입\n",
    "        stack.append(x)\n",
    "        \n",
    "print(sum(stack))"
   ]
  },
  {
   "cell_type": "markdown",
   "id": "ee58ab63",
   "metadata": {},
   "source": [
    "11. 백준 문제 \"스택 수열\" (x) \n",
    "\n",
    "문제 난이도:하(Easy)\n",
    "\n",
    "문제 유형:자료구조, 스택, 시뮬레이션\n",
    "\n",
    "시간:30분\n",
    "\n",
    "이거 전에 풀어본 문제임\n",
    "\n",
    "아 모르겠다.\n",
    "\n",
    "아 개어려운데...\n",
    "\n",
    "- 스택 자료구조를 활용\n",
    "- 다양한 예시를 생각 시뮬레이션 해보면 아이디어를 떠올릴 수 있다."
   ]
  },
  {
   "cell_type": "code",
   "execution_count": null,
   "id": "617fc9d7",
   "metadata": {},
   "outputs": [],
   "source": [
    "import sys\n",
    "input = sys.stdin.readlin # 이렇게 하면 인풋 대신 이게 들어감.\n",
    "\n",
    "stack=[]\n",
    "n = int(input())\n",
    "for i in range(1, n+1):\n",
    "    \n",
    "    data = int(input())\n",
    "    if i < data:\n",
    "        stack.append(i)\n",
    "        print('+')\n",
    "    else:\n",
    "        stack.pop()\n",
    "        print('+')\n",
    "        print('-')\n",
    "        \n",
    "    \n",
    "    \n",
    "    \n"
   ]
  },
  {
   "cell_type": "code",
   "execution_count": null,
   "id": "269ef147",
   "metadata": {},
   "outputs": [],
   "source": [
    "# 정답\n",
    "import sys\n",
    "imput = sys.stdin.readline # 빠른 입력 함수 사용\n",
    "\n",
    "n = int(input()) # 수의 개수\n",
    "stack=[] # 스택 초기화\n",
    "answer=[] # 최종 정답\n",
    "current = 1 # 현재 삽입할 수, 이걸 1씩 삽입하는 걸로 만든다.\n",
    "\n",
    "for _ in range(n):\n",
    "    x = int(input()) # 하나씩 수 입력\n",
    "    # top()보다 x가 더 크면 스택에 삽입\n",
    "    while len(stack) == 0 or stack[-1] < x:\n",
    "        stack.append(current)\n",
    "        current+=1 # x가 current랑 같을 때 까지 계속 삽입함.\n",
    "        answer.append('+')\n",
    "    # top()과 x가 같다면, 스택에서 제거\n",
    "    if stack[-1] == x:\n",
    "        stack.pop()\n",
    "        answer.append('-')\n",
    "    # top()보다 x가 더 작다면, 불가능\n",
    "    else:\n",
    "        answer = ['NO']\n",
    "        break\n",
    "for x in answer:\n",
    "    print(x)\n",
    "        \n",
    "        "
   ]
  },
  {
   "cell_type": "code",
   "execution_count": null,
   "id": "2415683e",
   "metadata": {},
   "outputs": [],
   "source": [
    "# 맨 위의 정답\n",
    "n = int(input()) # 이건 알겠음.\n",
    "\n",
    "count=1\n",
    "stack=[] # 스택을 쌓을 리스트\n",
    "result=[] # 결과로 추출할 리스트\n",
    "\n",
    "for i in range(1, n+1): # n개 만큼의 data를 만들기 위함\n",
    "    data=int(input()) \n",
    "    while count<= data: # 입력 받은 데이터에 도달할 때까지 삽입, 오름차순으로 하나씩 넣는 건가\n",
    "        stack.append(count)\n",
    "        count+=1\n",
    "        result.append('+') # count 하나씩 넣을 때마다 result에 '+' 넣음\n",
    "        # count가 data보다 커지면 while 나감\n",
    "    if stack[-1]==data: #마지막에 넣은 숫자가 data랑 같을 때\n",
    "        stack.pop() # 마지막 숫자 빼냄\n",
    "        result.append('-')\n",
    "    else: # 불가능한 경우\n",
    "        print('NO')\n",
    "        exit(0) # 종료 코드 - 이것도 처음 봄 !!\n",
    "        \n",
    "print('\\n'.join(result)) # 가능한 경우 출력 - 이건 뭐임!\n",
    "# 한 줄 씩 출력하기\n"
   ]
  },
  {
   "cell_type": "markdown",
   "id": "676d9f13",
   "metadata": {},
   "source": [
    "12. 백준 문제 \"오큰수\" (x) \n",
    "\n",
    "문제 난이도:중상\n",
    "\n",
    "문제 유형:자료구조, 스택\n",
    "\n",
    "시간:50분\n",
    "\n",
    "이거 왜 스택이지?\n",
    "\n",
    "아니 이거 너무 어려운데?\n",
    "\n",
    "- 수 x를 하나씩 확인, 내림차순 혹은 같은 값의 x가 나오면 스택에 삽입\n",
    "- 더 큰 수(오름차순)x가 나왔을 때, x는 앞선 데이터에 대해 오큰수가 될 수 있다.\n",
    "    - 따라서 스택의 pop()을 이용해 역방향으로 확인하면서 오큰수를 기록\n",
    "    - 만약 역방향의 수가 x보다 크거나 같다면 멈추고, 해당 수부터 다시 내림차순/오름차순 여부를 확인\n",
    "- 동작 과정상 오른쪽으로 이동한 뒤에 다시 왼쪽(역방향)이동 반복\n",
    "- 결과적으로 시간 복잡도 O(N)으로 해결"
   ]
  },
  {
   "cell_type": "code",
   "execution_count": 45,
   "id": "0d643746",
   "metadata": {},
   "outputs": [
    {
     "ename": "ValueError",
     "evalue": "invalid literal for int() with base 10: ''",
     "output_type": "error",
     "traceback": [
      "\u001b[1;31m---------------------------------------------------------------------------\u001b[0m",
      "\u001b[1;31mValueError\u001b[0m                                Traceback (most recent call last)",
      "Input \u001b[1;32mIn [45]\u001b[0m, in \u001b[0;36m<cell line: 2>\u001b[1;34m()\u001b[0m\n\u001b[0;32m      1\u001b[0m \u001b[38;5;66;03m# 정답\u001b[39;00m\n\u001b[1;32m----> 2\u001b[0m n \u001b[38;5;241m=\u001b[39m \u001b[38;5;28;43mint\u001b[39;49m\u001b[43m(\u001b[49m\u001b[38;5;28;43minput\u001b[39;49m\u001b[43m(\u001b[49m\u001b[43m)\u001b[49m\u001b[43m)\u001b[49m\n\u001b[0;32m      3\u001b[0m arr \u001b[38;5;241m=\u001b[39m \u001b[38;5;28mlist\u001b[39m(\u001b[38;5;28mmap\u001b[39m(\u001b[38;5;28mint\u001b[39m, \u001b[38;5;28minput\u001b[39m()\u001b[38;5;241m.\u001b[39msplit())) \u001b[38;5;66;03m# 수열 데이터\u001b[39;00m\n\u001b[0;32m      4\u001b[0m stack \u001b[38;5;241m=\u001b[39m [] \u001b[38;5;66;03m# 스택 초기화\u001b[39;00m\n",
      "\u001b[1;31mValueError\u001b[0m: invalid literal for int() with base 10: ''"
     ]
    }
   ],
   "source": [
    "# 정답\n",
    "n = int(input())\n",
    "arr = list(map(int, input().split())) # 수열 데이터\n",
    "stack = [] # 스택 초기화\n",
    "NGE = [-1] * n # 오큰수 배열\n",
    "\n",
    "for i in range(n):\n",
    "    x=arr[i] # 하나씩 수 확인\n",
    "    if len(stack) == 0 or stack[-1][0] >= x:\n",
    "        stack.append((x,i)) # (수, 인덱스) 형태로 삽입\n",
    "    else:\n",
    "        while len(stack) > 0 : # 역방향으로 하나씩 꺼내기\n",
    "            previous, index = stack.pop()\n",
    "            if previous >= x: # 크거나 같은 이전 원소를 만났다면 다시 삽입\n",
    "                stack.append((previous, index))\n",
    "                break\n",
    "            else:\n",
    "                NGE[index]=x # 오큰수 기록\n",
    "        stack.append((x,i)) # (수, 인덱스) 형태로 삽입\n",
    "\n",
    "for x in NGE : # 오큰수를 하나씩 출력\n",
    "    print(x, end=' ')\n",
    "    \n",
    "        "
   ]
  },
  {
   "cell_type": "markdown",
   "id": "4604b3b2",
   "metadata": {},
   "source": [
    "13. 백준 문제 \"회전하는 큐\" (x) \n",
    "\n",
    "문제 난이도:하(easy)\n",
    "\n",
    "문제 유형:자료구조, 스택\n",
    "\n",
    "시간:30분\n",
    "\n",
    "- 양방향 순환 큐의 기능은 덱(deque)을 이용해 대체 가능\n",
    "1. 회전 연산(왼쪽으로 돌리기):poplesf() - append()\n",
    "2. 회전 연산(오른쪽으로 돌리기):pop() - appendleft()\n",
    "3. 추출 연산(앞에서 꺼내기):popleft()\n",
    "\n",
    "개어렵네..."
   ]
  },
  {
   "cell_type": "code",
   "execution_count": 36,
   "id": "87f84117",
   "metadata": {},
   "outputs": [],
   "source": [
    "import sys\n",
    "input = sys.stdin.readline\n",
    "from collections import deque # 아니 이런거 어떻게 아냐고...\n",
    "# deque import 해야 popleft 같은 거 쓸 수 있다.\n",
    "\n",
    "n, m = map(int, input().split()) # 원소의 개수, 뽑아내는 횟수\n",
    "d=deque([i for i in range(1, n+1)]) # 1부터 N까지의 원소를 삽입\n",
    "targets = list(map(int, input().split())) # 뽑아낼 원소 목록\n",
    "cnt=0 # 회전 연산 수행 횟수\n",
    "for target in targets: # 뽑아낼 원소를 하나씩 확인\n",
    "    index = d.index(target) # 덱에서 해당 원소의 위치를 찾기\n",
    "    if index <= len(d) // 2: # 왼쪽으로 돌리는게 더 빠른 경우\n",
    "        for i in range(index): # 회전 연산 반복 수행\n",
    "            x=d.popleft()\n",
    "            d.append(x) # 꺼내기 전까지 계속 회전시켜야 하기 때문\n",
    "            cnt+=1 \n",
    "    else: # 오른쪽으로 돌리는게 더 빠른 경우\n",
    "        for i in range(len(d)-index): # 회전연산 반복 수행\n",
    "            x = d.pop()\n",
    "            d.appendleft(x)\n",
    "            cnt+=1\n",
    "    d.popleft() # 원소 꺼내기\n",
    "\n",
    "print(cnt) # 결과 출력\n"
   ]
  },
  {
   "cell_type": "markdown",
   "id": "cca2dac7",
   "metadata": {},
   "source": [
    "13. 백준 문제 \"요세푸스 문제0\" (x) \n",
    "\n",
    "문제 난이도:하(easy)\n",
    "\n",
    "문제 유형:자료구조, 덱\n",
    "\n",
    "시간:30분\n",
    "\n",
    "- 회전 연산을 포함하는 큐의 기능은 덱(deque)을 이용해 대체\n",
    "1. 회전 연산(왼쪽으로 돌리기):popleft() - append()\n",
    "2. 추출 연산(앞에서 꺼내기):popleft()\n",
    "\n",
    "요약\n",
    "- 먼저 번호(index)가 1부터 시작하도록 n개의 데이터를 덱(deque)에 삽입\n",
    "- 덱(deque)이 빌 때까지 계속해서 원소를 추출\n",
    "    - 매번k-1개만큼 '왼쪽으로 돌리기'를 수행, 1개를 그냥 추출\n",
    "- 데이터의 개수가 최대 1000개이므로, 시뮬레이션으로 간단히 해결\n",
    "\n",
    "이것도 오류난다."
   ]
  },
  {
   "cell_type": "code",
   "execution_count": 38,
   "id": "9f763a9b",
   "metadata": {},
   "outputs": [],
   "source": [
    "from collections import deque\n",
    "n, k = int(input().split())\n",
    "d = deque([i for i in range(1,n+1)])\n",
    "answer=[]\n",
    "while len(d)>0:\n",
    "    for i in range(k-1):\n",
    "        x=d.popleft()\n",
    "        d.append(x)\n",
    "    x=d.popleft()\n",
    "    answer.append(x)\n",
    "    \n",
    "print(answer)\n"
   ]
  },
  {
   "cell_type": "code",
   "execution_count": 48,
   "id": "4bd402c6",
   "metadata": {},
   "outputs": [
    {
     "ename": "ValueError",
     "evalue": "not enough values to unpack (expected 2, got 0)",
     "output_type": "error",
     "traceback": [
      "\u001b[1;31m---------------------------------------------------------------------------\u001b[0m",
      "\u001b[1;31mValueError\u001b[0m                                Traceback (most recent call last)",
      "Input \u001b[1;32mIn [48]\u001b[0m, in \u001b[0;36m<cell line: 7>\u001b[1;34m()\u001b[0m\n\u001b[0;32m      4\u001b[0m \u001b[38;5;28;01mfrom\u001b[39;00m \u001b[38;5;21;01mcollections\u001b[39;00m \u001b[38;5;28;01mimport\u001b[39;00m deque\n\u001b[0;32m      6\u001b[0m \u001b[38;5;66;03m# 원소의 개수 N과 제거할 간격 k 입력\u001b[39;00m\n\u001b[1;32m----> 7\u001b[0m n, k \u001b[38;5;241m=\u001b[39m \u001b[38;5;28mmap\u001b[39m(\u001b[38;5;28mint\u001b[39m, \u001b[38;5;28minput\u001b[39m()\u001b[38;5;241m.\u001b[39msplit())\n\u001b[0;32m      8\u001b[0m \u001b[38;5;66;03m# 1부터 N까지의 원소를 삽입\u001b[39;00m\n\u001b[0;32m      9\u001b[0m d \u001b[38;5;241m=\u001b[39m deque([i \u001b[38;5;28;01mfor\u001b[39;00m i \u001b[38;5;129;01min\u001b[39;00m \u001b[38;5;28mrange\u001b[39m(\u001b[38;5;241m1\u001b[39m, n\u001b[38;5;241m+\u001b[39m\u001b[38;5;241m1\u001b[39m)])\n",
      "\u001b[1;31mValueError\u001b[0m: not enough values to unpack (expected 2, got 0)"
     ]
    }
   ],
   "source": [
    "# 정답\n",
    "import sys\n",
    "input=sys.stdin.readline\n",
    "from collections import deque\n",
    "\n",
    "# 원소의 개수 N과 제거할 간격 k 입력\n",
    "n, k = map(int, input().split())\n",
    "# 1부터 N까지의 원소를 삽입\n",
    "d = deque([i for i in range(1, n+1)])\n",
    "result = [] # 결과 배열\n",
    "\n",
    "# n개의 원소를 모두 꺼내기\n",
    "for i in range(n):\n",
    "    # k-1번 '왼쪽으로 돌리기' 수행\n",
    "    for i in range(k-1):\n",
    "        x=d.popleft()\n",
    "        d.append(x)\n",
    "    x=d.popleft() # 원소 꺼내기\n",
    "    result.append(x)\n",
    "\n",
    "# 정답 출력\n",
    "# 와 무슨 정답도 이렇게 어렵냐.\n",
    "print('<', end='')\n",
    "for i in range(len(result)):\n",
    "    if i < len(result)-1:\n",
    "        print(result[i], end=', ')\n",
    "    else: # 마지막 원소\n",
    "        print(result[i], end='')\n",
    "print('>')"
   ]
  },
  {
   "cell_type": "markdown",
   "id": "572d7e55",
   "metadata": {},
   "source": [
    "14. 백준 문제 \"풍선 터뜨리기\" (x) \n",
    "\n",
    "문제 난이도:하(easy)\n",
    "\n",
    "문제 유형:자료구조, 덱\n",
    "\n",
    "시간:30분\n",
    "\n",
    "- 양방향 순환 큐의 기능은 덱(deque)을 이용해 대체 가능\n",
    "1. 회전 연산(왼쪽으로 돌리기):poplesf() - append()\n",
    "2. 회전 연산(오른쪽으로 돌리기):pop() - appendleft()\n",
    "3. 추출 연산(앞에서 꺼내기):popleft()\n",
    "\n",
    "요약\n",
    "- 풍선에 적힌 원소를 모두 덱(deque)에 삽입\n",
    "- 가장 앞에 있는 풍선(원소)을 꺼내어 거기에 적힌 수를 확인한다.\n",
    "- 큐가 빌 때까지 다음을 반복 수행\n",
    "    - 만약 양수라면 x -1 만큼 왼쪽으로 돌린다.\n",
    "    - 만약 음수하면 \\x\\ 만큼 오른쪽으로 돌린다.\n",
    "    - 이후에 원소를 꺼낸다.\n",
    "- 단, 최종적으로 풍선의 번호를 출력, (값, 번호) 형태로 원소를 덱(deque)에 삽입해야 함."
   ]
  },
  {
   "cell_type": "code",
   "execution_count": 49,
   "id": "5c65f681",
   "metadata": {
    "collapsed": true
   },
   "outputs": [
    {
     "ename": "ValueError",
     "evalue": "invalid literal for int() with base 10: ''",
     "output_type": "error",
     "traceback": [
      "\u001b[1;31m---------------------------------------------------------------------------\u001b[0m",
      "\u001b[1;31mValueError\u001b[0m                                Traceback (most recent call last)",
      "Input \u001b[1;32mIn [49]\u001b[0m, in \u001b[0;36m<cell line: 4>\u001b[1;34m()\u001b[0m\n\u001b[0;32m      2\u001b[0m \u001b[38;5;28minput\u001b[39m \u001b[38;5;241m=\u001b[39m sys\u001b[38;5;241m.\u001b[39mstdin\u001b[38;5;241m.\u001b[39mreadline\n\u001b[0;32m      3\u001b[0m \u001b[38;5;28;01mfrom\u001b[39;00m \u001b[38;5;21;01mcollections\u001b[39;00m \u001b[38;5;28;01mimport\u001b[39;00m deque\n\u001b[1;32m----> 4\u001b[0m n \u001b[38;5;241m=\u001b[39m \u001b[38;5;28;43mint\u001b[39;49m\u001b[43m(\u001b[49m\u001b[38;5;28;43minput\u001b[39;49m\u001b[43m(\u001b[49m\u001b[43m)\u001b[49m\u001b[43m)\u001b[49m\n\u001b[0;32m      5\u001b[0m d \u001b[38;5;241m=\u001b[39m deque([\u001b[38;5;28mmap\u001b[39m(\u001b[38;5;28mint\u001b[39m, \u001b[38;5;28minput\u001b[39m()\u001b[38;5;241m.\u001b[39msplit())])\n",
      "\u001b[1;31mValueError\u001b[0m: invalid literal for int() with base 10: ''"
     ]
    }
   ],
   "source": [
    "import sys\n",
    "input = sys.stdin.readline\n",
    "from collections import deque\n",
    "n = int(input())\n",
    "d = deque([map(int, input().split())])\n",
    "answer=[]"
   ]
  },
  {
   "cell_type": "code",
   "execution_count": 50,
   "id": "7a5b7977",
   "metadata": {},
   "outputs": [
    {
     "ename": "ValueError",
     "evalue": "invalid literal for int() with base 10: ''",
     "output_type": "error",
     "traceback": [
      "\u001b[1;31m---------------------------------------------------------------------------\u001b[0m",
      "\u001b[1;31mValueError\u001b[0m                                Traceback (most recent call last)",
      "Input \u001b[1;32mIn [50]\u001b[0m, in \u001b[0;36m<cell line: 6>\u001b[1;34m()\u001b[0m\n\u001b[0;32m      3\u001b[0m \u001b[38;5;28minput\u001b[39m \u001b[38;5;241m=\u001b[39m sys\u001b[38;5;241m.\u001b[39mstdin\u001b[38;5;241m.\u001b[39mreadline\n\u001b[0;32m      4\u001b[0m \u001b[38;5;28;01mfrom\u001b[39;00m \u001b[38;5;21;01mcollections\u001b[39;00m \u001b[38;5;28;01mimport\u001b[39;00m deque\n\u001b[1;32m----> 6\u001b[0m n \u001b[38;5;241m=\u001b[39m \u001b[38;5;28;43mint\u001b[39;49m\u001b[43m(\u001b[49m\u001b[38;5;28;43minput\u001b[39;49m\u001b[43m(\u001b[49m\u001b[43m)\u001b[49m\u001b[43m)\u001b[49m \u001b[38;5;66;03m# 원소의 개수 n\u001b[39;00m\n\u001b[0;32m      7\u001b[0m \u001b[38;5;66;03m# 전체 원소 리스트\u001b[39;00m\n\u001b[0;32m      8\u001b[0m arr \u001b[38;5;241m=\u001b[39m \u001b[38;5;28mlist\u001b[39m(\u001b[38;5;28mmap\u001b[39m(\u001b[38;5;28mint\u001b[39m, \u001b[38;5;28minput\u001b[39m()\u001b[38;5;241m.\u001b[39msplit()))\n",
      "\u001b[1;31mValueError\u001b[0m: invalid literal for int() with base 10: ''"
     ]
    }
   ],
   "source": [
    "# 정답\n",
    "import sys\n",
    "input = sys.stdin.readline\n",
    "from collections import deque\n",
    "\n",
    "n = int(input()) # 원소의 개수 n\n",
    "# 전체 원소 리스트\n",
    "arr = list(map(int, input().split()))\n",
    "d = deque() # 덱(deque) 초기화\n",
    "for i in range(n):\n",
    "    # (수, 번호) 형태로 원소 삽입\n",
    "    d.append((arr[i], i+1)) # 이거 괄호 2개 해야 되네.\n",
    "result=[] # 결과 배열\n",
    "\n",
    "current, index = d.popleft() # 원소 추출. 이게 1번 인듯.\n",
    "result.append(index)\n",
    "for i in range(n-1): # 원소를 모두 꺼내기. 1번 꺼내서 1개 적음.\n",
    "    if current > 0 : # 양수라면\n",
    "        # current - 1번 '왼쪽으로 돌리기' 수행\n",
    "        for j in range(current -1):\n",
    "            x=d.popleft()\n",
    "            d.append(x)\n",
    "    else: # 음수라면 (0은 없음)\n",
    "        # \\current\\ 번 '오른쪽으로 돌리기' 수행\n",
    "        for j in range(-current):\n",
    "            x=d.pop()\n",
    "            d.appendleft(x)\n",
    "    # 원소 추출\n",
    "    current, index = d.popleft()\n",
    "    result.append(index)\n",
    "    \n",
    "for x in result: # 결과 출력\n",
    "    print(x, end = ' ')\n",
    "        \n",
    "    "
   ]
  },
  {
   "cell_type": "markdown",
   "id": "073d6c76",
   "metadata": {},
   "source": [
    "15. 백준 문제 \"트럭\" (x) \n",
    "\n",
    "문제 난이도:중(medium)\n",
    "\n",
    "문제 유형:자료구조, 큐\n",
    "\n",
    "시간:40분\n",
    "\n",
    "단순히 큐를 이용해 전체 과정을 시뮬레이션하여 문제를 해결\n",
    "1. 큐(다리)가 가득 찼으면 큐에서 원소를 하나 추출\n",
    "2. 트럭 배열에서 하나씩 트럭을 꺼내서 큐에 삽입\n",
    "    - 이 때 만약에 트럭을 큐에 넣을 수 없다면(하중이 초과된다면)0을 삽입\n",
    "    \n",
    "    "
   ]
  },
  {
   "cell_type": "code",
   "execution_count": null,
   "id": "dfd748bd",
   "metadata": {},
   "outputs": [],
   "source": [
    "# 정답\n",
    "import sys\n",
    "\n",
    "n, w, l = map(int, sys.stdin.readline().split())\n",
    "a = list(map(int, sys.stdin.readline().split()))\n",
    "temp = [0] * w # 다리의 칸\n",
    "cnt = 0\n",
    "\n",
    "# 반복문을 통해 다리의 모든 트럭이 지나갈 때까지 반복\n",
    "while temp:\n",
    "    cnt += 1 # 카운트\n",
    "    temp.pop(0) # 다리의 칸을 하나씩 줄인다.\n",
    "\n",
    "    # 모든 트럭을 확인\n",
    "    if a:\n",
    "        # 현재 다리에 있는 트럭과 다리를 건너려는 트럭의 무게가\n",
    "        # 다리의 하중보다 크다면 빈 공간을 추가\n",
    "        if sum(temp) + a[0] > l:\n",
    "            temp.append(0)\n",
    "\n",
    "        # 다리의 하중보다 작다면 트럭을 다리에 추가\n",
    "        else:\n",
    "            temp.append(a.pop(0))\n",
    "\n",
    "print(cnt)"
   ]
  },
  {
   "cell_type": "code",
   "execution_count": 51,
   "id": "7fba6aea",
   "metadata": {},
   "outputs": [
    {
     "ename": "ValueError",
     "evalue": "not enough values to unpack (expected 3, got 0)",
     "output_type": "error",
     "traceback": [
      "\u001b[1;31m---------------------------------------------------------------------------\u001b[0m",
      "\u001b[1;31mValueError\u001b[0m                                Traceback (most recent call last)",
      "Input \u001b[1;32mIn [51]\u001b[0m, in \u001b[0;36m<cell line: 3>\u001b[1;34m()\u001b[0m\n\u001b[0;32m      1\u001b[0m \u001b[38;5;28;01mimport\u001b[39;00m \u001b[38;5;21;01msys\u001b[39;00m\n\u001b[0;32m      2\u001b[0m \u001b[38;5;28minput\u001b[39m \u001b[38;5;241m=\u001b[39m sys\u001b[38;5;241m.\u001b[39mstdin\u001b[38;5;241m.\u001b[39mreadline\n\u001b[1;32m----> 3\u001b[0m n, w, l \u001b[38;5;241m=\u001b[39m \u001b[38;5;28mmap\u001b[39m(\u001b[38;5;28mint\u001b[39m, \u001b[38;5;28minput\u001b[39m()\u001b[38;5;241m.\u001b[39msplit())\n\u001b[0;32m      4\u001b[0m q \u001b[38;5;241m=\u001b[39m \u001b[38;5;28mlist\u001b[39m(\u001b[38;5;28mmap\u001b[39m(\u001b[38;5;28mint\u001b[39m, \u001b[38;5;28minput\u001b[39m()\u001b[38;5;241m.\u001b[39msplit()))\n",
      "\u001b[1;31mValueError\u001b[0m: not enough values to unpack (expected 3, got 0)"
     ]
    }
   ],
   "source": [
    "import sys\n",
    "input = sys.stdin.readline\n",
    "n, w, l = map(int, input().split())\n",
    "t = list(map(int, input().split()))\n",
    "q =[]\n",
    "sum=0\n",
    "for i in t: # t에서 하나씩 뺌\n",
    "    q.append(i) # q에 하나씩 넣음\n",
    "    sum+=i\n",
    "    if len(q) > w:\n",
    "        del q[0]\n",
    "        sum-=q[0]\n",
    "    \n",
    "    p = q[i:i+3]\n",
    "    if p <= l:\n",
    "        print(w+l)\n",
    "        \n",
    "    \n",
    "if "
   ]
  },
  {
   "cell_type": "markdown",
   "id": "aec8882c",
   "metadata": {},
   "source": [
    "16. 백준 문제 \"나는 요리사다\" (o) \n",
    "\n",
    "문제 난이도:하(easy)\n",
    "\n",
    "문제 유형:문법, 배열, 이차원 배열\n",
    "\n",
    "시간:10분\n"
   ]
  },
  {
   "cell_type": "code",
   "execution_count": null,
   "id": "dcdd4533",
   "metadata": {},
   "outputs": [],
   "source": [
    "import sys\n",
    "input = sys.stdin.readline\n",
    "score=[]\n",
    "for i in range(5):\n",
    "    a = list(map(int, input().split()))\n",
    "    b = sum(a)\n",
    "    score.append(b)\n",
    "    \n",
    "m = max(score)\n",
    "index = score.index(m)\n",
    "print(index+1, m,sep=' ')"
   ]
  },
  {
   "cell_type": "code",
   "execution_count": 1,
   "id": "c5d32ee6",
   "metadata": {},
   "outputs": [
    {
     "name": "stdout",
     "output_type": "stream",
     "text": [
      "5 4 4 5\n",
      "5 4 4 4\n",
      "5 5 4 4\n",
      "5 5 5 4\n",
      "4 4 4 5\n",
      "3 19\n"
     ]
    }
   ],
   "source": [
    "score=[]\n",
    "for i in range(5):\n",
    "    a = list(map(int, input().split()))\n",
    "    b = sum(a)\n",
    "    score.append(b)\n",
    "    \n",
    "m = max(score)\n",
    "index = score.index(m)\n",
    "print(index+1, m,sep=' ')"
   ]
  },
  {
   "cell_type": "code",
   "execution_count": null,
   "id": "eba76d46",
   "metadata": {},
   "outputs": [],
   "source": [
    "# 정답\n",
    "result = 0 # 최종 우승자\n",
    "max_value = 0 # 평가 점수의 최댓값\n",
    "\n",
    "# 요리사는 총 5명\n",
    "for i in range(5):\n",
    "    # 각 요리사마다 하나의 행(row)을 차지\n",
    "    row = list(map(int, input().split()))\n",
    "    summary = sum(row) # 현재 요리사의 합\n",
    "    # 현재까지의 최대 합보다 현재 행(row)의 합이 더 큰 경우\n",
    "    if max_value < summary:\n",
    "        max_value = summary\n",
    "        result=i+1\n",
    "print(result, max_value)"
   ]
  },
  {
   "cell_type": "code",
   "execution_count": 23,
   "id": "e6faa6c5",
   "metadata": {},
   "outputs": [],
   "source": [
    "score=[]\n",
    "for i in range(5):\n",
    "    a = list(map(int, input().split()))\n",
    "    b = sum(a)\n",
    "    score.append(b)\n",
    "    \n",
    "m = max(score)\n",
    "index = score.index(m)\n",
    "print(index, m,sep=' ') # 이거 sep 쓸 필요도 없음"
   ]
  },
  {
   "cell_type": "markdown",
   "id": "42951c4c",
   "metadata": {},
   "source": [
    "17. 백준 문제 \"수 정렬하기\" (o) \n",
    "\n",
    "문제 난이도:하(easy)\n",
    "\n",
    "문제 유형:정렬\n",
    "\n",
    "시간:15분"
   ]
  },
  {
   "cell_type": "code",
   "execution_count": 6,
   "id": "1a23f221",
   "metadata": {
    "collapsed": true
   },
   "outputs": [
    {
     "name": "stdout",
     "output_type": "stream",
     "text": [
      "5\n",
      "5\n",
      "2\n",
      "3\n",
      "4\n",
      "1\n",
      "[1, 2, 3, 4, 5]\n",
      "[1, 2, 3, 4, 5]\n",
      "[1, 2, 3, 4, 5]\n",
      "[1, 2, 3, 4, 5]\n",
      "[1, 2, 3, 4, 5]\n"
     ]
    }
   ],
   "source": [
    "n = int(input())\n",
    "a=[]\n",
    "for _ in range(n):\n",
    "    m=int(input())\n",
    "    a.append(m)\n",
    "    a.sort()\n",
    "\n",
    "\n",
    "for i in a:\n",
    "    print(i)\n",
    "    "
   ]
  },
  {
   "cell_type": "code",
   "execution_count": null,
   "id": "eff27731",
   "metadata": {},
   "outputs": [],
   "source": [
    "# 정답\n",
    "# 1) 선택 정렬 알고리즘 O(n^2)\n",
    "# 가장 작은 값을 앞으로 보내기\n",
    "# 1000개 밖에 안되니까 이렇게 해도 됨.\n",
    "n=int(input())\n",
    "array=list()\n",
    "for _ in range(n):\n",
    "    array.append(int(input()))\n",
    "    \n",
    "for i in range(n):\n",
    "    min_index=i # 가장 작은 원소의 인덱스\n",
    "    for j in range(i+1,n):\n",
    "        if array[min_index] > array[j]:\n",
    "            min_index=j\n",
    "    array[i], array[min_index] = array[min_index], array[i] # 스와프\n",
    "\n",
    "for i in array:\n",
    "    print(i)"
   ]
  },
  {
   "cell_type": "code",
   "execution_count": null,
   "id": "00437d09",
   "metadata": {},
   "outputs": [],
   "source": [
    "# 2) 파이썬의 기본 정렬 라이브러리로 문제 해결\n",
    "# O(nlogn)\n",
    "n = int(input())\n",
    "array = list()\n",
    "\n",
    "for _ in range(n):\n",
    "    array.append(int(input()))\n",
    "    \n",
    "array.sort()\n",
    "\n",
    "for i in array:\n",
    "    print(i)"
   ]
  },
  {
   "cell_type": "markdown",
   "id": "f0593cc0",
   "metadata": {},
   "source": [
    "18. 백준 문제 \"소트인사이드\" (o) \n",
    "\n",
    "문제 난이도:하(easy)\n",
    "\n",
    "문제 유형:정렬, 배열\n",
    "\n",
    "시간:25분\n",
    "\n",
    "sort(reverse=True) 내림차순"
   ]
  },
  {
   "cell_type": "code",
   "execution_count": 5,
   "id": "e3727199",
   "metadata": {
    "scrolled": false
   },
   "outputs": [
    {
     "name": "stdout",
     "output_type": "stream",
     "text": [
      "2134\n",
      "4321"
     ]
    }
   ],
   "source": [
    "n=input()\n",
    "a=[]\n",
    "for i in range(len(n)):\n",
    "    b=int(n[i])\n",
    "    a.append(b)\n",
    "    a.sort(reverse=True)\n",
    "    \n",
    "for i in a:\n",
    "    print(i, end='')"
   ]
  },
  {
   "cell_type": "code",
   "execution_count": 16,
   "id": "dcf570a1",
   "metadata": {},
   "outputs": [
    {
     "name": "stdout",
     "output_type": "stream",
     "text": [
      "2143\n",
      "4321"
     ]
    }
   ],
   "source": [
    "# 정답\n",
    "array=input()\n",
    "for i in range(9,-1,-1):\n",
    "    for j in array:\n",
    "        if int(j)==i:\n",
    "            print(i, end='')"
   ]
  },
  {
   "cell_type": "markdown",
   "id": "9c4cf27a",
   "metadata": {},
   "source": [
    "19. 백준 문제 \"나이순 정렬\" (x) \n",
    "\n",
    "문제 난이도:하(easy)\n",
    "\n",
    "문제 유형:정렬\n",
    "\n",
    "시간:15분\n",
    "\n",
    "딕셔너리 키:값 그냥 넣으면 됨.\n",
    "\n",
    "a['메로나'] = 1000\n",
    "\n",
    "sorted(dic.item()) 키값으로 오름차순 내림차순은 reverse=True\n",
    "\n",
    "member=sorted(member, key=lambda x : x[0] )"
   ]
  },
  {
   "cell_type": "code",
   "execution_count": null,
   "id": "1f95f5c1",
   "metadata": {},
   "outputs": [],
   "source": [
    "n=int(input())\n",
    "age=[]\n",
    "name=[]\n",
    "member=[]\n",
    "for i in range(n):\n",
    "    a, b=input().split()\n",
    "    a=int(a)\n",
    "    member.append((a,b))\n",
    "    \n",
    "member=sorted(member, key=lambda x : x[0] )\n",
    "\n",
    "for i in member:\n",
    "    print(i[0], i[1])\n",
    "    \n"
   ]
  },
  {
   "cell_type": "code",
   "execution_count": null,
   "id": "822e6f29",
   "metadata": {},
   "outputs": [],
   "source": [
    "# 정답\n",
    "n=int(input())\n",
    "array=[]\n",
    "for _ in range(n):\n",
    "    input_data=input().split()\n",
    "    array.append((int(input_data[0]), input_data[1]))\n",
    "    \n",
    "array=sorted(array, key=lambda x:x[0])\n",
    "\n",
    "for i in array:\n",
    "    print(i[0],i[1])"
   ]
  },
  {
   "cell_type": "markdown",
   "id": "272d9d55",
   "metadata": {},
   "source": [
    "20. 백준 문제 \"좌표 정렬하기\" (x) \n",
    "\n",
    "문제 난이도:하(easy)\n",
    "\n",
    "문제 유형:정렬\n",
    "\n",
    "시간:15분\n",
    "\n",
    "파이썬 기본 정렬 라이브러리는 기본적으로 튜플의 인덱스 순서 오름차순\n",
    "\n",
    "그냥 기본 정렬 하면 됨(key 속성 없이)"
   ]
  },
  {
   "cell_type": "code",
   "execution_count": null,
   "id": "53a66ea7",
   "metadata": {},
   "outputs": [],
   "source": [
    "n=int(input())\n",
    "array=[]\n",
    "for i in range(n):\n",
    "    a,b=map(int,input().split())\n",
    "    array.append((a,b))\n",
    "\n",
    "# array=sorted(array, key=lambda x:x[0])\n",
    "array=sorted(array)\n",
    "\n",
    "for i in array:\n",
    "    print(i[0],i[1])\n",
    "    "
   ]
  },
  {
   "cell_type": "markdown",
   "id": "833659b6",
   "metadata": {},
   "source": [
    "20. 백준 문제 \"수 정렬하기3\" (x) \n",
    "\n",
    "문제 난이도:하(easy)\n",
    "\n",
    "문제 유형:정렬\n",
    "\n",
    "시간:20분\n",
    "\n",
    "데이터의 개수가 많은데 데이터의 범위는 좁다.\n",
    "\n",
    "시간 복잡도 O(N)의 정렬 알고리즘을 이용\n",
    "\n",
    "수의 범위가 1 ~ 10000 이므로 계수 정렬(counting sort)을 이용\n",
    "\n",
    "계수 정렬 알고리즘\n",
    "- 배열의 인덱스를 특정한 데이터의 값으로 여기는 정렬 방법\n",
    "- 배열의 크기는 데이터의 범위를 포함할 수 있도록 설정\n",
    "- 데이터가 등장한 횟수를 센다.\n",
    "- 0부터 등장 가능한 최대숫자까지 리스트를 만들고 각 리스트 당 숫자가 몇 개 있나 센다.\n",
    "\n",
    "데이터의 개수가 많을 때에는 파이썬에서 sys.stdin.readline()을 사용"
   ]
  },
  {
   "cell_type": "code",
   "execution_count": 21,
   "id": "87e539b5",
   "metadata": {},
   "outputs": [
    {
     "ename": "NameError",
     "evalue": "name 'intput' is not defined",
     "output_type": "error",
     "traceback": [
      "\u001b[1;31m---------------------------------------------------------------------------\u001b[0m",
      "\u001b[1;31mNameError\u001b[0m                                 Traceback (most recent call last)",
      "Input \u001b[1;32mIn [21]\u001b[0m, in \u001b[0;36m<cell line: 3>\u001b[1;34m()\u001b[0m\n\u001b[0;32m      1\u001b[0m \u001b[38;5;28;01mimport\u001b[39;00m \u001b[38;5;21;01msys\u001b[39;00m\n\u001b[0;32m      2\u001b[0m \u001b[38;5;28minput\u001b[39m\u001b[38;5;241m=\u001b[39msys\u001b[38;5;241m.\u001b[39mstdin\u001b[38;5;241m.\u001b[39mreadline\n\u001b[1;32m----> 3\u001b[0m n\u001b[38;5;241m=\u001b[39m\u001b[38;5;28mint\u001b[39m(\u001b[43mintput\u001b[49m())\n\u001b[0;32m      4\u001b[0m number\u001b[38;5;241m=\u001b[39m[]\n\u001b[0;32m      5\u001b[0m \u001b[38;5;28;01mfor\u001b[39;00m _ \u001b[38;5;129;01min\u001b[39;00m \u001b[38;5;28mrange\u001b[39m(n):\n",
      "\u001b[1;31mNameError\u001b[0m: name 'intput' is not defined"
     ]
    }
   ],
   "source": [
    "import sys\n",
    "input=sys.stdin.readline\n",
    "n=int(input())\n",
    "number=[]\n",
    "for _ in range(n):\n",
    "    number.append(int(input()))\n",
    "    \n",
    "number.sort()\n",
    "\n",
    "for i in number:\n",
    "    print(i)"
   ]
  },
  {
   "cell_type": "code",
   "execution_count": null,
   "id": "2cb70b3d",
   "metadata": {},
   "outputs": [],
   "source": [
    "# 정답\n",
    "\n",
    "import sys\n",
    "\n",
    "n=int(sys.stdin.readline())\n",
    "array=[0]*10001 # 주어진 조건에서 수는 10,000보다 작거나 같은수이다.\n",
    "# 따라서 0을 포함한 10000 까지의 수를 모두 넣는다.\n",
    "\n",
    "for i in range(n):\n",
    "    data = int(sys.stdin.readline())\n",
    "    array[data] += 1 # data가 입력될 때마다 array에 index를 찾아서 1씩 더해준다.\n",
    "    \n",
    "for i in range(10001): # array 인덱스를 하나씩 보는 것\n",
    "    if array[i] != 0: # 0이 아니면 숫자가 들어가 있는 것.\n",
    "        for j in range(array[i]):\n",
    "            print(i)\n"
   ]
  },
  {
   "cell_type": "markdown",
   "id": "47b6bd4d",
   "metadata": {},
   "source": [
    "21. 백준 문제 \"피보나치 수\" (x) \n",
    "\n",
    "문제 난이도:하(easy)\n",
    "\n",
    "문제 유형:재귀 함수\n",
    "\n",
    "시간:15분\n",
    "\n",
    "1. 점화식을 세운다.\n",
    "- F0 = 0, F1 = 1\n",
    "- Fn = Fn-1 + Fn-2 (n>=2)\n",
    "2. 재귀 함수를 이용해 문제를 풀 수 있는지 검토\n",
    "3. 문제에서 N은 최대 45\n",
    "\n",
    "재귀적으로 구현하면 밑에 있는 숫자가 계속 반복해서 나온다.\n",
    "- 시간 복잡도 O(2^n) 연산이 엄청 많아진다."
   ]
  },
  {
   "cell_type": "code",
   "execution_count": 3,
   "id": "e9196f02",
   "metadata": {},
   "outputs": [
    {
     "name": "stdout",
     "output_type": "stream",
     "text": [
      "17\n",
      "1597\n"
     ]
    }
   ],
   "source": [
    "n=int(input())\n",
    "array=[0]*n\n",
    "array[0]=0\n",
    "array[1]=1\n",
    "for i in range(2, n+1):\n",
    "    array[i]=array[i-1]+array[i-2]\n",
    "    array.append(array[i])\n",
    "    \n",
    "print(array[n])"
   ]
  },
  {
   "cell_type": "code",
   "execution_count": null,
   "id": "0d7d941f",
   "metadata": {},
   "outputs": [],
   "source": [
    "# 정답\n",
    "# 아니 왤케 쉽게 풀음?\n",
    "n=int(input())\n",
    "a, b=0,1\n",
    "while n>0:\n",
    "    a, b=b,a+b # 한 칸 씩 이동하면서 a,b를 갱신한다.\n",
    "    n-=1 # n번 수행하도록 한다.\n",
    "    \n",
    "print(a)"
   ]
  },
  {
   "cell_type": "markdown",
   "id": "fac5bf61",
   "metadata": {},
   "source": [
    "22. 백준 문제 \"Z\" (x) \n",
    "\n",
    "문제 난이도:중(medium)\n",
    "\n",
    "문제 유형:재귀 함수\n",
    "\n",
    "시간:40분\n",
    "\n",
    "와 이거 전혀 모르겠는데??\n",
    "\n",
    "이거 너무 어려운데...\n",
    "\n",
    "이거 시간초과 뜬다.\n",
    "\n",
    "https://ggasoon2.tistory.com/11\n",
    "\n",
    "와 이거 너무 어렵다. 봐도 모르겠는데."
   ]
  },
  {
   "cell_type": "code",
   "execution_count": 3,
   "id": "df16d79c",
   "metadata": {},
   "outputs": [
    {
     "name": "stdout",
     "output_type": "stream",
     "text": [
      "2 3 1\n",
      "11\n"
     ]
    }
   ],
   "source": [
    "def solve(n,x,y):\n",
    "    global result\n",
    "    if n == 2:\n",
    "        if x==X and y==Y:\n",
    "            print(result)\n",
    "            return\n",
    "        result += 1\n",
    "        if x==X and y+1==Y:\n",
    "            print(result)\n",
    "            return\n",
    "        result+=1\n",
    "        if x+1==X and y==Y:\n",
    "            print(result)\n",
    "            return\n",
    "        result+=1\n",
    "        if x+1==X and y+1==Y:\n",
    "            print(result)\n",
    "            return\n",
    "        result+=1\n",
    "        return\n",
    "    solve(n/2, x, y)\n",
    "    solve(n/2,x,y+n/2) \n",
    "    solve(n/2,x+n/2,y)\n",
    "    solve(n/2,x+n/2, y+n/2)\n",
    "    \n",
    "result=0\n",
    "N,X,Y=map(int,input().split(' '))\n",
    "solve(2**N,0,0)"
   ]
  },
  {
   "cell_type": "code",
   "execution_count": null,
   "id": "53a60b05",
   "metadata": {},
   "outputs": [],
   "source": [
    "N, r, c = map(int, input().split())\n",
    "\n",
    "def sol(N, r, c):\n",
    "\n",
    "    if N == 0:\n",
    "        return 0\n",
    "        \n",
    "    return 2*(r%2)+(c%2) + 4*sol(N-1, int(r/2), int(c/2))\n",
    "\n",
    "print(sol(N, r, c))"
   ]
  },
  {
   "cell_type": "code",
   "execution_count": 20,
   "id": "afd8085c",
   "metadata": {},
   "outputs": [
    {
     "name": "stdout",
     "output_type": "stream",
     "text": [
      "aaa\n"
     ]
    }
   ],
   "source": [
    "N, r, c = map(int, input().split())\n",
    "\n",
    "ans = 0\n",
    "\n",
    "while N != 0:\n",
    "\n",
    "    N -= 1\n",
    "\n",
    "    # 1사분면\n",
    "    if r < 2 ** N and c < 2 ** N:\n",
    "        ans += ( 2 ** N ) * ( 2 ** N ) * 0\n",
    "\n",
    "    # 2사분면\n",
    "    elif r < 2 ** N and c >= 2 ** N: \n",
    "        ans += ( 2 ** N ) * ( 2 ** N ) * 1\n",
    "        c -= ( 2 ** N )\n",
    "        \n",
    "    # 3사분면    \n",
    "    elif r >= 2 ** N and c < 2 ** N: \n",
    "        ans += ( 2 ** N ) * ( 2 ** N ) * 2\n",
    "        r -= ( 2 ** N )\n",
    "        \n",
    "    # 4사분면    \n",
    "    else:\n",
    "        ans += ( 2 ** N ) * ( 2 ** N ) * 3\n",
    "        r -= ( 2 ** N )\n",
    "        c -= ( 2 ** N )\n",
    "    \n",
    "print(ans)"
   ]
  },
  {
   "cell_type": "markdown",
   "id": "620287f8",
   "metadata": {},
   "source": [
    "23. 백준 문제 \"0 만들기\" (x) \n",
    "\n",
    "문제 난이도:중(medium)\n",
    "\n",
    "문제 유형:재귀 함수\n",
    "\n",
    "시간:40분\n",
    "\n",
    "너무 어려운데...\n",
    "\n",
    "파이썬 eval() 은 문자열 내의 수식을 계산해준다.\n",
    "\n",
    "와 공백 지우는 걸로 숫자를 합하네.\n",
    "\n",
    "봐도 모르겠음"
   ]
  },
  {
   "cell_type": "code",
   "execution_count": 8,
   "id": "1f93d3d0",
   "metadata": {
    "scrolled": true
   },
   "outputs": [
    {
     "name": "stdout",
     "output_type": "stream",
     "text": [
      "2\n",
      "3\n",
      "1+2-3\n",
      "\n",
      "7\n",
      "1+2-3+4-5-6+7\n",
      "1+2-3-4+5+6-7\n",
      "1-2 3+4+5+6+7\n",
      "1-2 3-4 5+6 7\n",
      "1-2+3+4-5+6-7\n",
      "1-2-3-4-5+6+7\n",
      "\n"
     ]
    }
   ],
   "source": [
    "import copy\n",
    "def recursive(array, n):\n",
    "    if len(array) == n:\n",
    "        operators_list.append(copy.deepcopy(array))\n",
    "        return\n",
    "    array.append(' ')\n",
    "    recursive(array,n)\n",
    "    array.pop()\n",
    "    \n",
    "    array.append('+')\n",
    "    recursive(array,n)\n",
    "    array.pop()\n",
    "    \n",
    "    array.append('-')\n",
    "    recursive(array,n)\n",
    "    array.pop()\n",
    "\n",
    "test_case = int(input())\n",
    "for _ in range(test_case):\n",
    "    operators_list=[]\n",
    "    n=int(input())\n",
    "    recursive([], n-1)\n",
    "    integers=[i for i in range(1, n+1)]\n",
    "    for operators in operators_list:\n",
    "        string=\"\"\n",
    "        for i in range(n-1):\n",
    "            string+=str(integers[i]) + operators[i]\n",
    "        string+=str(integers[-1])\n",
    "        if eval(string.replace(\" \",\"\")) == 0:\n",
    "            print(string)\n",
    "    print()\n",
    "    \n",
    "    \n",
    "    "
   ]
  },
  {
   "cell_type": "markdown",
   "id": "30a41b5a",
   "metadata": {},
   "source": [
    "24. 백준 문제 \"수 정렬하기 2\" (x) \n",
    "\n",
    "문제 난이도:하(easy)\n",
    "\n",
    "문제 유형:정렬\n",
    "\n",
    "시간:20분\n",
    "\n",
    "퀵, 병합, 힙 정렬을 할 줄 알아야 한다.\n",
    "\n",
    "데이터 개수가 1,000,000개 이기 때문에 시간 복잡도O(NlogN)을 이용한다.\n",
    "\n",
    "고급 정렬 알고리즘(병합, 퀵, 힙)을 이용한다.\n",
    "- 퀵 정렬은 O(N^2)까지 나올 수 있으니 주의\n",
    "\n",
    "혹은 파이썬 기본 정렬 라이브러리를 이용\n",
    "\n",
    "메모리가 허용 되면 python3보다 pypy3를 이용(시간이 더 빠르다.)"
   ]
  },
  {
   "cell_type": "markdown",
   "id": "6ce4cfeb",
   "metadata": {},
   "source": [
    "병합 정렬(merge sort)알고리즘\n",
    "- 분할 정복(divide & conquer)방식을 이용\n",
    "- 절반씩 합치면서 정렬하면 전체 리스트가 정렬된다.\n",
    "- 시간 복잡도 O(NlogN)을 보장한다."
   ]
  },
  {
   "cell_type": "code",
   "execution_count": 9,
   "id": "dd108fb7",
   "metadata": {},
   "outputs": [
    {
     "name": "stdout",
     "output_type": "stream",
     "text": [
      "5\n",
      "5\n",
      "4\n",
      "3\n",
      "2\n",
      "1\n",
      "1\n",
      "2\n",
      "3\n",
      "4\n",
      "5\n"
     ]
    }
   ],
   "source": [
    "# 병합 정렬 코드\n",
    "def merge_sort(array):\n",
    "    if len(array) <= 1:\n",
    "        return array\n",
    "    mid = len(array) // 2\n",
    "    left = merge_sort(array[:mid])\n",
    "    right = merge_sort(array[mid:])\n",
    "    i, j, k = 0, 0, 0\n",
    "    while i < len(left) and j < len(right):\n",
    "        if left[i] < right[j]:\n",
    "            array[k]=left[i]\n",
    "            i+=1\n",
    "        else:\n",
    "            array[k]=right[j]\n",
    "            j+=1\n",
    "        k+=1\n",
    "    if i == len(left):\n",
    "        while j < len(right):\n",
    "            array[k]=right[j]\n",
    "            j+=1\n",
    "            k+=1\n",
    "    elif j == len(right):\n",
    "        while i<len(left):\n",
    "            array[k]=left[i]\n",
    "            i+=1\n",
    "            k+=1\n",
    "    return array\n",
    "\n",
    "n = int(input())\n",
    "array=[]\n",
    "for _ in range(n):\n",
    "    array.append(int(input()))\n",
    "array=merge_sort(array)\n",
    "for data in array:\n",
    "    print(data)"
   ]
  },
  {
   "cell_type": "code",
   "execution_count": null,
   "id": "d1f23a92",
   "metadata": {},
   "outputs": [],
   "source": [
    "# 파이썬 기본코드인 sorted를 이용\n",
    "n=int(input())\n",
    "array=[]\n",
    "for _ in range(n):\n",
    "    array.append(int(input()))\n",
    "    \n",
    "array=sorted(array)\n",
    "\n",
    "for data in array:\n",
    "    print(data)"
   ]
  },
  {
   "cell_type": "markdown",
   "id": "a0221910",
   "metadata": {},
   "source": [
    "25. 백준 문제 \"k번째 수\" (x) 11004번\n",
    "\n",
    "문제 난이도:중(medium)\n",
    "\n",
    "문제 유형:정렬\n",
    "\n",
    "시간:25분\n",
    "    \n",
    "- 데이터 개수가 5,000,000개임.\n",
    "- 시간 복잡도O(NlogN)을 이용\n",
    "- 고급 정렬(병합, 퀵, 힙)을 이용\n",
    "- 혹은 파이썬 기본 정렬 라이브러리\n",
    "- pypy3로 제출"
   ]
  },
  {
   "cell_type": "code",
   "execution_count": null,
   "id": "2b885b42",
   "metadata": {},
   "outputs": [],
   "source": [
    "# 병합 정렬 코드\n",
    "def merge_sort(array):\n",
    "    if len(array) <= 1:\n",
    "        return array\n",
    "    mid = len(array) // 2\n",
    "    left = merge_sort(array[:mid])\n",
    "    right = merge_sort(array[mid:])\n",
    "    i, j, k = 0, 0, 0\n",
    "    while i < len(left) and j < len(right):\n",
    "        if left[i] < right[j]:\n",
    "            array[k]=left[i]\n",
    "            i+=1\n",
    "        else:\n",
    "            array[k]=right[j]\n",
    "            j+=1\n",
    "        k+=1\n",
    "    if i == len(left):\n",
    "        while j < len(right):\n",
    "            array[k]=right[j]\n",
    "            j+=1\n",
    "            k+=1\n",
    "    elif j == len(right):\n",
    "        while i<len(left):\n",
    "            array[k]=left[i]\n",
    "            i+=1\n",
    "            k+=1\n",
    "    return array\n",
    "\n",
    "n, k = map(int, input().split())\n",
    "array=list(map(int, input().split()))\n",
    "array=merge_sort(array)\n",
    "\n",
    "print(array[k-1])"
   ]
  },
  {
   "cell_type": "code",
   "execution_count": null,
   "id": "2904ad82",
   "metadata": {},
   "outputs": [],
   "source": [
    "# 그냥 sorted 이용\n",
    "n, k = map(int,input().split())\n",
    "a= list(map(int, input().split()))\n",
    "a=sorted(a)\n",
    "print(a[k-1])"
   ]
  },
  {
   "cell_type": "code",
   "execution_count": 24,
   "id": "e198147f",
   "metadata": {},
   "outputs": [
    {
     "name": "stdout",
     "output_type": "stream",
     "text": [
      "5 2\n",
      "4 1 2 3 5 \n"
     ]
    },
    {
     "data": {
      "text/plain": [
       "2"
      ]
     },
     "execution_count": 24,
     "metadata": {},
     "output_type": "execute_result"
    }
   ],
   "source": [
    "# 그냥 sorted 이용\n",
    "n, k = map(int,input().split())\n",
    "a= list(map(int, input().split()))\n",
    "a=sorted(a)\n",
    "a[k-1]"
   ]
  },
  {
   "cell_type": "markdown",
   "id": "450da71a",
   "metadata": {},
   "source": [
    "26. 백준 문제 \"문서 검색\" (x) 1543번\n",
    "\n",
    "문제 난이도:하(easy)\n",
    "\n",
    "문제 유형:탐색\n",
    "\n",
    "시간:20분\n",
    "\n",
    "- 모든 경우의 수를 계산\n",
    "- 시간 복잡도 O(NM) "
   ]
  },
  {
   "cell_type": "code",
   "execution_count": 20,
   "id": "59d4910b",
   "metadata": {},
   "outputs": [
    {
     "name": "stdout",
     "output_type": "stream",
     "text": [
      "4 1 2 3\n"
     ]
    },
    {
     "ename": "TypeError",
     "evalue": "int() argument must be a string, a bytes-like object or a number, not 'list'",
     "output_type": "error",
     "traceback": [
      "\u001b[1;31m---------------------------------------------------------------------------\u001b[0m",
      "\u001b[1;31mTypeError\u001b[0m                                 Traceback (most recent call last)",
      "Input \u001b[1;32mIn [20]\u001b[0m, in \u001b[0;36m<cell line: 2>\u001b[1;34m()\u001b[0m\n\u001b[0;32m      1\u001b[0m a\u001b[38;5;241m=\u001b[39m[]\n\u001b[1;32m----> 2\u001b[0m a\u001b[38;5;241m.\u001b[39mappend(\u001b[38;5;28;43mint\u001b[39;49m\u001b[43m(\u001b[49m\u001b[38;5;28;43minput\u001b[39;49m\u001b[43m(\u001b[49m\u001b[43m)\u001b[49m\u001b[38;5;241;43m.\u001b[39;49m\u001b[43msplit\u001b[49m\u001b[43m(\u001b[49m\u001b[43m)\u001b[49m\u001b[43m)\u001b[49m)\n",
      "\u001b[1;31mTypeError\u001b[0m: int() argument must be a string, a bytes-like object or a number, not 'list'"
     ]
    }
   ],
   "source": [
    "document=input()\n",
    "word=input()\n",
    "index=0\n",
    "result=0\n",
    "while len(document) - index>=len(word):\n",
    "    if document[index:index+len(word)]==word: # 문서에서 보고 있는 단어가 찾는 단어일 경우\n",
    "        result+=1\n",
    "        index+=len(word)\n",
    "    else:\n",
    "        index+=1\n",
    "\n",
    "print(result)\n",
    "        "
   ]
  },
  {
   "cell_type": "markdown",
   "id": "6eea1e53",
   "metadata": {},
   "source": [
    "27. 백준 문제 \"새\" (x) 1568번\n",
    "\n",
    "문제 난이도:하(easy)\n",
    "\n",
    "문제 유형:탐색\n",
    "\n",
    "시간:20분\n",
    "\n",
    "- N이 최대 1,000,000,000이다.\n",
    "- k가 반복적으로 증가 하니까 O(N^2)이다\n",
    "- 문제에서 요구하는 대로 구현하면 된다."
   ]
  },
  {
   "cell_type": "code",
   "execution_count": null,
   "id": "913672a8",
   "metadata": {},
   "outputs": [
    {
     "name": "stdout",
     "output_type": "stream",
     "text": [
      "14\n"
     ]
    }
   ],
   "source": [
    "n=int(input())\n",
    "result=0\n",
    "k=1 # 노래 당 날아간 새의 수\n",
    "\n",
    "while n!= 0: # n이 0이 아니면 계속 반복한다.\n",
    "    if k>n: # 노래 당 날아가는 새의 수가 남은 수보다 많으면\n",
    "        k=1 # 다시 k를 1로 바꾼다.\n",
    "    n-=k # 새의 수 빼주기\n",
    "    k +=1 # 날아가는 새의 수가 1마리 씩 증가\n",
    "    result+=1\n",
    "print(result)\n"
   ]
  },
  {
   "cell_type": "markdown",
   "id": "780a62a9",
   "metadata": {},
   "source": [
    "28. 백준 문제 \"베스트셀러\" (x) 1302번\n",
    "\n",
    "문제 난이도:하(easy)\n",
    "\n",
    "문제 유형:탐색\n",
    "\n",
    "시간:20분"
   ]
  },
  {
   "cell_type": "code",
   "execution_count": null,
   "id": "a2225b98",
   "metadata": {},
   "outputs": [],
   "source": [
    "# 정답\n",
    "n=int(input())\n",
    "books={}\n",
    "\n",
    "for _ in range(n):\n",
    "    book = input()\n",
    "    if book not in books:\n",
    "        books[book]=1\n",
    "    else:\n",
    "        books[book]+=1 # 이걸 몰랐음.\n",
    "\n",
    "target=max(books.values()) # 이것도 생각못함.\n",
    "array=[]\n",
    "for book, number in books.items(): # 이것도 몰랐음. 리스트 안에 튜플 형태로 출력함.\n",
    "    if number == target:\n",
    "        array.append(book)\n",
    "        \n",
    "print(sorted(array)[0]) # 사전 순 정렬하고 가장 앞의 값\n",
    "\n",
    " \n",
    "    "
   ]
  },
  {
   "cell_type": "markdown",
   "id": "5aaf0183",
   "metadata": {},
   "source": [
    "29. 백준 문제 \"트로피 진열\" (O) 1668번\n",
    "\n",
    "문제 난이도:하(easy)\n",
    "\n",
    "문제 유형:탐색\n",
    "\n",
    "시간:20분\n",
    "\n",
    "N 개수가 적어서 그냥 구현하면 된다.\n",
    "\n",
    "와 이걸 그냥 리스트를 뒤집으면 되네..."
   ]
  },
  {
   "cell_type": "code",
   "execution_count": 5,
   "id": "addae0ef",
   "metadata": {},
   "outputs": [
    {
     "name": "stdout",
     "output_type": "stream",
     "text": [
      "4\n",
      "5\n",
      "5\n",
      "5\n",
      "5\n",
      "1\n",
      "1\n"
     ]
    }
   ],
   "source": [
    "# max값이랑 비교하면서 크면 max변경하고 1 count\n",
    "n=int(input())\n",
    "t=[]\n",
    "for _ in range(n):\n",
    "    t.append(int(input())) # t에 트로피 높이 쭉 들어감.\n",
    "    \n",
    "m= t[0] #최댓값을 맨 처음 트로피\n",
    "cnt=1 # 맨 처음꺼 무조건 보이니까 1부터 시작\n",
    "for i in range(1,n):\n",
    "    if m < t[i]: #만약 최댓값보다  크면 최댓값 교체하고 카운트1\n",
    "        m=t[i]    # 작거나 같으면 그냥 다음으로 넘어가면 됨.\n",
    "        cnt+=1\n",
    "    \n",
    "print(cnt)\n",
    "        \n",
    "rm = t[-1] # 반대쪽일 경우 최댓값\n",
    "rcnt=1\n",
    "for i in range(-2, -(n+1), -1):\n",
    "    if rm < t[i]:\n",
    "        rm=t[i]\n",
    "        rcnt+=1\n",
    "        \n",
    "print(rcnt)\n",
    "    \n",
    "    "
   ]
  },
  {
   "cell_type": "code",
   "execution_count": 6,
   "id": "a00ff8eb",
   "metadata": {},
   "outputs": [
    {
     "name": "stdout",
     "output_type": "stream",
     "text": [
      "5\n",
      "1\n",
      "2\n",
      "3\n",
      "4\n",
      "5\n",
      "5\n",
      "1\n"
     ]
    }
   ],
   "source": [
    "# 정답\n",
    "def ascending(array):\n",
    "    now=array[0]\n",
    "    result=1\n",
    "    for i in range(1, len(array)):\n",
    "        if now < array[i]:\n",
    "            result+=1\n",
    "            now=array[i]\n",
    "    return result\n",
    "\n",
    "n = int(input())\n",
    "array=[]\n",
    "\n",
    "for _ in range(n):\n",
    "    array.append(int(input()))\n",
    "    \n",
    "print(ascending(array))\n",
    "array.reverse()\n",
    "print(ascending(array))"
   ]
  },
  {
   "cell_type": "markdown",
   "id": "a73a3e9e",
   "metadata": {},
   "source": [
    "30. 백준 문제 \"성 지키기\" (X) 1236번\n",
    "\n",
    "문제 난이도:하(easy)\n",
    "\n",
    "문제 유형:탐색\n",
    "\n",
    "시간:20분\n",
    "\n",
    "와 이거 너무 헷갈리는데...\n",
    "\n",
    "굳이 dataframe 이런거 아님\n",
    "\n",
    "어렵다."
   ]
  },
  {
   "cell_type": "code",
   "execution_count": 15,
   "id": "22e74c48",
   "metadata": {},
   "outputs": [
    {
     "name": "stdout",
     "output_type": "stream",
     "text": [
      "4 4\n",
      "....\n",
      "....\n",
      "....\n",
      "....\n",
      "4\n"
     ]
    }
   ],
   "source": [
    "n, m=map(int, input().split())\n",
    "array=[] # array[0][0]=(0,0)\n",
    "row=[0]*n\n",
    "column=[0]*m\n",
    "for _ in range(n):\n",
    "    array.append(input())\n",
    "    \n",
    "for i in range(n):\n",
    "    for j in range(m):\n",
    "        if array[i][j] == 'X':\n",
    "            row[i]=1\n",
    "            column[j]=1\n",
    "    \n",
    "row_cnt=0\n",
    "column_cnt=0\n",
    "for i in range(n):\n",
    "    if row[i]==0:\n",
    "        row_cnt+=1\n",
    "        \n",
    "for i in range(m):\n",
    "    if column[i]==0:\n",
    "        column_cnt+=1\n",
    "        \n",
    "print(max(row_cnt, column_cnt))\n",
    "        \n",
    "        \n",
    "    \n",
    "\n",
    "    "
   ]
  },
  {
   "cell_type": "markdown",
   "id": "ea847761",
   "metadata": {},
   "source": [
    "31. 백준 문제 \"공유기 설치\" (X) 2110번\n",
    "\n",
    "문제 난이도:중(medium)\n",
    "\n",
    "문제 유형:이진 탐색 >> 난이도가 있다.\n",
    "\n",
    "시간:40분\n",
    "\n",
    "x가 10억까지 나옴, n은 20만개 \n",
    "\n",
    "파이썬은 1초에 2000만 수행 가능 2초면 4000만까지 가능\n",
    "\n",
    "만약 o(n^2)이면 400억임\n",
    "\n",
    "- 집 개수n이 최대 200,000이다. x는 1,000,000,000이다\n",
    "- 이진 탐색을 이용해 O(NlogX)에 문제를 해결 가능\n",
    "- 가장 인접한 두 공유기 사이의 최대 gap을 이진 탐색으로 찾는다.\n",
    "\n",
    "이진 탐색은 min과 max를 찾고 중간 값을mid 찾은 다음\n",
    "\n",
    "min과 max를 계속 갱신하면서 반복한다.\n",
    "\n",
    "이진 탐색은 재귀적으로나 반복적으로 해결 가능\n",
    "\n",
    "이 문제는 반복문으로 해결 가능\n",
    "\n",
    "내가 아는 이진 탐색이랑 좀 다른데\n",
    "\n",
    "이거 모르겠다."
   ]
  },
  {
   "cell_type": "code",
   "execution_count": 19,
   "id": "552fedbe",
   "metadata": {},
   "outputs": [
    {
     "name": "stdout",
     "output_type": "stream",
     "text": [
      "5 3\n",
      "1\n",
      "2\n",
      "8\n",
      "4\n",
      "9\n",
      "3\n"
     ]
    }
   ],
   "source": [
    "n, c=map(int, input().split())\n",
    "array=[]\n",
    "for _ in range(n):\n",
    "    array.append(int(input()))\n",
    "    \n",
    "array.sort()\n",
    "\n",
    "start=array[1]-array[0]\n",
    "end=array[-1]-array[0]\n",
    "result=0\n",
    "\n",
    "while (start<=end):\n",
    "    mid = (start+end) // 2 # mid는 gap을 의미한다.\n",
    "    value=array[0]\n",
    "    count=1\n",
    "    for i in range(1, n):\n",
    "        if array[i]>=value+mid:\n",
    "            value=array[i]\n",
    "            count+=1\n",
    "    if count>=c: # c개 이상의 공유기를 설치할 수 있는 경우\n",
    "        start=mid+1\n",
    "        result=mid\n",
    "    else: # c개 이상의 공유기를 설치할 수 없는 경우\n",
    "        end=mid-1\n",
    "            \n",
    "print(result)\n",
    "\n",
    "    "
   ]
  },
  {
   "cell_type": "markdown",
   "id": "3302890a",
   "metadata": {},
   "source": [
    "32. 백준 문제 \"중량 제한\" (X) 1939번\n",
    "\n",
    "문제 난이도:중상(hard)\n",
    "\n",
    "문제 유형:이진 탐색 >> 난이도가 있다.\n",
    "\n",
    "시간:60분\n",
    "\n",
    "- 다리 개수m 최대 100,000, 중량 제한 c는 1,000,000,000이다.\n",
    "- 이진 탐색으로 O(M*logC)에 문제를 해결\n",
    "- 한 번의 이동에서 옮길 수 있는 물품의 중량의 최댓값을 이진 탐색으로 찾음.\n",
    "- 다른 섬 통과하는 것도 고려함"
   ]
  },
  {
   "cell_type": "code",
   "execution_count": 26,
   "id": "3e1256e5",
   "metadata": {},
   "outputs": [
    {
     "name": "stdout",
     "output_type": "stream",
     "text": [
      "3 3\n",
      "1 2 2\n",
      "3 1 3 \n",
      "2 3 2\n",
      "1 3\n",
      "3\n"
     ]
    }
   ],
   "source": [
    "from collections import deque\n",
    "\n",
    "n, m = map(int, input().split())\n",
    "adj=[[] for _ in range(n+1)]\n",
    "\n",
    "# BFS(경로 있는지 확인)\n",
    "def bfs(c):\n",
    "    queue=deque([start_node])\n",
    "    visited=[False]*(n+1)\n",
    "    visited[start_node]=True\n",
    "    while queue:\n",
    "        x = queue.popleft()\n",
    "        for y, weight in adj[x]:\n",
    "            if not visited[y] and weight >=c:\n",
    "                visited[y]=True\n",
    "                queue.append(y)\n",
    "    return visited[end_node]\n",
    "\n",
    "start = 1000000000\n",
    "end=1\n",
    "\n",
    "for _ in range(m):\n",
    "    x, y, weight=map(int,input().split())\n",
    "    adj[x].append((y,weight))\n",
    "    adj[y].append((x,weight))\n",
    "    start=min(start,weight)\n",
    "    end=max(end,weight)\n",
    "    \n",
    "start_node, end_node=map(int,input().split())\n",
    "\n",
    "# 이진 탐색\n",
    "result=start\n",
    "while (start<=end):\n",
    "    mid=(start+end) //2 # mid는 현재의 중량을 의미\n",
    "    if bfs(mid): # 이동이 가능하므로 중량을 증가\n",
    "        result=mid\n",
    "        start=mid+1\n",
    "    else: # 이동이 불가능, 중량을 감소\n",
    "        end=mid-1\n",
    "        \n",
    "print(result)\n",
    "    \n"
   ]
  },
  {
   "cell_type": "markdown",
   "id": "59327dbc",
   "metadata": {},
   "source": [
    "33. 백준 문제 \"트리순회\" (X) 1991번\n",
    "\n",
    "문제 난이도:하(easy)\n",
    "\n",
    "문제 유형:트리, 구현\n",
    "\n",
    "시간:20분\n",
    "\n",
    "- 재귀 함수에 대해 이해하고 있어야 한다.\n",
    "\n",
    "- 개 어려운데???\n",
    "\n",
    "- 이거 꼭 알아야 함.\n",
    "\n",
    "- 안되면 외우기라도 하자."
   ]
  },
  {
   "cell_type": "code",
   "execution_count": 33,
   "id": "9d6e8aa5",
   "metadata": {},
   "outputs": [
    {
     "name": "stdout",
     "output_type": "stream",
     "text": [
      "7\n",
      "A B C\n",
      "B D .\n",
      "C E F\n",
      "E . .\n",
      "F . G\n",
      "D . .\n",
      "G . .\n",
      "ABDCEFG\n",
      "DBAECFG\n",
      "DBEGFCA"
     ]
    }
   ],
   "source": [
    "# 정답\n",
    "class Node:\n",
    "    def __init__(self, data, left_node, right_node):\n",
    "        self.data=data\n",
    "        self.left_node=left_node\n",
    "        self.right_node=right_node\n",
    "        \n",
    "def pre_order(node):\n",
    "    print(node.data, end='')\n",
    "    if node.left_node !='.':\n",
    "        pre_order(tree[node.left_node])\n",
    "    if node.right_node != '.':\n",
    "        pre_order(tree[node.right_node])\n",
    "    \n",
    "def in_order(node):\n",
    "    if node.left_node != '.':\n",
    "        in_order(tree[node.left_node])\n",
    "    print(node.data, end='')\n",
    "    if node.right_node != '.':\n",
    "        in_order(tree[node.right_node])\n",
    "        \n",
    "def post_order(node):\n",
    "    if node.left_node != '.':\n",
    "        post_order(tree[node.left_node])\n",
    "    if node.right_node != '.':\n",
    "        post_order(tree[node.right_node])\n",
    "    print(node.data, end='')\n",
    "\n",
    "n=int(input())\n",
    "tree={}\n",
    "for i in range(n):\n",
    "    data, left_node, right_node = input().split()\n",
    "    tree[data] = Node(data, left_node, right_node)\n",
    "\n",
    "pre_order(tree['A'])\n",
    "print()\n",
    "in_order(tree['A'])\n",
    "print()\n",
    "post_order(tree['A'])"
   ]
  },
  {
   "cell_type": "markdown",
   "id": "baab1c65",
   "metadata": {},
   "source": [
    "34. 백준 문제 \"트리의 높이와 너비\" (X) 2250번\n",
    "\n",
    "문제 난이도:중(medium) >> 거의 상 수준임\n",
    "\n",
    "문제 유형:트리, 구현\n",
    "\n",
    "시간:50분\n",
    "\n",
    "- 이건 뭐...손도 못대겠네.\n",
    "\n",
    "- 중위 순회를 이용, x축을 기준으로 왼쪽부터 방문한다는 특징이 있다.\n",
    "- 이 문제는 중위 순회 알고리즘을 이용, 추가적으로 level값을 저장하여 문제를 해결.\n",
    "\n",
    "- 중위 순회는 각 노드를 왼쪽부터 쭉 하나씩 거친다.\n",
    "- 각 노드 당 level을 기록하고 열 값을 비교하면 된다."
   ]
  },
  {
   "cell_type": "code",
   "execution_count": 34,
   "id": "ddd1a56f",
   "metadata": {
    "scrolled": true
   },
   "outputs": [
    {
     "name": "stdout",
     "output_type": "stream",
     "text": [
      "19\n",
      "1 2 3 \n",
      "2 4 5\n",
      "3 6 7 \n",
      "4 8 -1\n",
      "5 9 10\n",
      "6 11 12\n",
      "7 13 -1\n",
      "8 -1 -1\n",
      "9 14 15\n",
      "10 -1 -1\n",
      "9 14 15\n",
      "10 -1 -1\n",
      "11 16 -1\n",
      "12 -1 1\n",
      "13 17 -1\n",
      "14 -1 -1\n",
      "15 18 -1\n",
      "16 -1 -1\n",
      "17 -1 19\n"
     ]
    },
    {
     "ename": "KeyError",
     "evalue": "-1",
     "output_type": "error",
     "traceback": [
      "\u001b[1;31m---------------------------------------------------------------------------\u001b[0m",
      "\u001b[1;31mKeyError\u001b[0m                                  Traceback (most recent call last)",
      "Input \u001b[1;32mIn [34]\u001b[0m, in \u001b[0;36m<cell line: 45>\u001b[1;34m()\u001b[0m\n\u001b[0;32m     42\u001b[0m     \u001b[38;5;28;01mif\u001b[39;00m tree[i]\u001b[38;5;241m.\u001b[39mparent\u001b[38;5;241m==\u001b[39m\u001b[38;5;241m-\u001b[39m\u001b[38;5;241m1\u001b[39m:\n\u001b[0;32m     43\u001b[0m         root\u001b[38;5;241m=\u001b[39mi\n\u001b[1;32m---> 45\u001b[0m in_order(\u001b[43mtree\u001b[49m\u001b[43m[\u001b[49m\u001b[43mroot\u001b[49m\u001b[43m]\u001b[49m,\u001b[38;5;241m1\u001b[39m)\n\u001b[0;32m     47\u001b[0m result_level\u001b[38;5;241m=\u001b[39m\u001b[38;5;241m1\u001b[39m\n\u001b[0;32m     48\u001b[0m result_width\u001b[38;5;241m=\u001b[39mlevel_max[\u001b[38;5;241m1\u001b[39m]\u001b[38;5;241m-\u001b[39mlevel_min[\u001b[38;5;241m1\u001b[39m]\u001b[38;5;241m+\u001b[39m\u001b[38;5;241m1\u001b[39m\n",
      "\u001b[1;31mKeyError\u001b[0m: -1"
     ]
    }
   ],
   "source": [
    "class Node:\n",
    "    def __init__(self, number, left_node, right_node):\n",
    "        self.parent=-1 # 부모를 항상 확인 없으면 해당 트리의 루트노드가 된다.\n",
    "        self.number=number # 노드마다 번호를 받는다.\n",
    "        self.left_node=left_node\n",
    "        self.right_node=right_node\n",
    "        \n",
    "def in_order(node, level):\n",
    "    global level_depth, x\n",
    "    level_depth=max(level_depth, level)\n",
    "    if node.left_node != -1:\n",
    "        in_order(tree[node.left_node], level+1)\n",
    "    level_min[level]=min(level_min[level], x)\n",
    "    level_max[level]=max(level_max[level], x)\n",
    "    x +=1\n",
    "    if node.right_node != -1:\n",
    "        in_order(tree[node.right_node], level+1)\n",
    "    \n",
    "n=int(input())\n",
    "tree={}\n",
    "level_min=[n]\n",
    "level_max=[0]\n",
    "root=-1\n",
    "x=1\n",
    "level_depth=1\n",
    "\n",
    "for i in range(1, n+1):\n",
    "    tree[i]=Node(i, -1, -1) # 왼쪽 오른쪽이 비어있다고 가정, 초기화하기\n",
    "    level_min.append(n)\n",
    "    level_max.append(0)\n",
    "    \n",
    "for _ in range(n):\n",
    "    number, left_node, right_node = map(int, input().split())\n",
    "    tree[number].left_node = left_node\n",
    "    tree[number].right_node=right_node\n",
    "    if left_node != -1:\n",
    "        tree[left_node].parent=number # 부모 노드 찾기\n",
    "    if right_node != -1:\n",
    "        tree[right_node].parent=number # 부모 노드 찾기\n",
    "        \n",
    "for i in range(1, n+1):\n",
    "    if tree[i].parent==-1:\n",
    "        root=i\n",
    "        \n",
    "in_order(tree[root],1) # 부모 없는 노드를 루트로 둔다.\n",
    "\n",
    "result_level=1\n",
    "result_width=level_max[1]-level_min[1]+1\n",
    "for i in range(2, level_depth+1):\n",
    "    width=level_max[i]-level_min[i]+1\n",
    "    if result_width < width:\n",
    "        result_level=i\n",
    "        result_width =width\n",
    "        \n",
    "print(result_level, result_width)\n",
    "    \n",
    "        "
   ]
  },
  {
   "cell_type": "markdown",
   "id": "fc36faac",
   "metadata": {},
   "source": [
    "35. 백준 문제 \"최소 힙\" (X) 1927번\n",
    "\n",
    "문제 난이도:하(easy)\n",
    "\n",
    "문제 유형:힙, 자료구조\n",
    "\n",
    "시간:20분\n",
    "\n",
    "- 기본적인 힙 기능을 구현\n",
    "- heapq 라이브러리를 이용하면 간단히 힙 구현 가능"
   ]
  },
  {
   "cell_type": "code",
   "execution_count": 38,
   "id": "fc3932c3",
   "metadata": {
    "collapsed": true
   },
   "outputs": [
    {
     "name": "stdout",
     "output_type": "stream",
     "text": [
      "9\n",
      "0\n",
      "12345\n",
      "1\n",
      "2\n",
      "0\n",
      "0\n",
      "0\n",
      "0\n",
      "32\n",
      "0\n",
      "1\n",
      "2\n",
      "12345\n",
      "0\n"
     ]
    }
   ],
   "source": [
    "# 이거 시간초과 뜬다.\n",
    "n=int(input())\n",
    "data=[]\n",
    "array=[]\n",
    "for _ in range(n):\n",
    "    data.append(int(input()))\n",
    "    \n",
    "for i in data:\n",
    "    if i != 0 :\n",
    "        array.append(i)\n",
    "    elif i == 0:\n",
    "        if len(array) == 0:\n",
    "            print(0)\n",
    "        else:\n",
    "            array=sorted(array)\n",
    "            print(array.pop(0))\n",
    "    \n",
    "    "
   ]
  },
  {
   "cell_type": "code",
   "execution_count": 44,
   "id": "86f12b26",
   "metadata": {
    "collapsed": true
   },
   "outputs": [
    {
     "ename": "KeyboardInterrupt",
     "evalue": "Interrupted by user",
     "output_type": "error",
     "traceback": [
      "\u001b[1;31m---------------------------------------------------------------------------\u001b[0m",
      "\u001b[1;31mKeyboardInterrupt\u001b[0m                         Traceback (most recent call last)",
      "Input \u001b[1;32mIn [44]\u001b[0m, in \u001b[0;36m<cell line: 3>\u001b[1;34m()\u001b[0m\n\u001b[0;32m      1\u001b[0m \u001b[38;5;66;03m# 정답\u001b[39;00m\n\u001b[0;32m      2\u001b[0m \u001b[38;5;28;01mimport\u001b[39;00m \u001b[38;5;21;01mheapq\u001b[39;00m\n\u001b[1;32m----> 3\u001b[0m n\u001b[38;5;241m=\u001b[39m\u001b[38;5;28mint\u001b[39m(\u001b[38;5;28;43minput\u001b[39;49m\u001b[43m(\u001b[49m\u001b[43m)\u001b[49m)\n\u001b[0;32m      4\u001b[0m heap\u001b[38;5;241m=\u001b[39m[]\n\u001b[0;32m      5\u001b[0m result\u001b[38;5;241m=\u001b[39m{}\n",
      "File \u001b[1;32m~\\miniforge3\\envs\\dl2\\lib\\site-packages\\ipykernel\\kernelbase.py:1177\u001b[0m, in \u001b[0;36mKernel.raw_input\u001b[1;34m(self, prompt)\u001b[0m\n\u001b[0;32m   1173\u001b[0m \u001b[38;5;28;01mif\u001b[39;00m \u001b[38;5;129;01mnot\u001b[39;00m \u001b[38;5;28mself\u001b[39m\u001b[38;5;241m.\u001b[39m_allow_stdin:\n\u001b[0;32m   1174\u001b[0m     \u001b[38;5;28;01mraise\u001b[39;00m StdinNotImplementedError(\n\u001b[0;32m   1175\u001b[0m         \u001b[38;5;124m\"\u001b[39m\u001b[38;5;124mraw_input was called, but this frontend does not support input requests.\u001b[39m\u001b[38;5;124m\"\u001b[39m\n\u001b[0;32m   1176\u001b[0m     )\n\u001b[1;32m-> 1177\u001b[0m \u001b[38;5;28;01mreturn\u001b[39;00m \u001b[38;5;28;43mself\u001b[39;49m\u001b[38;5;241;43m.\u001b[39;49m\u001b[43m_input_request\u001b[49m\u001b[43m(\u001b[49m\n\u001b[0;32m   1178\u001b[0m \u001b[43m    \u001b[49m\u001b[38;5;28;43mstr\u001b[39;49m\u001b[43m(\u001b[49m\u001b[43mprompt\u001b[49m\u001b[43m)\u001b[49m\u001b[43m,\u001b[49m\n\u001b[0;32m   1179\u001b[0m \u001b[43m    \u001b[49m\u001b[38;5;28;43mself\u001b[39;49m\u001b[38;5;241;43m.\u001b[39;49m\u001b[43m_parent_ident\u001b[49m\u001b[43m[\u001b[49m\u001b[38;5;124;43m\"\u001b[39;49m\u001b[38;5;124;43mshell\u001b[39;49m\u001b[38;5;124;43m\"\u001b[39;49m\u001b[43m]\u001b[49m\u001b[43m,\u001b[49m\n\u001b[0;32m   1180\u001b[0m \u001b[43m    \u001b[49m\u001b[38;5;28;43mself\u001b[39;49m\u001b[38;5;241;43m.\u001b[39;49m\u001b[43mget_parent\u001b[49m\u001b[43m(\u001b[49m\u001b[38;5;124;43m\"\u001b[39;49m\u001b[38;5;124;43mshell\u001b[39;49m\u001b[38;5;124;43m\"\u001b[39;49m\u001b[43m)\u001b[49m\u001b[43m,\u001b[49m\n\u001b[0;32m   1181\u001b[0m \u001b[43m    \u001b[49m\u001b[43mpassword\u001b[49m\u001b[38;5;241;43m=\u001b[39;49m\u001b[38;5;28;43;01mFalse\u001b[39;49;00m\u001b[43m,\u001b[49m\n\u001b[0;32m   1182\u001b[0m \u001b[43m\u001b[49m\u001b[43m)\u001b[49m\n",
      "File \u001b[1;32m~\\miniforge3\\envs\\dl2\\lib\\site-packages\\ipykernel\\kernelbase.py:1219\u001b[0m, in \u001b[0;36mKernel._input_request\u001b[1;34m(self, prompt, ident, parent, password)\u001b[0m\n\u001b[0;32m   1216\u001b[0m             \u001b[38;5;28;01mbreak\u001b[39;00m\n\u001b[0;32m   1217\u001b[0m \u001b[38;5;28;01mexcept\u001b[39;00m \u001b[38;5;167;01mKeyboardInterrupt\u001b[39;00m:\n\u001b[0;32m   1218\u001b[0m     \u001b[38;5;66;03m# re-raise KeyboardInterrupt, to truncate traceback\u001b[39;00m\n\u001b[1;32m-> 1219\u001b[0m     \u001b[38;5;28;01mraise\u001b[39;00m \u001b[38;5;167;01mKeyboardInterrupt\u001b[39;00m(\u001b[38;5;124m\"\u001b[39m\u001b[38;5;124mInterrupted by user\u001b[39m\u001b[38;5;124m\"\u001b[39m) \u001b[38;5;28;01mfrom\u001b[39;00m \u001b[38;5;28mNone\u001b[39m\n\u001b[0;32m   1220\u001b[0m \u001b[38;5;28;01mexcept\u001b[39;00m \u001b[38;5;167;01mException\u001b[39;00m:\n\u001b[0;32m   1221\u001b[0m     \u001b[38;5;28mself\u001b[39m\u001b[38;5;241m.\u001b[39mlog\u001b[38;5;241m.\u001b[39mwarning(\u001b[38;5;124m\"\u001b[39m\u001b[38;5;124mInvalid Message:\u001b[39m\u001b[38;5;124m\"\u001b[39m, exc_info\u001b[38;5;241m=\u001b[39m\u001b[38;5;28;01mTrue\u001b[39;00m)\n",
      "\u001b[1;31mKeyboardInterrupt\u001b[0m: Interrupted by user"
     ]
    }
   ],
   "source": [
    "# 정답\n",
    "import heapq\n",
    "n=int(input())\n",
    "heap=[]\n",
    "result=[]\n",
    "\n",
    "for _ in range(n):\n",
    "    data=int(input())\n",
    "    if data == 0:\n",
    "        if heap: # 이렇게 쓰면 뭐지?? 비어있지 않은 경우\n",
    "            result.append(heapq.heappop(heap))\n",
    "        else:\n",
    "            result.append(0)\n",
    "            \n",
    "    else:\n",
    "        heapq.heappush(heap, data)\n",
    "\n",
    "for data in result:\n",
    "    print(data)\n",
    "            \n",
    "            "
   ]
  },
  {
   "cell_type": "markdown",
   "id": "bad62e90",
   "metadata": {},
   "source": [
    "36. 백준 문제 \"카드 정렬하기\" (X) 1715번\n",
    "\n",
    "문제 난이도:하(easy)\n",
    "\n",
    "문제 유형:힙, 자료구조, 그리디\n",
    "\n",
    "시간:20분"
   ]
  },
  {
   "cell_type": "code",
   "execution_count": 41,
   "id": "7aa5bc38",
   "metadata": {},
   "outputs": [
    {
     "name": "stdout",
     "output_type": "stream",
     "text": [
      "111\n"
     ]
    }
   ],
   "source": [
    "import heapq\n",
    "heap=[1]\n",
    "if heap:\n",
    "    print(111)\n",
    "else:\n",
    "    print(222)"
   ]
  },
  {
   "cell_type": "code",
   "execution_count": 43,
   "id": "2034f38a",
   "metadata": {},
   "outputs": [
    {
     "name": "stdout",
     "output_type": "stream",
     "text": [
      "5555\n"
     ]
    }
   ],
   "source": [
    "aa=[]\n",
    "if aa:\n",
    "    print(23232)\n",
    "else:\n",
    "    print(5555)"
   ]
  },
  {
   "cell_type": "code",
   "execution_count": null,
   "id": "75502f1c",
   "metadata": {},
   "outputs": [],
   "source": [
    "# 전위 순회\n",
    "n=int(input())\n",
    "\n",
    "\n",
    "# 중위 순회\n",
    "\n",
    "# 후위 순회"
   ]
  },
  {
   "cell_type": "code",
   "execution_count": 21,
   "id": "8abcbb1c",
   "metadata": {},
   "outputs": [
    {
     "data": {
      "text/plain": [
       "[[], [], [], [], [], []]"
      ]
     },
     "execution_count": 21,
     "metadata": {},
     "output_type": "execute_result"
    }
   ],
   "source": [
    "n=5\n",
    "adj=[[] for _ in range(n+1)]\n",
    "adj"
   ]
  },
  {
   "cell_type": "code",
   "execution_count": 17,
   "id": "d3d247b2",
   "metadata": {},
   "outputs": [
    {
     "data": {
      "text/plain": [
       "[1, 2, 4, 8, 9]"
      ]
     },
     "execution_count": 17,
     "metadata": {},
     "output_type": "execute_result"
    }
   ],
   "source": [
    "array"
   ]
  },
  {
   "cell_type": "code",
   "execution_count": 10,
   "id": "4d7ef9cf",
   "metadata": {},
   "outputs": [
    {
     "ename": "TypeError",
     "evalue": "list indices must be integers or slices, not tuple",
     "output_type": "error",
     "traceback": [
      "\u001b[1;31m---------------------------------------------------------------------------\u001b[0m",
      "\u001b[1;31mTypeError\u001b[0m                                 Traceback (most recent call last)",
      "Input \u001b[1;32mIn [10]\u001b[0m, in \u001b[0;36m<cell line: 1>\u001b[1;34m()\u001b[0m\n\u001b[1;32m----> 1\u001b[0m \u001b[43ma\u001b[49m\u001b[43m[\u001b[49m\u001b[43m:\u001b[49m\u001b[43m,\u001b[49m\u001b[43m:\u001b[49m\u001b[38;5;241;43m2\u001b[39;49m\u001b[43m]\u001b[49m\n",
      "\u001b[1;31mTypeError\u001b[0m: list indices must be integers or slices, not tuple"
     ]
    }
   ],
   "source": [
    "a[:,:2]"
   ]
  },
  {
   "cell_type": "code",
   "execution_count": 4,
   "id": "c7db36b1",
   "metadata": {},
   "outputs": [
    {
     "data": {
      "text/plain": [
       "dict_items([('a', 1), ('b', 2), ('c', 3)])"
      ]
     },
     "execution_count": 4,
     "metadata": {},
     "output_type": "execute_result"
    }
   ],
   "source": [
    "aa = {'a':1, \"b\":2,\"c\":3}\n",
    "\n",
    "aa.values()\n",
    "aa.keys()\n",
    "aa.items()"
   ]
  },
  {
   "cell_type": "code",
   "execution_count": null,
   "id": "dfd1aa13",
   "metadata": {},
   "outputs": [],
   "source": [
    "n=int(input())\n",
    "booklist=[]\n",
    "for i in range(n):\n",
    "    booklist.append(input())\n",
    "    \n",
    "booklist_set=set(booklist)\n",
    "for i in range(len(booklist_set)):\n",
    "    for j in range(len(booklist)):\n",
    "        if \n",
    "        "
   ]
  },
  {
   "cell_type": "code",
   "execution_count": null,
   "id": "769bcf15",
   "metadata": {},
   "outputs": [],
   "source": [
    "n=int(input())\n",
    "booklist={} # 딕셔너리\n"
   ]
  },
  {
   "cell_type": "code",
   "execution_count": 11,
   "id": "9ab7b08d",
   "metadata": {},
   "outputs": [
    {
     "name": "stdout",
     "output_type": "stream",
     "text": [
      "3\n",
      "7\n",
      "6\n"
     ]
    }
   ],
   "source": [
    "# 메모리 초과뜸 (이건 1300번 푼 것)\n",
    "n=int(input())\n",
    "k=int(input())\n",
    "b=[]\n",
    "for i in range(1,n+1):\n",
    "    for j in range(1, n+1):\n",
    "        b.append(i*j)\n",
    "        \n",
    "print(b[k])"
   ]
  },
  {
   "cell_type": "code",
   "execution_count": 10,
   "id": "1bd21029",
   "metadata": {},
   "outputs": [
    {
     "data": {
      "text/plain": [
       "[3]"
      ]
     },
     "execution_count": 10,
     "metadata": {},
     "output_type": "execute_result"
    }
   ],
   "source": [
    "a=[]\n",
    "a.append(3)\n",
    "a"
   ]
  },
  {
   "cell_type": "code",
   "execution_count": null,
   "id": "80392889",
   "metadata": {},
   "outputs": [],
   "source": []
  }
 ],
 "metadata": {
  "kernelspec": {
   "display_name": "Python 3 (ipykernel)",
   "language": "python",
   "name": "python3"
  },
  "language_info": {
   "codemirror_mode": {
    "name": "ipython",
    "version": 3
   },
   "file_extension": ".py",
   "mimetype": "text/x-python",
   "name": "python",
   "nbconvert_exporter": "python",
   "pygments_lexer": "ipython3",
   "version": "3.8.13"
  }
 },
 "nbformat": 4,
 "nbformat_minor": 5
}
