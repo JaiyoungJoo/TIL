{
 "cells": [
  {
   "cell_type": "markdown",
   "id": "6ab3b20a",
   "metadata": {},
   "source": [
    "1. 백준 문제 \"음계\" (X)"
   ]
  },
  {
   "cell_type": "code",
   "execution_count": null,
   "id": "d9fe099e",
   "metadata": {},
   "outputs": [],
   "source": [
    "a = list(map(int, input().split(' ')))\n",
    "# 문제 맨 처음 입력 받는게 제일 어려움.\n",
    "\n",
    "# 이렇게 하는 건 생각도 못함.\n",
    "ascending=True\n",
    "descending=True\n",
    "\n",
    "# 난 멍청하게 하나하나 숫자 일치하는지 노가다 하려고 했음\n",
    "for i in range(1,8):\n",
    "    if a[i]>a[i-1]: # 오름차순\n",
    "        descending=False\n",
    "    elif a[i]<a[i-1]: # 내림차순\n",
    "        ascending=False\n",
    "    else:\n",
    "        descending=False\n",
    "        ascending=False\n",
    "\n",
    "# 이렇게 따로 안쓰면 for문 돌때마다 print 함\n",
    "# ascending 이것도 이렇게 하나만 써야 함.\n",
    "if ascending:\n",
    "    print('ascending')\n",
    "elif descending:\n",
    "    print('descending')\n",
    "else:\n",
    "    print('mixed')"
   ]
  },
  {
   "cell_type": "markdown",
   "id": "3a695a99",
   "metadata": {},
   "source": [
    "2. 백준 문제 \"블랙잭\" (X)\n",
    "\n",
    "문제 난이도:하(easy)\n",
    "문제 유형:배열, 완전 탐색\n",
    "시간:20분\n",
    "\n",
    "손도 못대겠음...\n",
    "\n",
    "랜덤으로 뽑는 거 어떻게 하는거임??\n",
    "\n",
    "근데 랜덤 뽑기 안하고 그냥 for문을 3개 돌려버렸네."
   ]
  },
  {
   "cell_type": "code",
   "execution_count": 8,
   "id": "dd1b48df",
   "metadata": {},
   "outputs": [
    {
     "name": "stdout",
     "output_type": "stream",
     "text": [
      "5 21\n",
      "5 6 7 8 9\n",
      "21\n"
     ]
    }
   ],
   "source": [
    "n, m = list(map(int, input().split(' ')))\n",
    "data = list(map(int, input().split(' ')))\n",
    "# 여기까진 잘함.\n",
    "\n",
    "result=0\n",
    "length=len(data)\n",
    "\n",
    "# count=0 # 이건 왜 씀?\n",
    "for i in range(0, length):\n",
    "    for j in range(i+1, length): # i 바로 다음 수부터 for 돌림\n",
    "        for k in range(j+1, length): # j 바로 다음 수부터 for 돌림 i+2 이렇게 하면 안됨.\n",
    "            sum_value=data[i]+data[j]+data[k]\n",
    "            if sum_value<=m:\n",
    "                result=max(result,sum_value) # 와 이렇게 하면 기존의 result랑 sum_value랑 계속 비교함\n",
    "print(result)\n",
    "\n"
   ]
  },
  {
   "cell_type": "markdown",
   "id": "7ee5c8f0",
   "metadata": {},
   "source": [
    "3. 백준 문제 \"스택 수열\" (X)\n",
    "\n",
    "문제 난이도:하(easy)\n",
    "문제 유형:스택, 그리디\n",
    "시간:30분\n",
    "\n",
    "아니 이거 어떻게 하냐 진짜...\n",
    "\n",
    "문제 이해하는 것도 어렵다. 이해는 했지만...\n",
    "\n",
    "애초에 input을 어떻게 줘야 하는거냐?\n",
    "\n",
    "아무리 생각해도 어떻게 해야할 지 모르겠다.\n",
    "\n",
    "아니...해설을 봐도 모르겠는데?\n",
    "\n",
    "exit(0) # 종료 코드 - 이것도 처음 봄 !!\n",
    "\n",
    "print('\\n'.join(result)) # 가능한 경우 출력 - 이건 뭐임!\n",
    "\n",
    "한 줄 씩 출력하기\n",
    "\n",
    "아니 이거 진짜 말도 안됨..."
   ]
  },
  {
   "cell_type": "code",
   "execution_count": 9,
   "id": "d7de3566",
   "metadata": {},
   "outputs": [
    {
     "name": "stdout",
     "output_type": "stream",
     "text": [
      "8\n",
      "4\n",
      "3\n",
      "6\n",
      "8\n",
      "7\n",
      "5\n",
      "2\n",
      "1\n",
      "+\n",
      "+\n",
      "+\n",
      "+\n",
      "-\n",
      "-\n",
      "+\n",
      "+\n",
      "-\n",
      "+\n",
      "+\n",
      "-\n",
      "-\n",
      "-\n",
      "-\n",
      "-\n"
     ]
    }
   ],
   "source": [
    "n = int(input()) # 이건 알겠음.\n",
    "\n",
    "count=1\n",
    "stack=[] # 스택을 쌓을 리스트\n",
    "result=[] # 결과로 추출할 리스트\n",
    "\n",
    "for i in range(1, n+1): # n개 만큼의 data를 만들기 위함\n",
    "    data=int(input()) \n",
    "    while count<= data: # 입력 받은 데이터에 도달할 때까지 삽입, 오름차순으로 하나씩 넣는 건가\n",
    "        stack.append(count)\n",
    "        count+=1\n",
    "        result.append('+') # count 하나씩 넣을 때마다 result에 '+' 넣음\n",
    "        # count가 data보다 커지면 while 나감\n",
    "    if stack[-1]==data: #마지막에 넣은 숫자가 data랑 같을 때\n",
    "        stack.pop() # 마지막 숫자 빼냄\n",
    "        result.append('-')\n",
    "    else: # 불가능한 경우\n",
    "        print('NO')\n",
    "        exit(0) # 종료 코드 - 이것도 처음 봄 !!\n",
    "        \n",
    "print('\\n'.join(result)) # 가능한 경우 출력 - 이건 뭐임!\n",
    "# 한 줄 씩 출력하기\n"
   ]
  },
  {
   "cell_type": "markdown",
   "id": "6e386de5",
   "metadata": {},
   "source": [
    "4. 백준 문제 \"프린터 큐\" (X)\n",
    "\n",
    "문제 난이도:하(easy)\n",
    "문제 유형:큐, 구현, 그리디\n",
    "시간:25분\n",
    "\n",
    "- 데이터의 개수(N<=100)가 많지 않으므로, 단순히 문제에서 요구하는 대로 구현\n",
    "- 현재 리스트에서 가장 큰 수가 앞에 올 때까지 회전시킨 뒤에 추출\n",
    "- 가장 큰 수가 M 이면서 가장 앞에 있을 때 프로그램을 종료\n",
    "\n",
    "미쳤다...이걸 어떻게 하냐 진짜...\n",
    "\n"
   ]
  },
  {
   "cell_type": "code",
   "execution_count": 11,
   "id": "f40a998f",
   "metadata": {},
   "outputs": [
    {
     "name": "stdout",
     "output_type": "stream",
     "text": [
      "3\n",
      "1 0\n",
      "5\n",
      "1\n",
      "4 2\n",
      "1 2 3 4\n",
      "2\n",
      "6 0\n",
      "1 1 9 1 1 1\n",
      "5\n"
     ]
    }
   ],
   "source": [
    "test_case=int(input())\n",
    "for _ in range(test_case):\n",
    "    n, m = list(map(int, input().split(' '))) # 여기서 n은 필요 없음.\n",
    "    queue = list(map(int, input().split(' '))) # 여기까지 대충 할 수 있음\n",
    "    queue = [(i, idx) for idx, i in enumerate(queue)] # 이게 대박임...\n",
    "    # 앞에 중요도, 뒤에 순서가 들어감.\n",
    "    \n",
    "    count=0 # 인쇄 횟수\n",
    "    while True: # 무한 반복\n",
    "        if queue[0][0] == max(queue, key=lambda x:x[0])[0]:\n",
    "        # 큐의 맨 앞의 중요도가 max(queue, key=lambda x:x[0])[0] 이게 뭐임\n",
    "        # queue가 튜플이고 key라는 인자를 기준으로 max 값을 구함.\n",
    "        # key가 되는 값이 튜플임. 이 튜플의 앞의 값을 기준으로 함.\n",
    "        # 그럼 max값이( , ) 이렇게 튜플로 나오는데 그 앞에 있는 값\n",
    "        # 큐의 가장 큰 중요도와 동일 하다면?\n",
    "            count+=1\n",
    "            if queue[0][1] == m: # 찾고자 하는 순서\n",
    "                print(count)\n",
    "                break\n",
    "            else:\n",
    "                queue.pop(0) # 찾으려는게 아니면 인쇄하고 끝\n",
    "        else:\n",
    "            queue.append(queue.pop(0)) # 최대값이 아니면 뽑아서 맨 위에 붙임\n",
    "            # 이게 대박"
   ]
  },
  {
   "cell_type": "markdown",
   "id": "5721745a",
   "metadata": {},
   "source": [
    "5. 백준 문제 \"키로거\" (X)\n",
    "\n",
    "문제 난이도:중(medium)\n",
    "문제 유형:스택, 구현, 그리디\n",
    "시간:40분\n",
    "\n",
    "1. 문자열 크기가 최대 1,000,000이므로 시뮬레이션 방식으로는 불가능\n",
    "2. 스택을 활용하여 선형시간 O(n) 문제를 해결할 수 있는 알고리즘을 설계\n",
    "\n",
    "1. 스택 2개를 만들고, 스택 2개의 중간 지점을 커서(cursor)로 간주\n",
    "2. 문자입력:왼쪽 스택에 원소 삽입\n",
    "3. -입력:왼쪽 스택에서 원소를 삭제\n",
    "4. <입력:왼쪽 스택에서 오른쪽 스택으로 원소를 이동\n",
    "5. >입력:오른쪽 스택에서 왼쪽 스택으로 원소 이동\n",
    "\n",
    "이거 백준에서 출력 초과라고 나옴 \n",
    "\n",
    "이유를 모름"
   ]
  },
  {
   "cell_type": "code",
   "execution_count": 12,
   "id": "46c95552",
   "metadata": {
    "scrolled": true
   },
   "outputs": [
    {
     "name": "stdout",
     "output_type": "stream",
     "text": [
      "2\n",
      "widjao%@%@^^\n",
      "#$@$@FFWFF\n"
     ]
    }
   ],
   "source": [
    "test_case=int(input())\n",
    "for _ in range(test_case):\n",
    "    left_stack=[]\n",
    "    right_stack=[]\n",
    "    data=input()\n",
    "    for i in data:\n",
    "        if i == '-':\n",
    "            if left_stack: # 이거 왜 굳이 if를 써야 하나???꼭 써야 한다.\n",
    "                # if를 써야 비어있지 않을 때만 pop을 한다\n",
    "                left_stack.pop()\n",
    "            elif i == '<':\n",
    "                if left_stack:\n",
    "                    right_stack.append(left_stack.pop())\n",
    "                    # 커서가 왼쪽으로 이동하면 왼쪽에 있는 글자 하나가 오른쪽으로 이동이랑 같다.\n",
    "            elif i == '>':\n",
    "                if right_stack:\n",
    "                    left_stack.append(right_stack.pop())\n",
    "            else:\n",
    "                left_stack.append(i)\n",
    "        left_stack.extend(reversed(right_stack)) # 이건 뭐임!\n",
    "        # 뒤집어서 왼쪽에 오른쪽을 붙여야 한다.\n",
    "        print(''.join(left_stack)) # 이건 왜 한거지?\n",
    "        \n",
    "    \n",
    "    "
   ]
  },
  {
   "cell_type": "markdown",
   "id": "c3b7a323",
   "metadata": {},
   "source": [
    "6. 백준 문제 \"SHA-256\" (X) - 대표적인 해시 알고리즘 중 하나\n",
    "\n",
    "문제 난이도:하(easy)\n",
    "문제 유형:해시, 구현\n",
    "시간:15분\n",
    "\n",
    "1. hashlib 의 sha256 함수를 이용하면 SHA 256 해시를 구할 수 있다.\n",
    "2. hashlib.sha256(문자열의 바이트 객체).hexdigest() : 해시 결과 문자열\n",
    "\n",
    "이건 진심 뭐 어쩌라는 건지?\n"
   ]
  },
  {
   "cell_type": "code",
   "execution_count": 18,
   "id": "47aa0eb6",
   "metadata": {},
   "outputs": [
    {
     "name": "stdout",
     "output_type": "stream",
     "text": [
      "<<bd<aff\n"
     ]
    },
    {
     "data": {
      "text/plain": [
       "['', '', 'bd', 'aff']"
      ]
     },
     "execution_count": 18,
     "metadata": {},
     "output_type": "execute_result"
    }
   ],
   "source": [
    "import hashlib\n",
    "\n",
    "input_data = input() # 아무거나 입력 받고\n",
    "encoded_data = input_data.encode() # 입력 받은 것의 바이트 객체를 불러오고\n",
    "# hashlib.sha256(encoded_data) 인코드 된 걸 sha256 함수에 넣으면 해시 객체 만들어짐\n",
    "result = hashlib.sha256(encoded_data).hexdigest() # 해시 결과를 의미하는 문자열이 된다.\n",
    "print(result)"
   ]
  },
  {
   "cell_type": "markdown",
   "id": "0c135c8c",
   "metadata": {},
   "source": [
    "7. 백준 문제 \"수 찾기\" (X) \n",
    "\n",
    "문제 난이도:하(easy)\n",
    "문제 유형:해시, 배열, 구현 - 파이썬은 그냥 딕셔너리 하면 해시처럼 된다.\n",
    "시간:20분\n",
    "\n",
    "\n",
    "이건 진심 뭐 어쩌라는 건지?\n"
   ]
  },
  {
   "cell_type": "code",
   "execution_count": null,
   "id": "9d8cfcd9",
   "metadata": {},
   "outputs": [],
   "source": [
    "6. 백준 문제 \"SHA-256\" (X) - 대표적인 해시 알고리즘 중 하나\n",
    "\n",
    "문제 난이도:하(easy)\n",
    "문제 유형:해시, 구현\n",
    "시간:15분\n",
    "\n",
    "1. hashlib 의 sha256 함수를 이용하면 SHA 256 해시를 구할 수 있다.\n",
    "2. hashlib.sha256(문자열의 바이트 객체).hexdigest() : 해시 결과 문자열\n",
    "\n",
    "이건 진심 뭐 어쩌라는 건지?\n"
   ]
  }
 ],
 "metadata": {
  "kernelspec": {
   "display_name": "Python 3 (ipykernel)",
   "language": "python",
   "name": "python3"
  },
  "language_info": {
   "codemirror_mode": {
    "name": "ipython",
    "version": 3
   },
   "file_extension": ".py",
   "mimetype": "text/x-python",
   "name": "python",
   "nbconvert_exporter": "python",
   "pygments_lexer": "ipython3",
   "version": "3.8.13"
  }
 },
 "nbformat": 4,
 "nbformat_minor": 5
}
